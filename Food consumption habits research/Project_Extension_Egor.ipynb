{
 "cells": [
  {
   "cell_type": "code",
   "execution_count": 1,
   "metadata": {},
   "outputs": [],
   "source": [
    "#%matplotlib\n",
    "import pandas as pd\n",
    "import matplotlib.pyplot as plt\n",
    "import numpy as np\n",
    "import seaborn as sns  # needed for heatmap\n",
    "from os.path import join\n",
    "from sklearn.linear_model import LinearRegression\n",
    "from sklearn.model_selection import train_test_split\n",
    "import statsmodels.formula.api as smf\n",
    "import math\n",
    "plt.rcParams['figure.figsize'] = [7, 5]"
   ]
  },
  {
   "cell_type": "code",
   "execution_count": 2,
   "metadata": {},
   "outputs": [
    {
     "data": {
      "text/html": [
       "<div>\n",
       "<style scoped>\n",
       "    .dataframe tbody tr th:only-of-type {\n",
       "        vertical-align: middle;\n",
       "    }\n",
       "\n",
       "    .dataframe tbody tr th {\n",
       "        vertical-align: top;\n",
       "    }\n",
       "\n",
       "    .dataframe thead th {\n",
       "        text-align: right;\n",
       "    }\n",
       "</style>\n",
       "<table border=\"1\" class=\"dataframe\">\n",
       "  <thead>\n",
       "    <tr style=\"text-align: right;\">\n",
       "      <th></th>\n",
       "      <th>weight</th>\n",
       "      <th>volume</th>\n",
       "      <th>fat</th>\n",
       "      <th>saturate</th>\n",
       "      <th>salt</th>\n",
       "      <th>sugar</th>\n",
       "      <th>protein</th>\n",
       "      <th>carb</th>\n",
       "      <th>fibre</th>\n",
       "      <th>alcohol</th>\n",
       "      <th>...</th>\n",
       "      <th>Level 2 qualifications</th>\n",
       "      <th>Apprenticeship qualifications</th>\n",
       "      <th>Level 3 qualifications</th>\n",
       "      <th>Level &gt;=4 qualifications</th>\n",
       "      <th>Other qualifications</th>\n",
       "      <th>% of 16+ who are schoolchildren and full-time students: Age 18 and over</th>\n",
       "      <th>Bad Health</th>\n",
       "      <th>Limited activities</th>\n",
       "      <th>Well-Being</th>\n",
       "      <th>IOD AVG</th>\n",
       "    </tr>\n",
       "  </thead>\n",
       "  <tbody>\n",
       "    <tr>\n",
       "      <th>E05000026</th>\n",
       "      <td>449.535137</td>\n",
       "      <td>125.960833</td>\n",
       "      <td>9.488797</td>\n",
       "      <td>3.693721</td>\n",
       "      <td>0.58324</td>\n",
       "      <td>10.966213</td>\n",
       "      <td>4.97756</td>\n",
       "      <td>19.381951</td>\n",
       "      <td>1.564721</td>\n",
       "      <td>0.198172</td>\n",
       "      <td>...</td>\n",
       "      <td>0.115</td>\n",
       "      <td>0.011</td>\n",
       "      <td>0.085</td>\n",
       "      <td>0.345</td>\n",
       "      <td>0.167</td>\n",
       "      <td>14.3</td>\n",
       "      <td>4.3</td>\n",
       "      <td>5.1</td>\n",
       "      <td>7.897959</td>\n",
       "      <td>0.694138</td>\n",
       "    </tr>\n",
       "  </tbody>\n",
       "</table>\n",
       "<p>1 rows × 66 columns</p>\n",
       "</div>"
      ],
      "text/plain": [
       "               weight      volume       fat  saturate     salt      sugar  \\\n",
       "E05000026  449.535137  125.960833  9.488797  3.693721  0.58324  10.966213   \n",
       "\n",
       "           protein       carb     fibre   alcohol  ...  \\\n",
       "E05000026  4.97756  19.381951  1.564721  0.198172  ...   \n",
       "\n",
       "           Level 2 qualifications  Apprenticeship qualifications  \\\n",
       "E05000026                   0.115                          0.011   \n",
       "\n",
       "           Level 3 qualifications  Level >=4 qualifications  \\\n",
       "E05000026                   0.085                     0.345   \n",
       "\n",
       "           Other qualifications  \\\n",
       "E05000026                 0.167   \n",
       "\n",
       "           % of 16+ who are schoolchildren and full-time students: Age 18 and over  \\\n",
       "E05000026                                               14.3                         \n",
       "\n",
       "           Bad Health  Limited activities  Well-Being   IOD AVG  \n",
       "E05000026         4.3                 5.1    7.897959  0.694138  \n",
       "\n",
       "[1 rows x 66 columns]"
      ]
     },
     "execution_count": 2,
     "metadata": {},
     "output_type": "execute_result"
    }
   ],
   "source": [
    "# define paths for data\n",
    "FOLDER_PATH = 'data'\n",
    "PREPROCESSED_PATH = 'preprocessed'\n",
    "DATASET_NAME='df_ward_atlas.csv'\n",
    "DATASET_PATH = join(FOLDER_PATH, PREPROCESSED_PATH, DATASET_NAME)\n",
    "\n",
    "# load the data sets\n",
    "df_ward_atlas=pd.read_csv(DATASET_PATH,index_col=0)\n",
    "df_ward_atlas.head(1)"
   ]
  },
  {
   "cell_type": "markdown",
   "metadata": {},
   "source": [
    "# Dataset split"
   ]
  },
  {
   "cell_type": "markdown",
   "metadata": {},
   "source": [
    "We use these features from the Atlas dataset to predict food consumption habits"
   ]
  },
  {
   "cell_type": "code",
   "execution_count": 3,
   "metadata": {},
   "outputs": [],
   "source": [
    "age_cols = ['Aged 0-15', 'Aged 16-64', 'Aged 65+'] #sum to 1\n",
    "ethnicities_cols = ['White', 'Mixed', 'Asian or Asian British', 'Black or Black British', 'Other'] #sum to 1\n",
    "religion_cols = ['Christian', 'Buddhist', 'Hindu', 'Jewish', 'Muslim', 'Sikh',\n",
    "       'No religion', 'Other religions', 'Religion not stated'] # sum to 1\n",
    "born_cols = ['Born in UK', 'Not Born in UK'] # sum to 1\n",
    "wealth_cols = ['Household Income Median', 'IOD AVG'] #'Well-Being'\n",
    "qualilication_cols = ['No qualifications', 'Level 1 qualifications', 'Level 2 qualifications',\n",
    "       'Apprenticeship qualifications', 'Level 3 qualifications',\n",
    "       'Level >=4 qualifications', 'Other qualifications'] # sum to 1 \n",
    "disability_cols = ['Bad Health', 'Limited activities']\n",
    "all_features = age_cols + ethnicities_cols + religion_cols + born_cols + wealth_cols + qualilication_cols + disability_cols"
   ]
  },
  {
   "cell_type": "markdown",
   "metadata": {},
   "source": [
    "These columns refer to absolute values of nutrients. We will use them as labels for some of the models"
   ]
  },
  {
   "cell_type": "code",
   "execution_count": 4,
   "metadata": {},
   "outputs": [],
   "source": [
    "labels_abs = ['energy_fat', 'energy_saturate', 'energy_sugar', 'energy_protein',\n",
    "                 'energy_carb', 'energy_fibre', 'energy_alcohol', 'energy_tot']"
   ]
  },
  {
   "cell_type": "markdown",
   "metadata": {},
   "source": [
    "One can also predict not absolute values, but fractions of nutrients to build a distribution of all the nutrients. While predicting the distribution model does not have to predict the total energy of the typical product. Therefore it has an opportunity to extract more properties of the nutrients. Even if we care about total values we can train the model to predict the distribution and total energy separately, so it won't need to apply normalization of distribution to the value of total energy."
   ]
  },
  {
   "cell_type": "code",
   "execution_count": 7,
   "metadata": {},
   "outputs": [],
   "source": [
    "labels_f=['f_energy_fat','f_energy_saturate','f_energy_sugar','f_energy_protein','f_energy_carb','f_energy_fibre','f_energy_alcohol']"
   ]
  },
  {
   "cell_type": "code",
   "execution_count": 8,
   "metadata": {},
   "outputs": [],
   "source": [
    "all_labels=labels_abs+labels_f"
   ]
  },
  {
   "cell_type": "markdown",
   "metadata": {},
   "source": [
    "# Searching for the most important features\n",
    "\n",
    "If we want to extract the interesting food habits of different demographic groups we need to look for those features that make the highest impact and analyze relations between them. One of the common ways to do so is to train linear regression to predict a given nutrient based on demographic features. Consideration of linear regression coefficients will give us insights on what features make the highest impact in consumption rates of the nutrient predicted, along with knowledge of whether this feature increases the nutrient use or decreases it. However, to obtain credible results we need to massage the data in the first place.  \n",
    "\n",
    "## Massaging the data"
   ]
  },
  {
   "cell_type": "code",
   "execution_count": 9,
   "metadata": {},
   "outputs": [],
   "source": [
    "from sklearn.metrics import r2_score\n",
    "\n",
    "from sklearn.multioutput import MultiOutputRegressor\n",
    "from sklearn.ensemble import GradientBoostingRegressor\n",
    "\n",
    "from sklearn.linear_model import LinearRegression\n",
    "\n",
    "def Train_model(Model,x_data,y_data):\n",
    "    X_train, X_test, y_train, y_test = train_test_split(\n",
    "        x_data, y_data, test_size = 0.2)\n",
    "    Model.fit(X_train,y_train)\n",
    "    y_pred=Model.predict(X_test)\n",
    "    return Model,r2_score(y_test,y_pred)"
   ]
  },
  {
   "cell_type": "markdown",
   "metadata": {},
   "source": [
    "### Unreliable results?"
   ]
  },
  {
   "cell_type": "code",
   "execution_count": 10,
   "metadata": {},
   "outputs": [
    {
     "name": "stdout",
     "output_type": "stream",
     "text": [
      "Number of input features  30\n"
     ]
    }
   ],
   "source": [
    "print('Number of input features ',len(all_features))"
   ]
  },
  {
   "cell_type": "code",
   "execution_count": 11,
   "metadata": {},
   "outputs": [
    {
     "name": "stdout",
     "output_type": "stream",
     "text": [
      "Number of notes in the dataset  483\n"
     ]
    }
   ],
   "source": [
    "print('Number of notes in the dataset ',len(df_ward_atlas))"
   ]
  },
  {
   "cell_type": "markdown",
   "metadata": {},
   "source": [
    "So with our linear regression, we have 30 coefficients for demographic features plus 1 bias to predict. And we have only 483 notes, which, moreover, have to be split into train and test datasets.\n",
    "\n",
    "We want our linear regressions to extract general dependencies between features and labels, however, given such a small relative number of notes in the dataset, there can be troubles solving this problem. We can end up with cases when general dependence is not explicit in a given train dataset, so the model extracts relations that are of a high value for this specific train dataset. It is needless to say that an overfitted model that is highly dependent on a random splitting dataset is not the thing we are eager to obtain.\n",
    "\n",
    "In order to consider only reliable results for each nutrient, we made 1000 pairs of randomly split train/test datasets. We trained, respectively, 1000 models and evaluated confidence intervals of R^2 score on the corresponding test datasets. Finally, we use quite a \n",
    "heuristic approach to evaluating reliability. We treat the model as reliable if its 95% confidence intervals cover a range of R^2 values less than 1/4. So the random dataset split governs no more than a fourth of the variance explained by the model."
   ]
  },
  {
   "cell_type": "markdown",
   "metadata": {},
   "source": [
    "#### Nutrien absolute values"
   ]
  },
  {
   "cell_type": "code",
   "execution_count": 25,
   "metadata": {},
   "outputs": [
    {
     "name": "stderr",
     "output_type": "stream",
     "text": [
      "100%|██████████| 1000/1000 [01:05<00:00, 15.98it/s]\n"
     ]
    }
   ],
   "source": [
    "from tqdm import tqdm\n",
    "\n",
    "x_data = df_ward_atlas[all_features]\n",
    "y_data = df_ward_atlas[labels_abs]\n",
    "\n",
    "#Train thousand models for predicting each nutrient to estimate R^2 confidence intervals \n",
    "Linear_models_scores=np.zeros((1000,len(y_data.columns.values)))\n",
    "for i in tqdm(range(1000)):\n",
    "    Linear_scores=[]\n",
    "\n",
    "    for column in y_data.columns.values:\n",
    "        Model,R_2=Train_model(LinearRegression(),x_data,y_data[column])\n",
    "        Linear_scores.append(R_2)\n",
    "    Linear_models_scores[i]=Linear_scores"
   ]
  },
  {
   "cell_type": "markdown",
   "metadata": {},
   "source": [
    "#### R^2 scores histograms for target labels"
   ]
  },
  {
   "cell_type": "code",
   "execution_count": 27,
   "metadata": {},
   "outputs": [
    {
     "data": {
      "image/png": "[encoded data removed]",
      "text/plain": [
       "<Figure size 1440x720 with 8 Axes>"
      ]
     },
     "metadata": {
      "needs_background": "light"
     },
     "output_type": "display_data"
    }
   ],
   "source": [
    "# plotting histograms for every feature\n",
    "fig, axs = plt.subplots(nrows=2, ncols=4, figsize=(20, 10))\n",
    "axs_flat = axs.flatten()\n",
    "Nutrient_names=[ x[7:] for x in y_data.columns.values]\n",
    "Nutrient_names[-1]='total energy'\n",
    "\n",
    "# plot from [2:] since first two columns are not numerical values\n",
    "for idx in range(Linear_models_scores.shape[1]):\n",
    "    axs_flat[idx].hist(Linear_models_scores[:,idx], bins=20)\n",
    "    axs_flat[idx].set_title(Nutrient_names[idx],{'fontsize': 20})\n",
    "    axs_flat[idx].set_yticks([])\n",
    "    axs_flat[idx].tick_params(axis='x', which='major', labelsize=15)\n",
    "fig.tight_layout()\n",
    "\n",
    "#plt.savefig('Linear_reg_absolute_scores_distr')\n",
    "plt.show()"
   ]
  },
  {
   "cell_type": "markdown",
   "metadata": {},
   "source": [
    "#### Confidence intervals of R^2 scores"
   ]
  },
  {
   "cell_type": "code",
   "execution_count": 28,
   "metadata": {},
   "outputs": [
    {
     "data": {
      "text/html": [
       "<div>\n",
       "<style scoped>\n",
       "    .dataframe tbody tr th:only-of-type {\n",
       "        vertical-align: middle;\n",
       "    }\n",
       "\n",
       "    .dataframe tbody tr th {\n",
       "        vertical-align: top;\n",
       "    }\n",
       "\n",
       "    .dataframe thead th {\n",
       "        text-align: right;\n",
       "    }\n",
       "</style>\n",
       "<table border=\"1\" class=\"dataframe\">\n",
       "  <thead>\n",
       "    <tr style=\"text-align: right;\">\n",
       "      <th></th>\n",
       "      <th>R^2</th>\n",
       "      <th>[0.025</th>\n",
       "      <th>0.975]</th>\n",
       "      <th>CI_high-CI_low</th>\n",
       "      <th>std</th>\n",
       "    </tr>\n",
       "  </thead>\n",
       "  <tbody>\n",
       "    <tr>\n",
       "      <th>energy_fat</th>\n",
       "      <td>0.315888</td>\n",
       "      <td>0.122844</td>\n",
       "      <td>0.499312</td>\n",
       "      <td>0.376468</td>\n",
       "      <td>0.099669</td>\n",
       "    </tr>\n",
       "    <tr>\n",
       "      <th>energy_saturate</th>\n",
       "      <td>0.310172</td>\n",
       "      <td>0.080184</td>\n",
       "      <td>0.506659</td>\n",
       "      <td>0.426474</td>\n",
       "      <td>0.109262</td>\n",
       "    </tr>\n",
       "    <tr>\n",
       "      <th>energy_sugar</th>\n",
       "      <td>0.597647</td>\n",
       "      <td>0.385188</td>\n",
       "      <td>0.714264</td>\n",
       "      <td>0.329076</td>\n",
       "      <td>0.095110</td>\n",
       "    </tr>\n",
       "    <tr>\n",
       "      <th>energy_protein</th>\n",
       "      <td>0.591099</td>\n",
       "      <td>0.427146</td>\n",
       "      <td>0.708846</td>\n",
       "      <td>0.281700</td>\n",
       "      <td>0.071367</td>\n",
       "    </tr>\n",
       "    <tr>\n",
       "      <th>energy_carb</th>\n",
       "      <td>0.762022</td>\n",
       "      <td>0.671028</td>\n",
       "      <td>0.830479</td>\n",
       "      <td>0.159452</td>\n",
       "      <td>0.039097</td>\n",
       "    </tr>\n",
       "    <tr>\n",
       "      <th>energy_fibre</th>\n",
       "      <td>0.580041</td>\n",
       "      <td>0.411083</td>\n",
       "      <td>0.690345</td>\n",
       "      <td>0.279262</td>\n",
       "      <td>0.073832</td>\n",
       "    </tr>\n",
       "    <tr>\n",
       "      <th>energy_alcohol</th>\n",
       "      <td>0.370294</td>\n",
       "      <td>0.175698</td>\n",
       "      <td>0.501518</td>\n",
       "      <td>0.325819</td>\n",
       "      <td>0.085605</td>\n",
       "    </tr>\n",
       "    <tr>\n",
       "      <th>energy_tot</th>\n",
       "      <td>0.650278</td>\n",
       "      <td>0.507820</td>\n",
       "      <td>0.755314</td>\n",
       "      <td>0.247494</td>\n",
       "      <td>0.066405</td>\n",
       "    </tr>\n",
       "  </tbody>\n",
       "</table>\n",
       "</div>"
      ],
      "text/plain": [
       "                      R^2    [0.025    0.975]  CI_high-CI_low       std\n",
       "energy_fat       0.315888  0.122844  0.499312        0.376468  0.099669\n",
       "energy_saturate  0.310172  0.080184  0.506659        0.426474  0.109262\n",
       "energy_sugar     0.597647  0.385188  0.714264        0.329076  0.095110\n",
       "energy_protein   0.591099  0.427146  0.708846        0.281700  0.071367\n",
       "energy_carb      0.762022  0.671028  0.830479        0.159452  0.039097\n",
       "energy_fibre     0.580041  0.411083  0.690345        0.279262  0.073832\n",
       "energy_alcohol   0.370294  0.175698  0.501518        0.325819  0.085605\n",
       "energy_tot       0.650278  0.507820  0.755314        0.247494  0.066405"
      ]
     },
     "execution_count": 28,
     "metadata": {},
     "output_type": "execute_result"
    }
   ],
   "source": [
    "import statsmodels.stats.api as sms\n",
    "\n",
    "df_R2_scores=pd.DataFrame(columns=['R^2','[0.025','0.975]','CI_high-CI_low','std'])\n",
    "\n",
    "#Get all the R^2 properties: median, 5% confidence intervals\n",
    "#95% variance of R^2 and its standard deviation\n",
    "for i,label in enumerate(labels_abs):\n",
    "    R2_scores=np.sort(Linear_models_scores[:,i])\n",
    "    i_low=int(np.round(len(R2_scores)*0.025))\n",
    "    i_high=int(np.round(len(R2_scores)*0.975))\n",
    "    df_R2_scores.loc[label]=[np.median(R2_scores),R2_scores[i_low],R2_scores[i_high],R2_scores[i_high]-R2_scores[i_low],R2_scores.std()]\n",
    "\n",
    "df_R2_scores"
   ]
  },
  {
   "cell_type": "markdown",
   "metadata": {},
   "source": [
    "#### Fractures of nutrient values"
   ]
  },
  {
   "cell_type": "markdown",
   "metadata": {},
   "source": [
    "Let us inspect the performance of fractures prediction using the same procedure"
   ]
  },
  {
   "cell_type": "code",
   "execution_count": 29,
   "metadata": {},
   "outputs": [
    {
     "name": "stderr",
     "output_type": "stream",
     "text": [
      "100%|██████████| 1000/1000 [01:02<00:00, 13.24it/s]\n"
     ]
    }
   ],
   "source": [
    "x_data = df_ward_atlas[all_features]\n",
    "y_data = df_ward_atlas[labels_f]\n",
    "\n",
    "from tqdm import tqdm\n",
    "Linear_models_scores=np.zeros((1000,len(y_data.columns.values)))\n",
    "for i in tqdm(range(1000)):\n",
    "    Linear_scores=[]\n",
    "\n",
    "    for column in y_data.columns.values:\n",
    "        Model,R_2=Train_model(LinearRegression(),x_data,y_data[column])\n",
    "        Linear_scores.append(R_2)\n",
    "    Linear_models_scores[i]=Linear_scores"
   ]
  },
  {
   "cell_type": "code",
   "execution_count": 30,
   "metadata": {},
   "outputs": [
    {
     "data": {
      "text/html": [
       "<div>\n",
       "<style scoped>\n",
       "    .dataframe tbody tr th:only-of-type {\n",
       "        vertical-align: middle;\n",
       "    }\n",
       "\n",
       "    .dataframe tbody tr th {\n",
       "        vertical-align: top;\n",
       "    }\n",
       "\n",
       "    .dataframe thead th {\n",
       "        text-align: right;\n",
       "    }\n",
       "</style>\n",
       "<table border=\"1\" class=\"dataframe\">\n",
       "  <thead>\n",
       "    <tr style=\"text-align: right;\">\n",
       "      <th></th>\n",
       "      <th>R^2</th>\n",
       "      <th>[0.025</th>\n",
       "      <th>0.975]</th>\n",
       "      <th>CI_high-CI_low</th>\n",
       "      <th>std</th>\n",
       "    </tr>\n",
       "  </thead>\n",
       "  <tbody>\n",
       "    <tr>\n",
       "      <th>f_energy_fat</th>\n",
       "      <td>0.420794</td>\n",
       "      <td>0.231422</td>\n",
       "      <td>0.594680</td>\n",
       "      <td>0.363258</td>\n",
       "      <td>0.090194</td>\n",
       "    </tr>\n",
       "    <tr>\n",
       "      <th>f_energy_saturate</th>\n",
       "      <td>0.422660</td>\n",
       "      <td>0.240721</td>\n",
       "      <td>0.557807</td>\n",
       "      <td>0.317086</td>\n",
       "      <td>0.082881</td>\n",
       "    </tr>\n",
       "    <tr>\n",
       "      <th>f_energy_sugar</th>\n",
       "      <td>0.399851</td>\n",
       "      <td>0.233098</td>\n",
       "      <td>0.541822</td>\n",
       "      <td>0.308723</td>\n",
       "      <td>0.075838</td>\n",
       "    </tr>\n",
       "    <tr>\n",
       "      <th>f_energy_protein</th>\n",
       "      <td>0.687151</td>\n",
       "      <td>0.563066</td>\n",
       "      <td>0.777783</td>\n",
       "      <td>0.214717</td>\n",
       "      <td>0.055061</td>\n",
       "    </tr>\n",
       "    <tr>\n",
       "      <th>f_energy_carb</th>\n",
       "      <td>0.713047</td>\n",
       "      <td>0.603863</td>\n",
       "      <td>0.786853</td>\n",
       "      <td>0.182989</td>\n",
       "      <td>0.047044</td>\n",
       "    </tr>\n",
       "    <tr>\n",
       "      <th>f_energy_fibre</th>\n",
       "      <td>0.760597</td>\n",
       "      <td>0.668537</td>\n",
       "      <td>0.835393</td>\n",
       "      <td>0.166856</td>\n",
       "      <td>0.045519</td>\n",
       "    </tr>\n",
       "    <tr>\n",
       "      <th>f_energy_alcohol</th>\n",
       "      <td>0.427914</td>\n",
       "      <td>0.226263</td>\n",
       "      <td>0.557229</td>\n",
       "      <td>0.330966</td>\n",
       "      <td>0.084442</td>\n",
       "    </tr>\n",
       "  </tbody>\n",
       "</table>\n",
       "</div>"
      ],
      "text/plain": [
       "                        R^2    [0.025    0.975]  CI_high-CI_low       std\n",
       "f_energy_fat       0.420794  0.231422  0.594680        0.363258  0.090194\n",
       "f_energy_saturate  0.422660  0.240721  0.557807        0.317086  0.082881\n",
       "f_energy_sugar     0.399851  0.233098  0.541822        0.308723  0.075838\n",
       "f_energy_protein   0.687151  0.563066  0.777783        0.214717  0.055061\n",
       "f_energy_carb      0.713047  0.603863  0.786853        0.182989  0.047044\n",
       "f_energy_fibre     0.760597  0.668537  0.835393        0.166856  0.045519\n",
       "f_energy_alcohol   0.427914  0.226263  0.557229        0.330966  0.084442"
      ]
     },
     "execution_count": 30,
     "metadata": {},
     "output_type": "execute_result"
    }
   ],
   "source": [
    "import statsmodels.stats.api as sms\n",
    "\n",
    "df_R2_scores_f=pd.DataFrame(columns=['R^2','[0.025','0.975]','CI_high-CI_low','std'])\n",
    "\n",
    "for i,label in enumerate(labels_f):\n",
    "    R2_scores=np.sort(Linear_models_scores[:,i])\n",
    "    i_low=int(np.round(len(R2_scores)*0.025))\n",
    "    i_high=int(np.round(len(R2_scores)*0.975))\n",
    "    df_R2_scores_f.loc[label]=[np.median(R2_scores),R2_scores[i_low],R2_scores[i_high],R2_scores[i_high]-R2_scores[i_low],R2_scores.std()]\n",
    "\n",
    "df_R2_scores_f"
   ]
  },
  {
   "cell_type": "markdown",
   "metadata": {},
   "source": [
    "#### Selecting reliable models\n",
    "Reliable models are those that have CI_high-CI_low<0.25"
   ]
  },
  {
   "cell_type": "code",
   "execution_count": 31,
   "metadata": {},
   "outputs": [
    {
     "data": {
      "text/html": [
       "<div>\n",
       "<style scoped>\n",
       "    .dataframe tbody tr th:only-of-type {\n",
       "        vertical-align: middle;\n",
       "    }\n",
       "\n",
       "    .dataframe tbody tr th {\n",
       "        vertical-align: top;\n",
       "    }\n",
       "\n",
       "    .dataframe thead th {\n",
       "        text-align: right;\n",
       "    }\n",
       "</style>\n",
       "<table border=\"1\" class=\"dataframe\">\n",
       "  <thead>\n",
       "    <tr style=\"text-align: right;\">\n",
       "      <th></th>\n",
       "      <th>R^2</th>\n",
       "      <th>[0.025</th>\n",
       "      <th>0.975]</th>\n",
       "      <th>CI_high-CI_low</th>\n",
       "      <th>std</th>\n",
       "    </tr>\n",
       "  </thead>\n",
       "  <tbody>\n",
       "    <tr>\n",
       "      <th>energy_carb</th>\n",
       "      <td>0.762022</td>\n",
       "      <td>0.671028</td>\n",
       "      <td>0.830479</td>\n",
       "      <td>0.159452</td>\n",
       "      <td>0.039097</td>\n",
       "    </tr>\n",
       "    <tr>\n",
       "      <th>energy_tot</th>\n",
       "      <td>0.650278</td>\n",
       "      <td>0.507820</td>\n",
       "      <td>0.755314</td>\n",
       "      <td>0.247494</td>\n",
       "      <td>0.066405</td>\n",
       "    </tr>\n",
       "    <tr>\n",
       "      <th>f_energy_protein</th>\n",
       "      <td>0.687151</td>\n",
       "      <td>0.563066</td>\n",
       "      <td>0.777783</td>\n",
       "      <td>0.214717</td>\n",
       "      <td>0.055061</td>\n",
       "    </tr>\n",
       "    <tr>\n",
       "      <th>f_energy_carb</th>\n",
       "      <td>0.713047</td>\n",
       "      <td>0.603863</td>\n",
       "      <td>0.786853</td>\n",
       "      <td>0.182989</td>\n",
       "      <td>0.047044</td>\n",
       "    </tr>\n",
       "    <tr>\n",
       "      <th>f_energy_fibre</th>\n",
       "      <td>0.760597</td>\n",
       "      <td>0.668537</td>\n",
       "      <td>0.835393</td>\n",
       "      <td>0.166856</td>\n",
       "      <td>0.045519</td>\n",
       "    </tr>\n",
       "  </tbody>\n",
       "</table>\n",
       "</div>"
      ],
      "text/plain": [
       "                       R^2    [0.025    0.975]  CI_high-CI_low       std\n",
       "energy_carb       0.762022  0.671028  0.830479        0.159452  0.039097\n",
       "energy_tot        0.650278  0.507820  0.755314        0.247494  0.066405\n",
       "f_energy_protein  0.687151  0.563066  0.777783        0.214717  0.055061\n",
       "f_energy_carb     0.713047  0.603863  0.786853        0.182989  0.047044\n",
       "f_energy_fibre    0.760597  0.668537  0.835393        0.166856  0.045519"
      ]
     },
     "execution_count": 31,
     "metadata": {},
     "output_type": "execute_result"
    }
   ],
   "source": [
    "df_Reliable_scores=df_R2_scores.append(df_R2_scores_f)\n",
    "df_Reliable_scores=df_Reliable_scores[df_Reliable_scores['CI_high-CI_low']<0.25]\n",
    "df_Reliable_scores"
   ]
  },
  {
   "cell_type": "markdown",
   "metadata": {},
   "source": [
    "Using such confidence intervals filtering we are left with only those models that with the confidence of 97.5% explain at least half of the variance for a given nutrient, which is for sure refer to general dependence between demographic features and nutrient consumption rate. Moreover, random that refers to dataset split may only add an explanation to half of the remaining variance.  \n",
    "\n",
    "#### supplementing the dataset\n",
    "\n",
    "Luckily, we have all the fractions of nutrients and the total energy. Given the fact that fractions of carbs, protein, and fiber supplemented by fats make up 1 by the definition of a fraction, we can obtain a reliable model for fats as a residual from all the other fraction related reliable models. Moreover, we can get absolute values of nutrients, since we also have a reliable model for the total energy.\n",
    "\n",
    "## Your food is who you are\n",
    "\n",
    "If we are to compare linear regression coefficients for different features we have to be sure that these features initially have the same properties. For example, let us consider two features with the same standard deviations, and the same absolute value of the mean, but opposite sign. If their corresponding linear regression coefficients happen to be the same, we would have to account for initial signs to be opposite in order to understand that actual impacts of the features are also opposite. So why don't we just normalize all the features to have a mean value of 0 and a standard deviation of 1? Such a transformation excludes confusion with signs and makes it clear that the larger the coefficient, the larger the contribution. And considering only those coefficients, that have p_value<0.05 we can be sure of the significance of our results."
   ]
  },
  {
   "cell_type": "code",
   "execution_count": 32,
   "metadata": {},
   "outputs": [],
   "source": [
    "df_norm_features=df_ward_atlas[all_features].copy()\n",
    "\n",
    "#normalizing to mean=0, std=1\n",
    "df_norm_features=df_norm_features.apply(lambda x: (x.values-x.values.mean())/x.values.std(), axis=0)\n",
    "df_norm_features[all_labels]=df_ward_atlas[all_labels]"
   ]
  },
  {
   "cell_type": "code",
   "execution_count": 34,
   "metadata": {},
   "outputs": [
    {
     "name": "stdout",
     "output_type": "stream",
     "text": [
      "Characteristics of all normalized demographic features \n",
      "\n",
      "-0.00 < mean < 0.00 \n",
      "\n",
      "1.00 < standard deviation < 1.00\n"
     ]
    }
   ],
   "source": [
    "norm_features=df_norm_features[all_features]\n",
    "print('Characteristics of all normalized demographic features \\n')\n",
    "print('{:.2f} < mean < {:.2f} \\n'.format(norm_features.mean(axis=0).min(),norm_features.mean(axis=0).max()))\n",
    "print('{:.2f} < standard deviation < {:.2f}'.format(norm_features.std(axis=0).min(),norm_features.std(axis=0).max()))"
   ]
  },
  {
   "cell_type": "code",
   "execution_count": 35,
   "metadata": {},
   "outputs": [],
   "source": [
    "def to_formula(cols):\n",
    "    cols = list(map(lambda s: 'Q(\"{}\")'.format(s), cols))\n",
    "    return ' + '.join(cols)\n",
    "all_features_formula = to_formula(all_features)\n",
    "\n",
    "def get_label_summary(label):\n",
    "    #envoke a model that predicts label by all the demographic features\n",
    "    model = smf.ols(formula='{} ~ {}'.format(label, all_features_formula),\n",
    "              data=df_norm_features)\n",
    "    res = model.fit()\n",
    "    \n",
    "    #Transform results with LR coefficients to DataFrame\n",
    "    results_as_html = res.summary().tables[1].as_html()\n",
    "    df_summary=pd.read_html(results_as_html, header=0, index_col=0)[0]\n",
    "    \n",
    "    #Consider only significant coefficients\n",
    "    return df_summary[df_summary['P>|t|']<0.05],res\n",
    "\n",
    "def cut_strings_borders(labels,start,finish):\n",
    "    f=np.vectorize(lambda x: x[start:finish])\n",
    "    return f(labels)\n",
    "\n",
    "def Show_coefs(df,title):\n",
    "    df=df.drop('Intercept')\n",
    "    g=sns.barplot(x=df.index,y=df.coef,color='royalblue')\n",
    "    g.set_xticklabels(labels=cut_strings_borders(df.index.values,3,-2),rotation=90)\n",
    "    h = plt.ylabel('Impact')\n",
    "    h.set_rotation(0)\n",
    "    plt.title(title)\n",
    "    plt.show()"
   ]
  },
  {
   "cell_type": "code",
   "execution_count": 36,
   "metadata": {},
   "outputs": [
    {
     "name": "stdout",
     "output_type": "stream",
     "text": [
      "Reliable linear models: ['energy_carb' 'energy_tot' 'f_energy_protein' 'f_energy_carb'\n",
      " 'f_energy_fibre']\n"
     ]
    }
   ],
   "source": [
    "reliable_linear_models=df_Reliable_scores.index.get_values()\n",
    "print('Reliable linear models: {}'.format(reliable_linear_models))\n",
    "\n",
    "LR_models=[]\n",
    "LR_coef_dfs=[]\n",
    "LR_coef_labels=[]"
   ]
  },
  {
   "cell_type": "markdown",
   "metadata": {},
   "source": [
    "### carb"
   ]
  },
  {
   "cell_type": "code",
   "execution_count": 37,
   "metadata": {},
   "outputs": [
    {
     "data": {
      "text/html": [
       "<div>\n",
       "<style scoped>\n",
       "    .dataframe tbody tr th:only-of-type {\n",
       "        vertical-align: middle;\n",
       "    }\n",
       "\n",
       "    .dataframe tbody tr th {\n",
       "        vertical-align: top;\n",
       "    }\n",
       "\n",
       "    .dataframe thead th {\n",
       "        text-align: right;\n",
       "    }\n",
       "</style>\n",
       "<table border=\"1\" class=\"dataframe\">\n",
       "  <thead>\n",
       "    <tr style=\"text-align: right;\">\n",
       "      <th></th>\n",
       "      <th>coef</th>\n",
       "      <th>std err</th>\n",
       "      <th>t</th>\n",
       "      <th>P&gt;|t|</th>\n",
       "      <th>[0.025</th>\n",
       "      <th>0.975]</th>\n",
       "    </tr>\n",
       "  </thead>\n",
       "  <tbody>\n",
       "    <tr>\n",
       "      <th>Intercept</th>\n",
       "      <td>72.9516</td>\n",
       "      <td>0.119</td>\n",
       "      <td>614.634</td>\n",
       "      <td>0.000</td>\n",
       "      <td>72.718</td>\n",
       "      <td>73.185</td>\n",
       "    </tr>\n",
       "    <tr>\n",
       "      <th>Q(\"White\")</th>\n",
       "      <td>-1.5777</td>\n",
       "      <td>0.443</td>\n",
       "      <td>-3.561</td>\n",
       "      <td>0.000</td>\n",
       "      <td>-2.448</td>\n",
       "      <td>-0.707</td>\n",
       "    </tr>\n",
       "    <tr>\n",
       "      <th>Q(\"Mixed\")</th>\n",
       "      <td>-1.3063</td>\n",
       "      <td>0.277</td>\n",
       "      <td>-4.716</td>\n",
       "      <td>0.000</td>\n",
       "      <td>-1.851</td>\n",
       "      <td>-0.762</td>\n",
       "    </tr>\n",
       "    <tr>\n",
       "      <th>Q(\"Asian or Asian British\")</th>\n",
       "      <td>1.7263</td>\n",
       "      <td>0.583</td>\n",
       "      <td>2.959</td>\n",
       "      <td>0.003</td>\n",
       "      <td>0.580</td>\n",
       "      <td>2.873</td>\n",
       "    </tr>\n",
       "    <tr>\n",
       "      <th>Q(\"Jewish\")</th>\n",
       "      <td>-0.7872</td>\n",
       "      <td>0.170</td>\n",
       "      <td>-4.617</td>\n",
       "      <td>0.000</td>\n",
       "      <td>-1.122</td>\n",
       "      <td>-0.452</td>\n",
       "    </tr>\n",
       "    <tr>\n",
       "      <th>Q(\"Sikh\")</th>\n",
       "      <td>-0.4636</td>\n",
       "      <td>0.193</td>\n",
       "      <td>-2.400</td>\n",
       "      <td>0.017</td>\n",
       "      <td>-0.843</td>\n",
       "      <td>-0.084</td>\n",
       "    </tr>\n",
       "    <tr>\n",
       "      <th>Q(\"No religion\")</th>\n",
       "      <td>1.3227</td>\n",
       "      <td>0.375</td>\n",
       "      <td>3.525</td>\n",
       "      <td>0.000</td>\n",
       "      <td>0.585</td>\n",
       "      <td>2.060</td>\n",
       "    </tr>\n",
       "    <tr>\n",
       "      <th>Q(\"IOD AVG\")</th>\n",
       "      <td>-1.1860</td>\n",
       "      <td>0.428</td>\n",
       "      <td>-2.768</td>\n",
       "      <td>0.006</td>\n",
       "      <td>-2.028</td>\n",
       "      <td>-0.344</td>\n",
       "    </tr>\n",
       "  </tbody>\n",
       "</table>\n",
       "</div>"
      ],
      "text/plain": [
       "                                coef  std err        t  P>|t|  [0.025  0.975]\n",
       "Intercept                    72.9516    0.119  614.634  0.000  72.718  73.185\n",
       "Q(\"White\")                   -1.5777    0.443   -3.561  0.000  -2.448  -0.707\n",
       "Q(\"Mixed\")                   -1.3063    0.277   -4.716  0.000  -1.851  -0.762\n",
       "Q(\"Asian or Asian British\")   1.7263    0.583    2.959  0.003   0.580   2.873\n",
       "Q(\"Jewish\")                  -0.7872    0.170   -4.617  0.000  -1.122  -0.452\n",
       "Q(\"Sikh\")                    -0.4636    0.193   -2.400  0.017  -0.843  -0.084\n",
       "Q(\"No religion\")              1.3227    0.375    3.525  0.000   0.585   2.060\n",
       "Q(\"IOD AVG\")                 -1.1860    0.428   -2.768  0.006  -2.028  -0.344"
      ]
     },
     "execution_count": 37,
     "metadata": {},
     "output_type": "execute_result"
    }
   ],
   "source": [
    "target=reliable_linear_models[0]\n",
    "df_coefs,model=get_label_summary(target)\n",
    "LR_models.append(model)\n",
    "LR_coef_dfs.append(df_coefs)\n",
    "LR_coef_labels.append(target)\n",
    "df_coefs"
   ]
  },
  {
   "cell_type": "code",
   "execution_count": 38,
   "metadata": {},
   "outputs": [
    {
     "data": {
      "image/png": "[encoded data removed]",
      "text/plain": [
       "<Figure size 432x288 with 1 Axes>"
      ]
     },
     "metadata": {
      "needs_background": "light"
     },
     "output_type": "display_data"
    }
   ],
   "source": [
    "Show_coefs(df_coefs,target)"
   ]
  },
  {
   "cell_type": "markdown",
   "metadata": {},
   "source": [
    "### fracture of carb"
   ]
  },
  {
   "cell_type": "code",
   "execution_count": 39,
   "metadata": {},
   "outputs": [
    {
     "data": {
      "text/html": [
       "<div>\n",
       "<style scoped>\n",
       "    .dataframe tbody tr th:only-of-type {\n",
       "        vertical-align: middle;\n",
       "    }\n",
       "\n",
       "    .dataframe tbody tr th {\n",
       "        vertical-align: top;\n",
       "    }\n",
       "\n",
       "    .dataframe thead th {\n",
       "        text-align: right;\n",
       "    }\n",
       "</style>\n",
       "<table border=\"1\" class=\"dataframe\">\n",
       "  <thead>\n",
       "    <tr style=\"text-align: right;\">\n",
       "      <th></th>\n",
       "      <th>coef</th>\n",
       "      <th>std err</th>\n",
       "      <th>t</th>\n",
       "      <th>P&gt;|t|</th>\n",
       "      <th>[0.025</th>\n",
       "      <th>0.975]</th>\n",
       "    </tr>\n",
       "  </thead>\n",
       "  <tbody>\n",
       "    <tr>\n",
       "      <th>Intercept</th>\n",
       "      <td>0.4046</td>\n",
       "      <td>0.000</td>\n",
       "      <td>1038.309</td>\n",
       "      <td>0.000</td>\n",
       "      <td>0.404</td>\n",
       "      <td>0.405</td>\n",
       "    </tr>\n",
       "    <tr>\n",
       "      <th>Q(\"White\")</th>\n",
       "      <td>-0.0063</td>\n",
       "      <td>0.001</td>\n",
       "      <td>-4.314</td>\n",
       "      <td>0.000</td>\n",
       "      <td>-0.009</td>\n",
       "      <td>-0.003</td>\n",
       "    </tr>\n",
       "    <tr>\n",
       "      <th>Q(\"Mixed\")</th>\n",
       "      <td>-0.0041</td>\n",
       "      <td>0.001</td>\n",
       "      <td>-4.516</td>\n",
       "      <td>0.000</td>\n",
       "      <td>-0.006</td>\n",
       "      <td>-0.002</td>\n",
       "    </tr>\n",
       "    <tr>\n",
       "      <th>Q(\"Asian or Asian British\")</th>\n",
       "      <td>0.0051</td>\n",
       "      <td>0.002</td>\n",
       "      <td>2.661</td>\n",
       "      <td>0.008</td>\n",
       "      <td>0.001</td>\n",
       "      <td>0.009</td>\n",
       "    </tr>\n",
       "    <tr>\n",
       "      <th>Q(\"Black or Black British\")</th>\n",
       "      <td>0.0048</td>\n",
       "      <td>0.001</td>\n",
       "      <td>4.377</td>\n",
       "      <td>0.000</td>\n",
       "      <td>0.003</td>\n",
       "      <td>0.007</td>\n",
       "    </tr>\n",
       "    <tr>\n",
       "      <th>Q(\"Sikh\")</th>\n",
       "      <td>-0.0020</td>\n",
       "      <td>0.001</td>\n",
       "      <td>-3.232</td>\n",
       "      <td>0.001</td>\n",
       "      <td>-0.003</td>\n",
       "      <td>-0.001</td>\n",
       "    </tr>\n",
       "    <tr>\n",
       "      <th>Q(\"IOD AVG\")</th>\n",
       "      <td>-0.0033</td>\n",
       "      <td>0.001</td>\n",
       "      <td>-2.370</td>\n",
       "      <td>0.018</td>\n",
       "      <td>-0.006</td>\n",
       "      <td>-0.001</td>\n",
       "    </tr>\n",
       "  </tbody>\n",
       "</table>\n",
       "</div>"
      ],
      "text/plain": [
       "                               coef  std err         t  P>|t|  [0.025  0.975]\n",
       "Intercept                    0.4046    0.000  1038.309  0.000   0.404   0.405\n",
       "Q(\"White\")                  -0.0063    0.001    -4.314  0.000  -0.009  -0.003\n",
       "Q(\"Mixed\")                  -0.0041    0.001    -4.516  0.000  -0.006  -0.002\n",
       "Q(\"Asian or Asian British\")  0.0051    0.002     2.661  0.008   0.001   0.009\n",
       "Q(\"Black or Black British\")  0.0048    0.001     4.377  0.000   0.003   0.007\n",
       "Q(\"Sikh\")                   -0.0020    0.001    -3.232  0.001  -0.003  -0.001\n",
       "Q(\"IOD AVG\")                -0.0033    0.001    -2.370  0.018  -0.006  -0.001"
      ]
     },
     "execution_count": 39,
     "metadata": {},
     "output_type": "execute_result"
    }
   ],
   "source": [
    "target=reliable_linear_models[3]\n",
    "df_coefs,model=get_label_summary(target)\n",
    "LR_models.append(model)\n",
    "LR_coef_dfs.append(df_coefs)\n",
    "LR_coef_labels.append(target)\n",
    "df_coefs"
   ]
  },
  {
   "cell_type": "code",
   "execution_count": 40,
   "metadata": {},
   "outputs": [
    {
     "data": {
      "image/png": "[encoded data removed]",
      "text/plain": [
       "<Figure size 432x288 with 1 Axes>"
      ]
     },
     "metadata": {
      "needs_background": "light"
     },
     "output_type": "display_data"
    }
   ],
   "source": [
    "Show_coefs(df_coefs,target)"
   ]
  },
  {
   "cell_type": "markdown",
   "metadata": {},
   "source": [
    "### fracture of protein"
   ]
  },
  {
   "cell_type": "code",
   "execution_count": 41,
   "metadata": {},
   "outputs": [
    {
     "data": {
      "text/html": [
       "<div>\n",
       "<style scoped>\n",
       "    .dataframe tbody tr th:only-of-type {\n",
       "        vertical-align: middle;\n",
       "    }\n",
       "\n",
       "    .dataframe tbody tr th {\n",
       "        vertical-align: top;\n",
       "    }\n",
       "\n",
       "    .dataframe thead th {\n",
       "        text-align: right;\n",
       "    }\n",
       "</style>\n",
       "<table border=\"1\" class=\"dataframe\">\n",
       "  <thead>\n",
       "    <tr style=\"text-align: right;\">\n",
       "      <th></th>\n",
       "      <th>coef</th>\n",
       "      <th>std err</th>\n",
       "      <th>t</th>\n",
       "      <th>P&gt;|t|</th>\n",
       "      <th>[0.025</th>\n",
       "      <th>0.975]</th>\n",
       "    </tr>\n",
       "  </thead>\n",
       "  <tbody>\n",
       "    <tr>\n",
       "      <th>Intercept</th>\n",
       "      <td>0.1173</td>\n",
       "      <td>0.000</td>\n",
       "      <td>666.594</td>\n",
       "      <td>0.000</td>\n",
       "      <td>0.117</td>\n",
       "      <td>0.118</td>\n",
       "    </tr>\n",
       "    <tr>\n",
       "      <th>Q(\"White\")</th>\n",
       "      <td>0.0040</td>\n",
       "      <td>0.001</td>\n",
       "      <td>6.077</td>\n",
       "      <td>0.000</td>\n",
       "      <td>0.003</td>\n",
       "      <td>0.005</td>\n",
       "    </tr>\n",
       "    <tr>\n",
       "      <th>Q(\"Mixed\")</th>\n",
       "      <td>0.0015</td>\n",
       "      <td>0.000</td>\n",
       "      <td>3.636</td>\n",
       "      <td>0.000</td>\n",
       "      <td>0.001</td>\n",
       "      <td>0.002</td>\n",
       "    </tr>\n",
       "    <tr>\n",
       "      <th>Q(\"Asian or Asian British\")</th>\n",
       "      <td>-0.0059</td>\n",
       "      <td>0.001</td>\n",
       "      <td>-6.864</td>\n",
       "      <td>0.000</td>\n",
       "      <td>-0.008</td>\n",
       "      <td>-0.004</td>\n",
       "    </tr>\n",
       "    <tr>\n",
       "      <th>Q(\"Black or Black British\")</th>\n",
       "      <td>0.0013</td>\n",
       "      <td>0.000</td>\n",
       "      <td>2.590</td>\n",
       "      <td>0.010</td>\n",
       "      <td>0.000</td>\n",
       "      <td>0.002</td>\n",
       "    </tr>\n",
       "    <tr>\n",
       "      <th>Q(\"Buddhist\")</th>\n",
       "      <td>0.0010</td>\n",
       "      <td>0.000</td>\n",
       "      <td>3.953</td>\n",
       "      <td>0.000</td>\n",
       "      <td>0.001</td>\n",
       "      <td>0.002</td>\n",
       "    </tr>\n",
       "    <tr>\n",
       "      <th>Q(\"Hindu\")</th>\n",
       "      <td>0.0018</td>\n",
       "      <td>0.001</td>\n",
       "      <td>3.387</td>\n",
       "      <td>0.001</td>\n",
       "      <td>0.001</td>\n",
       "      <td>0.003</td>\n",
       "    </tr>\n",
       "    <tr>\n",
       "      <th>Q(\"Muslim\")</th>\n",
       "      <td>0.0013</td>\n",
       "      <td>0.001</td>\n",
       "      <td>2.444</td>\n",
       "      <td>0.015</td>\n",
       "      <td>0.000</td>\n",
       "      <td>0.002</td>\n",
       "    </tr>\n",
       "    <tr>\n",
       "      <th>Q(\"Sikh\")</th>\n",
       "      <td>0.0018</td>\n",
       "      <td>0.000</td>\n",
       "      <td>6.359</td>\n",
       "      <td>0.000</td>\n",
       "      <td>0.001</td>\n",
       "      <td>0.002</td>\n",
       "    </tr>\n",
       "    <tr>\n",
       "      <th>Q(\"No religion\")</th>\n",
       "      <td>-0.0035</td>\n",
       "      <td>0.001</td>\n",
       "      <td>-6.238</td>\n",
       "      <td>0.000</td>\n",
       "      <td>-0.005</td>\n",
       "      <td>-0.002</td>\n",
       "    </tr>\n",
       "  </tbody>\n",
       "</table>\n",
       "</div>"
      ],
      "text/plain": [
       "                               coef  std err        t  P>|t|  [0.025  0.975]\n",
       "Intercept                    0.1173    0.000  666.594  0.000   0.117   0.118\n",
       "Q(\"White\")                   0.0040    0.001    6.077  0.000   0.003   0.005\n",
       "Q(\"Mixed\")                   0.0015    0.000    3.636  0.000   0.001   0.002\n",
       "Q(\"Asian or Asian British\") -0.0059    0.001   -6.864  0.000  -0.008  -0.004\n",
       "Q(\"Black or Black British\")  0.0013    0.000    2.590  0.010   0.000   0.002\n",
       "Q(\"Buddhist\")                0.0010    0.000    3.953  0.000   0.001   0.002\n",
       "Q(\"Hindu\")                   0.0018    0.001    3.387  0.001   0.001   0.003\n",
       "Q(\"Muslim\")                  0.0013    0.001    2.444  0.015   0.000   0.002\n",
       "Q(\"Sikh\")                    0.0018    0.000    6.359  0.000   0.001   0.002\n",
       "Q(\"No religion\")            -0.0035    0.001   -6.238  0.000  -0.005  -0.002"
      ]
     },
     "execution_count": 41,
     "metadata": {},
     "output_type": "execute_result"
    }
   ],
   "source": [
    "target=reliable_linear_models[2]\n",
    "df_coefs,model=get_label_summary(target)\n",
    "LR_models.append(model)\n",
    "LR_coef_dfs.append(df_coefs)\n",
    "LR_coef_labels.append(target)\n",
    "df_coefs"
   ]
  },
  {
   "cell_type": "code",
   "execution_count": 42,
   "metadata": {},
   "outputs": [
    {
     "data": {
      "image/png": "[encoded data removed]",
      "text/plain": [
       "<Figure size 432x288 with 1 Axes>"
      ]
     },
     "metadata": {
      "needs_background": "light"
     },
     "output_type": "display_data"
    }
   ],
   "source": [
    "Show_coefs(df_coefs,target)"
   ]
  },
  {
   "cell_type": "markdown",
   "metadata": {},
   "source": [
    "### fracture of fibre"
   ]
  },
  {
   "cell_type": "code",
   "execution_count": 43,
   "metadata": {},
   "outputs": [
    {
     "data": {
      "text/html": [
       "<div>\n",
       "<style scoped>\n",
       "    .dataframe tbody tr th:only-of-type {\n",
       "        vertical-align: middle;\n",
       "    }\n",
       "\n",
       "    .dataframe tbody tr th {\n",
       "        vertical-align: top;\n",
       "    }\n",
       "\n",
       "    .dataframe thead th {\n",
       "        text-align: right;\n",
       "    }\n",
       "</style>\n",
       "<table border=\"1\" class=\"dataframe\">\n",
       "  <thead>\n",
       "    <tr style=\"text-align: right;\">\n",
       "      <th></th>\n",
       "      <th>coef</th>\n",
       "      <th>std err</th>\n",
       "      <th>t</th>\n",
       "      <th>P&gt;|t|</th>\n",
       "      <th>[0.025</th>\n",
       "      <th>0.975]</th>\n",
       "    </tr>\n",
       "  </thead>\n",
       "  <tbody>\n",
       "    <tr>\n",
       "      <th>Intercept</th>\n",
       "      <td>0.017000</td>\n",
       "      <td>0.000023</td>\n",
       "      <td>749.082</td>\n",
       "      <td>0.000</td>\n",
       "      <td>0.017000</td>\n",
       "      <td>0.017000</td>\n",
       "    </tr>\n",
       "    <tr>\n",
       "      <th>Q(\"Aged 0-15\")</th>\n",
       "      <td>-0.000900</td>\n",
       "      <td>0.000000</td>\n",
       "      <td>-2.427</td>\n",
       "      <td>0.016</td>\n",
       "      <td>-0.002000</td>\n",
       "      <td>-0.000000</td>\n",
       "    </tr>\n",
       "    <tr>\n",
       "      <th>Q(\"Aged 16-64\")</th>\n",
       "      <td>-0.001300</td>\n",
       "      <td>0.001000</td>\n",
       "      <td>-2.460</td>\n",
       "      <td>0.014</td>\n",
       "      <td>-0.002000</td>\n",
       "      <td>-0.000000</td>\n",
       "    </tr>\n",
       "    <tr>\n",
       "      <th>Q(\"Aged 65+\")</th>\n",
       "      <td>-0.001100</td>\n",
       "      <td>0.000000</td>\n",
       "      <td>-2.526</td>\n",
       "      <td>0.012</td>\n",
       "      <td>-0.002000</td>\n",
       "      <td>-0.000000</td>\n",
       "    </tr>\n",
       "    <tr>\n",
       "      <th>Q(\"White\")</th>\n",
       "      <td>0.000400</td>\n",
       "      <td>0.000085</td>\n",
       "      <td>4.571</td>\n",
       "      <td>0.000</td>\n",
       "      <td>0.000000</td>\n",
       "      <td>0.001000</td>\n",
       "    </tr>\n",
       "    <tr>\n",
       "      <th>Q(\"Asian or Asian British\")</th>\n",
       "      <td>-0.000500</td>\n",
       "      <td>0.000000</td>\n",
       "      <td>-4.847</td>\n",
       "      <td>0.000</td>\n",
       "      <td>-0.001000</td>\n",
       "      <td>-0.000000</td>\n",
       "    </tr>\n",
       "    <tr>\n",
       "      <th>Q(\"Christian\")</th>\n",
       "      <td>-0.000100</td>\n",
       "      <td>0.000066</td>\n",
       "      <td>-2.158</td>\n",
       "      <td>0.031</td>\n",
       "      <td>-0.000000</td>\n",
       "      <td>-0.000013</td>\n",
       "    </tr>\n",
       "    <tr>\n",
       "      <th>Q(\"Buddhist\")</th>\n",
       "      <td>0.000095</td>\n",
       "      <td>0.000034</td>\n",
       "      <td>2.808</td>\n",
       "      <td>0.005</td>\n",
       "      <td>0.000029</td>\n",
       "      <td>0.000000</td>\n",
       "    </tr>\n",
       "    <tr>\n",
       "      <th>Q(\"Hindu\")</th>\n",
       "      <td>0.000200</td>\n",
       "      <td>0.000067</td>\n",
       "      <td>2.476</td>\n",
       "      <td>0.014</td>\n",
       "      <td>0.000034</td>\n",
       "      <td>0.000000</td>\n",
       "    </tr>\n",
       "    <tr>\n",
       "      <th>Q(\"Jewish\")</th>\n",
       "      <td>0.000200</td>\n",
       "      <td>0.000033</td>\n",
       "      <td>4.677</td>\n",
       "      <td>0.000</td>\n",
       "      <td>0.000088</td>\n",
       "      <td>0.000000</td>\n",
       "    </tr>\n",
       "    <tr>\n",
       "      <th>Q(\"Sikh\")</th>\n",
       "      <td>0.000200</td>\n",
       "      <td>0.000037</td>\n",
       "      <td>5.645</td>\n",
       "      <td>0.000</td>\n",
       "      <td>0.000000</td>\n",
       "      <td>0.000000</td>\n",
       "    </tr>\n",
       "    <tr>\n",
       "      <th>Q(\"No religion\")</th>\n",
       "      <td>-0.000200</td>\n",
       "      <td>0.000072</td>\n",
       "      <td>-3.404</td>\n",
       "      <td>0.001</td>\n",
       "      <td>-0.000000</td>\n",
       "      <td>-0.000000</td>\n",
       "    </tr>\n",
       "    <tr>\n",
       "      <th>Q(\"IOD AVG\")</th>\n",
       "      <td>-0.000200</td>\n",
       "      <td>0.000082</td>\n",
       "      <td>-2.020</td>\n",
       "      <td>0.044</td>\n",
       "      <td>-0.000000</td>\n",
       "      <td>-0.000004</td>\n",
       "    </tr>\n",
       "    <tr>\n",
       "      <th>Q(\"Limited activities\")</th>\n",
       "      <td>0.000300</td>\n",
       "      <td>0.000000</td>\n",
       "      <td>2.628</td>\n",
       "      <td>0.009</td>\n",
       "      <td>0.000072</td>\n",
       "      <td>0.001000</td>\n",
       "    </tr>\n",
       "  </tbody>\n",
       "</table>\n",
       "</div>"
      ],
      "text/plain": [
       "                                 coef   std err        t  P>|t|    [0.025  \\\n",
       "Intercept                    0.017000  0.000023  749.082  0.000  0.017000   \n",
       "Q(\"Aged 0-15\")              -0.000900  0.000000   -2.427  0.016 -0.002000   \n",
       "Q(\"Aged 16-64\")             -0.001300  0.001000   -2.460  0.014 -0.002000   \n",
       "Q(\"Aged 65+\")               -0.001100  0.000000   -2.526  0.012 -0.002000   \n",
       "Q(\"White\")                   0.000400  0.000085    4.571  0.000  0.000000   \n",
       "Q(\"Asian or Asian British\") -0.000500  0.000000   -4.847  0.000 -0.001000   \n",
       "Q(\"Christian\")              -0.000100  0.000066   -2.158  0.031 -0.000000   \n",
       "Q(\"Buddhist\")                0.000095  0.000034    2.808  0.005  0.000029   \n",
       "Q(\"Hindu\")                   0.000200  0.000067    2.476  0.014  0.000034   \n",
       "Q(\"Jewish\")                  0.000200  0.000033    4.677  0.000  0.000088   \n",
       "Q(\"Sikh\")                    0.000200  0.000037    5.645  0.000  0.000000   \n",
       "Q(\"No religion\")            -0.000200  0.000072   -3.404  0.001 -0.000000   \n",
       "Q(\"IOD AVG\")                -0.000200  0.000082   -2.020  0.044 -0.000000   \n",
       "Q(\"Limited activities\")      0.000300  0.000000    2.628  0.009  0.000072   \n",
       "\n",
       "                               0.975]  \n",
       "Intercept                    0.017000  \n",
       "Q(\"Aged 0-15\")              -0.000000  \n",
       "Q(\"Aged 16-64\")             -0.000000  \n",
       "Q(\"Aged 65+\")               -0.000000  \n",
       "Q(\"White\")                   0.001000  \n",
       "Q(\"Asian or Asian British\") -0.000000  \n",
       "Q(\"Christian\")              -0.000013  \n",
       "Q(\"Buddhist\")                0.000000  \n",
       "Q(\"Hindu\")                   0.000000  \n",
       "Q(\"Jewish\")                  0.000000  \n",
       "Q(\"Sikh\")                    0.000000  \n",
       "Q(\"No religion\")            -0.000000  \n",
       "Q(\"IOD AVG\")                -0.000004  \n",
       "Q(\"Limited activities\")      0.001000  "
      ]
     },
     "execution_count": 43,
     "metadata": {},
     "output_type": "execute_result"
    }
   ],
   "source": [
    "target=reliable_linear_models[4]\n",
    "df_coefs,model=get_label_summary(target)\n",
    "LR_models.append(model)\n",
    "LR_coef_dfs.append(df_coefs)\n",
    "LR_coef_labels.append(target)\n",
    "df_coefs"
   ]
  },
  {
   "cell_type": "code",
   "execution_count": 44,
   "metadata": {
    "scrolled": false
   },
   "outputs": [
    {
     "data": {
      "image/png": "[encoded data removed]",
      "text/plain": [
       "<Figure size 432x288 with 1 Axes>"
      ]
     },
     "metadata": {
      "needs_background": "light"
     },
     "output_type": "display_data"
    }
   ],
   "source": [
    "Show_coefs(df_coefs,target)"
   ]
  },
  {
   "cell_type": "markdown",
   "metadata": {},
   "source": [
    "### energy tot"
   ]
  },
  {
   "cell_type": "code",
   "execution_count": 45,
   "metadata": {},
   "outputs": [
    {
     "data": {
      "text/html": [
       "<div>\n",
       "<style scoped>\n",
       "    .dataframe tbody tr th:only-of-type {\n",
       "        vertical-align: middle;\n",
       "    }\n",
       "\n",
       "    .dataframe tbody tr th {\n",
       "        vertical-align: top;\n",
       "    }\n",
       "\n",
       "    .dataframe thead th {\n",
       "        text-align: right;\n",
       "    }\n",
       "</style>\n",
       "<table border=\"1\" class=\"dataframe\">\n",
       "  <thead>\n",
       "    <tr style=\"text-align: right;\">\n",
       "      <th></th>\n",
       "      <th>coef</th>\n",
       "      <th>std err</th>\n",
       "      <th>t</th>\n",
       "      <th>P&gt;|t|</th>\n",
       "      <th>[0.025</th>\n",
       "      <th>0.975]</th>\n",
       "    </tr>\n",
       "  </thead>\n",
       "  <tbody>\n",
       "    <tr>\n",
       "      <th>Intercept</th>\n",
       "      <td>180.1001</td>\n",
       "      <td>0.199</td>\n",
       "      <td>904.752</td>\n",
       "      <td>0.000</td>\n",
       "      <td>179.709</td>\n",
       "      <td>180.491</td>\n",
       "    </tr>\n",
       "    <tr>\n",
       "      <th>Q(\"Mixed\")</th>\n",
       "      <td>-1.2793</td>\n",
       "      <td>0.465</td>\n",
       "      <td>-2.754</td>\n",
       "      <td>0.006</td>\n",
       "      <td>-2.192</td>\n",
       "      <td>-0.366</td>\n",
       "    </tr>\n",
       "    <tr>\n",
       "      <th>Q(\"Hindu\")</th>\n",
       "      <td>-1.2215</td>\n",
       "      <td>0.589</td>\n",
       "      <td>-2.072</td>\n",
       "      <td>0.039</td>\n",
       "      <td>-2.380</td>\n",
       "      <td>-0.063</td>\n",
       "    </tr>\n",
       "    <tr>\n",
       "      <th>Q(\"Jewish\")</th>\n",
       "      <td>-2.3268</td>\n",
       "      <td>0.286</td>\n",
       "      <td>-8.138</td>\n",
       "      <td>0.000</td>\n",
       "      <td>-2.889</td>\n",
       "      <td>-1.765</td>\n",
       "    </tr>\n",
       "    <tr>\n",
       "      <th>Q(\"No religion\")</th>\n",
       "      <td>2.0922</td>\n",
       "      <td>0.629</td>\n",
       "      <td>3.324</td>\n",
       "      <td>0.001</td>\n",
       "      <td>0.855</td>\n",
       "      <td>3.329</td>\n",
       "    </tr>\n",
       "    <tr>\n",
       "      <th>Q(\"IOD AVG\")</th>\n",
       "      <td>-1.5521</td>\n",
       "      <td>0.719</td>\n",
       "      <td>-2.160</td>\n",
       "      <td>0.031</td>\n",
       "      <td>-2.964</td>\n",
       "      <td>-0.140</td>\n",
       "    </tr>\n",
       "  </tbody>\n",
       "</table>\n",
       "</div>"
      ],
      "text/plain": [
       "                      coef  std err        t  P>|t|   [0.025   0.975]\n",
       "Intercept         180.1001    0.199  904.752  0.000  179.709  180.491\n",
       "Q(\"Mixed\")         -1.2793    0.465   -2.754  0.006   -2.192   -0.366\n",
       "Q(\"Hindu\")         -1.2215    0.589   -2.072  0.039   -2.380   -0.063\n",
       "Q(\"Jewish\")        -2.3268    0.286   -8.138  0.000   -2.889   -1.765\n",
       "Q(\"No religion\")    2.0922    0.629    3.324  0.001    0.855    3.329\n",
       "Q(\"IOD AVG\")       -1.5521    0.719   -2.160  0.031   -2.964   -0.140"
      ]
     },
     "execution_count": 45,
     "metadata": {},
     "output_type": "execute_result"
    }
   ],
   "source": [
    "target=reliable_linear_models[1]\n",
    "df_coefs,model=get_label_summary(target)\n",
    "LR_models.append(model)\n",
    "LR_coef_dfs.append(df_coefs)\n",
    "LR_coef_labels.append(target)\n",
    "df_coefs"
   ]
  },
  {
   "cell_type": "code",
   "execution_count": 46,
   "metadata": {},
   "outputs": [
    {
     "data": {
      "image/png": "[encoded data removed]",
      "text/plain": [
       "<Figure size 432x288 with 1 Axes>"
      ]
     },
     "metadata": {
      "needs_background": "light"
     },
     "output_type": "display_data"
    }
   ],
   "source": [
    "Show_coefs(df_coefs,target)"
   ]
  },
  {
   "cell_type": "markdown",
   "metadata": {},
   "source": [
    "### residual fats"
   ]
  },
  {
   "cell_type": "code",
   "execution_count": 47,
   "metadata": {},
   "outputs": [
    {
     "data": {
      "text/plain": [
       "['energy_carb',\n",
       " 'f_energy_carb',\n",
       " 'f_energy_protein',\n",
       " 'f_energy_fibre',\n",
       " 'energy_tot']"
      ]
     },
     "execution_count": 47,
     "metadata": {},
     "output_type": "execute_result"
    }
   ],
   "source": [
    "LR_coef_labels"
   ]
  },
  {
   "cell_type": "code",
   "execution_count": 48,
   "metadata": {},
   "outputs": [
    {
     "data": {
      "text/html": [
       "<div>\n",
       "<style scoped>\n",
       "    .dataframe tbody tr th:only-of-type {\n",
       "        vertical-align: middle;\n",
       "    }\n",
       "\n",
       "    .dataframe tbody tr th {\n",
       "        vertical-align: top;\n",
       "    }\n",
       "\n",
       "    .dataframe thead th {\n",
       "        text-align: right;\n",
       "    }\n",
       "</style>\n",
       "<table border=\"1\" class=\"dataframe\">\n",
       "  <thead>\n",
       "    <tr style=\"text-align: right;\">\n",
       "      <th></th>\n",
       "      <th>f_energy_fat</th>\n",
       "      <th>f_energy_saturate</th>\n",
       "      <th>f_energy_sugar</th>\n",
       "      <th>f_energy_protein</th>\n",
       "      <th>f_energy_carb</th>\n",
       "      <th>f_energy_fibre</th>\n",
       "      <th>f_energy_alcohol</th>\n",
       "    </tr>\n",
       "  </thead>\n",
       "  <tbody>\n",
       "    <tr>\n",
       "      <th>E05000026</th>\n",
       "      <td>0.4564</td>\n",
       "      <td>0.177664</td>\n",
       "      <td>0.234428</td>\n",
       "      <td>0.106407</td>\n",
       "      <td>0.414333</td>\n",
       "      <td>0.015447</td>\n",
       "      <td>0.007414</td>\n",
       "    </tr>\n",
       "  </tbody>\n",
       "</table>\n",
       "</div>"
      ],
      "text/plain": [
       "           f_energy_fat  f_energy_saturate  f_energy_sugar  f_energy_protein  \\\n",
       "E05000026        0.4564           0.177664        0.234428          0.106407   \n",
       "\n",
       "           f_energy_carb  f_energy_fibre  f_energy_alcohol  \n",
       "E05000026       0.414333        0.015447          0.007414  "
      ]
     },
     "execution_count": 48,
     "metadata": {},
     "output_type": "execute_result"
    }
   ],
   "source": [
    "df_norm_features[labels_f].head(1)"
   ]
  },
  {
   "cell_type": "markdown",
   "metadata": {},
   "source": [
    "We want to consider coefficients of linear regression predicting fracture of fats, however, the model predicting fracture of fats from the Tesco grocery dataset is not reliable. Since f_fats=1-f_protein-f_carbs-f_fibre, we can try to extract information of fats using reliable prediction models. However, we can not obtain coefficients for each feature of the fat model just using coefficients of the other models for this feature since the space of demographic features is not orthogonal. Nevertheless, we can treat the fracture of fat as residual from all the predictions of other nutrients fractions, train a model to predict this residual fraction, and consider the coefficients of this model."
   ]
  },
  {
   "cell_type": "code",
   "execution_count": 50,
   "metadata": {},
   "outputs": [],
   "source": [
    "#predicting fractions of protein, carbs, fibers, subtract them from 1 to obtain \"predicted f_fat\"\n",
    "df_norm_features['predicted_f_fats']=1-np.sum([LR_models[i].predict(\n",
    "    df_norm_features[all_features]).values for i in range(1,4)],axis=0)"
   ]
  },
  {
   "cell_type": "markdown",
   "metadata": {},
   "source": [
    "### Predicted f_fat"
   ]
  },
  {
   "cell_type": "code",
   "execution_count": 51,
   "metadata": {},
   "outputs": [
    {
     "data": {
      "text/html": [
       "<div>\n",
       "<style scoped>\n",
       "    .dataframe tbody tr th:only-of-type {\n",
       "        vertical-align: middle;\n",
       "    }\n",
       "\n",
       "    .dataframe tbody tr th {\n",
       "        vertical-align: top;\n",
       "    }\n",
       "\n",
       "    .dataframe thead th {\n",
       "        text-align: right;\n",
       "    }\n",
       "</style>\n",
       "<table border=\"1\" class=\"dataframe\">\n",
       "  <thead>\n",
       "    <tr style=\"text-align: right;\">\n",
       "      <th></th>\n",
       "      <th>coef</th>\n",
       "      <th>std err</th>\n",
       "      <th>t</th>\n",
       "      <th>P&gt;|t|</th>\n",
       "      <th>[0.025</th>\n",
       "      <th>0.975]</th>\n",
       "    </tr>\n",
       "  </thead>\n",
       "  <tbody>\n",
       "    <tr>\n",
       "      <th>Intercept</th>\n",
       "      <td>0.46110</td>\n",
       "      <td>1.630000e-17</td>\n",
       "      <td>2.830000e+16</td>\n",
       "      <td>0.0</td>\n",
       "      <td>0.461000</td>\n",
       "      <td>0.461000</td>\n",
       "    </tr>\n",
       "    <tr>\n",
       "      <th>Q(\"Aged 0-15\")</th>\n",
       "      <td>0.00770</td>\n",
       "      <td>2.710000e-16</td>\n",
       "      <td>2.840000e+13</td>\n",
       "      <td>0.0</td>\n",
       "      <td>0.008000</td>\n",
       "      <td>0.008000</td>\n",
       "    </tr>\n",
       "    <tr>\n",
       "      <th>Q(\"Aged 16-64\")</th>\n",
       "      <td>0.00800</td>\n",
       "      <td>3.720000e-16</td>\n",
       "      <td>2.140000e+13</td>\n",
       "      <td>0.0</td>\n",
       "      <td>0.008000</td>\n",
       "      <td>0.008000</td>\n",
       "    </tr>\n",
       "    <tr>\n",
       "      <th>Q(\"Aged 65+\")</th>\n",
       "      <td>0.00840</td>\n",
       "      <td>3.070000e-16</td>\n",
       "      <td>2.730000e+13</td>\n",
       "      <td>0.0</td>\n",
       "      <td>0.008000</td>\n",
       "      <td>0.008000</td>\n",
       "    </tr>\n",
       "    <tr>\n",
       "      <th>Q(\"White\")</th>\n",
       "      <td>0.00190</td>\n",
       "      <td>6.070000e-17</td>\n",
       "      <td>3.120000e+13</td>\n",
       "      <td>0.0</td>\n",
       "      <td>0.002000</td>\n",
       "      <td>0.002000</td>\n",
       "    </tr>\n",
       "    <tr>\n",
       "      <th>Q(\"Mixed\")</th>\n",
       "      <td>0.00260</td>\n",
       "      <td>3.800000e-17</td>\n",
       "      <td>6.840000e+13</td>\n",
       "      <td>0.0</td>\n",
       "      <td>0.003000</td>\n",
       "      <td>0.003000</td>\n",
       "    </tr>\n",
       "    <tr>\n",
       "      <th>Q(\"Asian or Asian British\")</th>\n",
       "      <td>0.00140</td>\n",
       "      <td>8.000000e-17</td>\n",
       "      <td>1.730000e+13</td>\n",
       "      <td>0.0</td>\n",
       "      <td>0.001000</td>\n",
       "      <td>0.001000</td>\n",
       "    </tr>\n",
       "    <tr>\n",
       "      <th>Q(\"Black or Black British\")</th>\n",
       "      <td>-0.00620</td>\n",
       "      <td>4.600000e-17</td>\n",
       "      <td>-1.350000e+14</td>\n",
       "      <td>0.0</td>\n",
       "      <td>-0.006000</td>\n",
       "      <td>-0.006000</td>\n",
       "    </tr>\n",
       "    <tr>\n",
       "      <th>Q(\"Other\")</th>\n",
       "      <td>-0.00140</td>\n",
       "      <td>3.850000e-17</td>\n",
       "      <td>-3.680000e+13</td>\n",
       "      <td>0.0</td>\n",
       "      <td>-0.001000</td>\n",
       "      <td>-0.001000</td>\n",
       "    </tr>\n",
       "    <tr>\n",
       "      <th>Q(\"Christian\")</th>\n",
       "      <td>0.00130</td>\n",
       "      <td>4.770000e-17</td>\n",
       "      <td>2.800000e+13</td>\n",
       "      <td>0.0</td>\n",
       "      <td>0.001000</td>\n",
       "      <td>0.001000</td>\n",
       "    </tr>\n",
       "    <tr>\n",
       "      <th>Q(\"Buddhist\")</th>\n",
       "      <td>-0.00050</td>\n",
       "      <td>2.430000e-17</td>\n",
       "      <td>-2.120000e+13</td>\n",
       "      <td>0.0</td>\n",
       "      <td>-0.001000</td>\n",
       "      <td>-0.001000</td>\n",
       "    </tr>\n",
       "    <tr>\n",
       "      <th>Q(\"Hindu\")</th>\n",
       "      <td>-0.00220</td>\n",
       "      <td>4.820000e-17</td>\n",
       "      <td>-4.480000e+13</td>\n",
       "      <td>0.0</td>\n",
       "      <td>-0.002000</td>\n",
       "      <td>-0.002000</td>\n",
       "    </tr>\n",
       "    <tr>\n",
       "      <th>Q(\"Jewish\")</th>\n",
       "      <td>-0.00060</td>\n",
       "      <td>2.340000e-17</td>\n",
       "      <td>-2.460000e+13</td>\n",
       "      <td>0.0</td>\n",
       "      <td>-0.001000</td>\n",
       "      <td>-0.001000</td>\n",
       "    </tr>\n",
       "    <tr>\n",
       "      <th>Q(\"Muslim\")</th>\n",
       "      <td>-0.00080</td>\n",
       "      <td>4.990000e-17</td>\n",
       "      <td>-1.600000e+13</td>\n",
       "      <td>0.0</td>\n",
       "      <td>-0.001000</td>\n",
       "      <td>-0.001000</td>\n",
       "    </tr>\n",
       "    <tr>\n",
       "      <th>Q(\"Sikh\")</th>\n",
       "      <td>0.00002</td>\n",
       "      <td>2.650000e-17</td>\n",
       "      <td>7.730000e+11</td>\n",
       "      <td>0.0</td>\n",
       "      <td>0.000021</td>\n",
       "      <td>0.000021</td>\n",
       "    </tr>\n",
       "    <tr>\n",
       "      <th>Q(\"No religion\")</th>\n",
       "      <td>0.00130</td>\n",
       "      <td>5.140000e-17</td>\n",
       "      <td>2.590000e+13</td>\n",
       "      <td>0.0</td>\n",
       "      <td>0.001000</td>\n",
       "      <td>0.001000</td>\n",
       "    </tr>\n",
       "    <tr>\n",
       "      <th>Q(\"Other religions\")</th>\n",
       "      <td>0.00040</td>\n",
       "      <td>2.610000e-17</td>\n",
       "      <td>1.620000e+13</td>\n",
       "      <td>0.0</td>\n",
       "      <td>0.000000</td>\n",
       "      <td>0.000000</td>\n",
       "    </tr>\n",
       "    <tr>\n",
       "      <th>Q(\"Religion not stated\")</th>\n",
       "      <td>0.00030</td>\n",
       "      <td>3.030000e-17</td>\n",
       "      <td>8.530000e+12</td>\n",
       "      <td>0.0</td>\n",
       "      <td>0.000000</td>\n",
       "      <td>0.000000</td>\n",
       "    </tr>\n",
       "    <tr>\n",
       "      <th>Q(\"Born in UK\")</th>\n",
       "      <td>-0.00280</td>\n",
       "      <td>6.100000e-17</td>\n",
       "      <td>-4.580000e+13</td>\n",
       "      <td>0.0</td>\n",
       "      <td>-0.003000</td>\n",
       "      <td>-0.003000</td>\n",
       "    </tr>\n",
       "    <tr>\n",
       "      <th>Q(\"Not Born in UK\")</th>\n",
       "      <td>0.00280</td>\n",
       "      <td>6.100000e-17</td>\n",
       "      <td>4.580000e+13</td>\n",
       "      <td>0.0</td>\n",
       "      <td>0.003000</td>\n",
       "      <td>0.003000</td>\n",
       "    </tr>\n",
       "    <tr>\n",
       "      <th>Q(\"Household Income Median\")</th>\n",
       "      <td>0.00070</td>\n",
       "      <td>5.500000e-17</td>\n",
       "      <td>1.230000e+13</td>\n",
       "      <td>0.0</td>\n",
       "      <td>0.001000</td>\n",
       "      <td>0.001000</td>\n",
       "    </tr>\n",
       "    <tr>\n",
       "      <th>Q(\"IOD AVG\")</th>\n",
       "      <td>0.00260</td>\n",
       "      <td>5.870000e-17</td>\n",
       "      <td>4.490000e+13</td>\n",
       "      <td>0.0</td>\n",
       "      <td>0.003000</td>\n",
       "      <td>0.003000</td>\n",
       "    </tr>\n",
       "    <tr>\n",
       "      <th>Q(\"No qualifications\")</th>\n",
       "      <td>0.00020</td>\n",
       "      <td>1.310000e-15</td>\n",
       "      <td>1.730000e+11</td>\n",
       "      <td>0.0</td>\n",
       "      <td>0.000000</td>\n",
       "      <td>0.000000</td>\n",
       "    </tr>\n",
       "    <tr>\n",
       "      <th>Q(\"Level 1 qualifications\")</th>\n",
       "      <td>0.00270</td>\n",
       "      <td>7.670000e-16</td>\n",
       "      <td>3.570000e+12</td>\n",
       "      <td>0.0</td>\n",
       "      <td>0.003000</td>\n",
       "      <td>0.003000</td>\n",
       "    </tr>\n",
       "    <tr>\n",
       "      <th>Q(\"Level 2 qualifications\")</th>\n",
       "      <td>-0.00200</td>\n",
       "      <td>6.660000e-16</td>\n",
       "      <td>-3.040000e+12</td>\n",
       "      <td>0.0</td>\n",
       "      <td>-0.002000</td>\n",
       "      <td>-0.002000</td>\n",
       "    </tr>\n",
       "    <tr>\n",
       "      <th>Q(\"Apprenticeship qualifications\")</th>\n",
       "      <td>-0.00190</td>\n",
       "      <td>2.000000e-16</td>\n",
       "      <td>-9.540000e+12</td>\n",
       "      <td>0.0</td>\n",
       "      <td>-0.002000</td>\n",
       "      <td>-0.002000</td>\n",
       "    </tr>\n",
       "    <tr>\n",
       "      <th>Q(\"Level 3 qualifications\")</th>\n",
       "      <td>0.00020</td>\n",
       "      <td>4.530000e-16</td>\n",
       "      <td>3.700000e+11</td>\n",
       "      <td>0.0</td>\n",
       "      <td>0.000000</td>\n",
       "      <td>0.000000</td>\n",
       "    </tr>\n",
       "    <tr>\n",
       "      <th>Q(\"Level &gt;=4 qualifications\")</th>\n",
       "      <td>0.00510</td>\n",
       "      <td>2.810000e-15</td>\n",
       "      <td>1.810000e+12</td>\n",
       "      <td>0.0</td>\n",
       "      <td>0.005000</td>\n",
       "      <td>0.005000</td>\n",
       "    </tr>\n",
       "    <tr>\n",
       "      <th>Q(\"Other qualifications\")</th>\n",
       "      <td>0.00290</td>\n",
       "      <td>8.310000e-16</td>\n",
       "      <td>3.450000e+12</td>\n",
       "      <td>0.0</td>\n",
       "      <td>0.003000</td>\n",
       "      <td>0.003000</td>\n",
       "    </tr>\n",
       "    <tr>\n",
       "      <th>Q(\"Bad Health\")</th>\n",
       "      <td>0.00010</td>\n",
       "      <td>8.420000e-17</td>\n",
       "      <td>1.720000e+12</td>\n",
       "      <td>0.0</td>\n",
       "      <td>0.000000</td>\n",
       "      <td>0.000000</td>\n",
       "    </tr>\n",
       "    <tr>\n",
       "      <th>Q(\"Limited activities\")</th>\n",
       "      <td>-0.00070</td>\n",
       "      <td>7.820000e-17</td>\n",
       "      <td>-8.840000e+12</td>\n",
       "      <td>0.0</td>\n",
       "      <td>-0.001000</td>\n",
       "      <td>-0.001000</td>\n",
       "    </tr>\n",
       "  </tbody>\n",
       "</table>\n",
       "</div>"
      ],
      "text/plain": [
       "                                       coef       std err             t  \\\n",
       "Intercept                           0.46110  1.630000e-17  2.830000e+16   \n",
       "Q(\"Aged 0-15\")                      0.00770  2.710000e-16  2.840000e+13   \n",
       "Q(\"Aged 16-64\")                     0.00800  3.720000e-16  2.140000e+13   \n",
       "Q(\"Aged 65+\")                       0.00840  3.070000e-16  2.730000e+13   \n",
       "Q(\"White\")                          0.00190  6.070000e-17  3.120000e+13   \n",
       "Q(\"Mixed\")                          0.00260  3.800000e-17  6.840000e+13   \n",
       "Q(\"Asian or Asian British\")         0.00140  8.000000e-17  1.730000e+13   \n",
       "Q(\"Black or Black British\")        -0.00620  4.600000e-17 -1.350000e+14   \n",
       "Q(\"Other\")                         -0.00140  3.850000e-17 -3.680000e+13   \n",
       "Q(\"Christian\")                      0.00130  4.770000e-17  2.800000e+13   \n",
       "Q(\"Buddhist\")                      -0.00050  2.430000e-17 -2.120000e+13   \n",
       "Q(\"Hindu\")                         -0.00220  4.820000e-17 -4.480000e+13   \n",
       "Q(\"Jewish\")                        -0.00060  2.340000e-17 -2.460000e+13   \n",
       "Q(\"Muslim\")                        -0.00080  4.990000e-17 -1.600000e+13   \n",
       "Q(\"Sikh\")                           0.00002  2.650000e-17  7.730000e+11   \n",
       "Q(\"No religion\")                    0.00130  5.140000e-17  2.590000e+13   \n",
       "Q(\"Other religions\")                0.00040  2.610000e-17  1.620000e+13   \n",
       "Q(\"Religion not stated\")            0.00030  3.030000e-17  8.530000e+12   \n",
       "Q(\"Born in UK\")                    -0.00280  6.100000e-17 -4.580000e+13   \n",
       "Q(\"Not Born in UK\")                 0.00280  6.100000e-17  4.580000e+13   \n",
       "Q(\"Household Income Median\")        0.00070  5.500000e-17  1.230000e+13   \n",
       "Q(\"IOD AVG\")                        0.00260  5.870000e-17  4.490000e+13   \n",
       "Q(\"No qualifications\")              0.00020  1.310000e-15  1.730000e+11   \n",
       "Q(\"Level 1 qualifications\")         0.00270  7.670000e-16  3.570000e+12   \n",
       "Q(\"Level 2 qualifications\")        -0.00200  6.660000e-16 -3.040000e+12   \n",
       "Q(\"Apprenticeship qualifications\") -0.00190  2.000000e-16 -9.540000e+12   \n",
       "Q(\"Level 3 qualifications\")         0.00020  4.530000e-16  3.700000e+11   \n",
       "Q(\"Level >=4 qualifications\")       0.00510  2.810000e-15  1.810000e+12   \n",
       "Q(\"Other qualifications\")           0.00290  8.310000e-16  3.450000e+12   \n",
       "Q(\"Bad Health\")                     0.00010  8.420000e-17  1.720000e+12   \n",
       "Q(\"Limited activities\")            -0.00070  7.820000e-17 -8.840000e+12   \n",
       "\n",
       "                                    P>|t|    [0.025    0.975]  \n",
       "Intercept                             0.0  0.461000  0.461000  \n",
       "Q(\"Aged 0-15\")                        0.0  0.008000  0.008000  \n",
       "Q(\"Aged 16-64\")                       0.0  0.008000  0.008000  \n",
       "Q(\"Aged 65+\")                         0.0  0.008000  0.008000  \n",
       "Q(\"White\")                            0.0  0.002000  0.002000  \n",
       "Q(\"Mixed\")                            0.0  0.003000  0.003000  \n",
       "Q(\"Asian or Asian British\")           0.0  0.001000  0.001000  \n",
       "Q(\"Black or Black British\")           0.0 -0.006000 -0.006000  \n",
       "Q(\"Other\")                            0.0 -0.001000 -0.001000  \n",
       "Q(\"Christian\")                        0.0  0.001000  0.001000  \n",
       "Q(\"Buddhist\")                         0.0 -0.001000 -0.001000  \n",
       "Q(\"Hindu\")                            0.0 -0.002000 -0.002000  \n",
       "Q(\"Jewish\")                           0.0 -0.001000 -0.001000  \n",
       "Q(\"Muslim\")                           0.0 -0.001000 -0.001000  \n",
       "Q(\"Sikh\")                             0.0  0.000021  0.000021  \n",
       "Q(\"No religion\")                      0.0  0.001000  0.001000  \n",
       "Q(\"Other religions\")                  0.0  0.000000  0.000000  \n",
       "Q(\"Religion not stated\")              0.0  0.000000  0.000000  \n",
       "Q(\"Born in UK\")                       0.0 -0.003000 -0.003000  \n",
       "Q(\"Not Born in UK\")                   0.0  0.003000  0.003000  \n",
       "Q(\"Household Income Median\")          0.0  0.001000  0.001000  \n",
       "Q(\"IOD AVG\")                          0.0  0.003000  0.003000  \n",
       "Q(\"No qualifications\")                0.0  0.000000  0.000000  \n",
       "Q(\"Level 1 qualifications\")           0.0  0.003000  0.003000  \n",
       "Q(\"Level 2 qualifications\")           0.0 -0.002000 -0.002000  \n",
       "Q(\"Apprenticeship qualifications\")    0.0 -0.002000 -0.002000  \n",
       "Q(\"Level 3 qualifications\")           0.0  0.000000  0.000000  \n",
       "Q(\"Level >=4 qualifications\")         0.0  0.005000  0.005000  \n",
       "Q(\"Other qualifications\")             0.0  0.003000  0.003000  \n",
       "Q(\"Bad Health\")                       0.0  0.000000  0.000000  \n",
       "Q(\"Limited activities\")               0.0 -0.001000 -0.001000  "
      ]
     },
     "execution_count": 51,
     "metadata": {},
     "output_type": "execute_result"
    }
   ],
   "source": [
    "target='predicted_f_fats'\n",
    "df_coefs,model=get_label_summary(target)\n",
    "LR_models.append(model)\n",
    "LR_coef_dfs.append(df_coefs)\n",
    "LR_coef_labels.append(target)\n",
    "df_coefs"
   ]
  },
  {
   "cell_type": "code",
   "execution_count": 52,
   "metadata": {},
   "outputs": [
    {
     "data": {
      "image/png": "[encoded data removed]",
      "text/plain": [
       "<Figure size 432x288 with 1 Axes>"
      ]
     },
     "metadata": {
      "needs_background": "light"
     },
     "output_type": "display_data"
    }
   ],
   "source": [
    "Show_coefs(df_coefs,target)"
   ]
  },
  {
   "cell_type": "markdown",
   "metadata": {},
   "source": [
    "## Figure for all the features at once\n",
    "\n",
    "Let's make a figure that would show linear regression coefficients for all the nutrients. Since I have already looked it up in the future, I know that we have either 6,5 or 2 and fewer plots for each nutrient. It makes no sense to show less than two because we want to make comparisons between different nutrients"
   ]
  },
  {
   "cell_type": "code",
   "execution_count": 53,
   "metadata": {},
   "outputs": [],
   "source": [
    "def DS_features_to_LR_features(features):\n",
    "    return ['Q(\"'+x+'\")' for x in features]\n",
    "\n",
    "def number_of_plots_for_feature_group(features):\n",
    "    #select features that are significant for LR and are present in features to show\n",
    "    LR_features=DS_features_to_LR_features(features)\n",
    "    \n",
    "    #Create array with indices of figures to show. (It is sensless to show less then 2)\n",
    "    Mask_for_figures=np.array([np.isin(LR_coef_dfs[i].index,LR_features).sum()>1 \n",
    "                              for i in range(len(LR_coef_dfs))])\n",
    "    Figures_to_show=np.arange(len(Mask_for_figures))[Mask_for_figures]\n",
    "    \n",
    "    if len(Figures_to_show)<2:\n",
    "        return 0,[]\n",
    "    \n",
    "    return Mask_for_figures.sum(), Figures_to_show"
   ]
  },
  {
   "cell_type": "code",
   "execution_count": 57,
   "metadata": {},
   "outputs": [],
   "source": [
    "#Lists of features that should be considered for a given demographical groups\n",
    "Features_to_inspect=[all_features,age_cols,ethnicities_cols,religion_cols,\n",
    "                   born_cols,wealth_cols,qualilication_cols,disability_cols]\n",
    "\n",
    "#Numbers of nutrients that should be shown for a given demographic group\n",
    "Plots_to_show=np.array([number_of_plots_for_feature_group(features) for features in Features_to_inspect])"
   ]
  },
  {
   "cell_type": "code",
   "execution_count": 59,
   "metadata": {},
   "outputs": [],
   "source": [
    "def Show_coefs(df,title):\n",
    "    df=df.drop('Intercept')\n",
    "    g=sns.barplot(x=df.index,y=df.coef,color='royalblue')\n",
    "    g.set_xticklabels(labels=cut_strings_borders(df.index.values,3,-2),rotation=90)\n",
    "    h = plt.ylabel('Impact')\n",
    "    h.set_rotation(0)\n",
    "    plt.title(title)\n",
    "    plt.show()\n",
    "    \n",
    "Nutrient_names=['Carb',\n",
    " 'Fracture of carb',\n",
    " 'Fracture of protein',\n",
    " 'Fracture of fibre',\n",
    " 'Total energy', 'Residual fracture of fats']\n",
    "    \n",
    "def Show_coefs_for_feature(features_group_number):\n",
    "    \n",
    "    #Get names of demographic features to be used for a given group\n",
    "    features=Features_to_inspect[features_group_number]\n",
    "    \n",
    "    #select features that are significant for LR and are present in features to show\n",
    "    LR_features=DS_features_to_LR_features(features)\n",
    "    \n",
    "    plots_number,Figures_to_show=Plots_to_show[features_group_number]\n",
    "    \n",
    "    #Manage the displacement of the figures\n",
    "    if plots_number==0:\n",
    "        print('Nothing to compare')\n",
    "        return\n",
    "    elif plots_number==6:\n",
    "        fig, axs = plt.subplots(nrows=2, ncols=3, figsize=(20, 20))\n",
    "        axs_flat = axs.flatten()\n",
    "    elif plots_number==5:\n",
    "        fig=plt.figure(figsize=(20,15))\n",
    "        axs_flat=[]\n",
    "        axs_flat.append(plt.subplot2grid(shape=(2,6), loc=(0,0), colspan=2))\n",
    "        axs_flat.append(plt.subplot2grid((2,6), (0,2), colspan=2))\n",
    "        axs_flat.append(plt.subplot2grid((2,6), (0,4), colspan=2))\n",
    "        axs_flat.append(plt.subplot2grid((2,6), (1,1), colspan=2))\n",
    "        axs_flat.append(plt.subplot2grid((2,6), (1,3), colspan=2))\n",
    "    elif plots_number==2:\n",
    "        fig, axs = plt.subplots(nrows=1, ncols=2, figsize=(10, 5))\n",
    "        axs_flat = axs.flatten()\n",
    "    else:\n",
    "        print('Wrong plot_number')\n",
    "        return\n",
    "    \n",
    "    #Plot everything\n",
    "    for figure_index,label_index in enumerate(Figures_to_show):\n",
    "        \n",
    "        #extract only needed labels and features\n",
    "        df_label=LR_coef_dfs[label_index]\n",
    "        df=df_label.loc[np.isin(df_label.index,LR_features)]\n",
    "        \n",
    "        g=sns.barplot(ax=axs_flat[figure_index],x=df.index,y=df.coef,color='royalblue')\n",
    "    \n",
    "        g.set_xticklabels(labels=cut_strings_borders(df.index.values,3,-2),\n",
    "                      fontdict={'fontsize': 15},rotation=90)\n",
    "        axs_flat[figure_index].set_ylabel('')\n",
    "        axs_flat[figure_index].set_title(Nutrient_names[label_index],{'fontsize': 20})\n",
    "\n",
    "    axs_flat[0].set_ylabel('Linear regression coeffitient',{'fontsize': 15})\n",
    "    fig.tight_layout()"
   ]
  },
  {
   "cell_type": "markdown",
   "metadata": {},
   "source": [
    "#### All features"
   ]
  },
  {
   "cell_type": "code",
   "execution_count": 61,
   "metadata": {},
   "outputs": [
    {
     "data": {
      "image/png": "[encoded data removed]",
      "text/plain": [
       "<Figure size 1440x1440 with 6 Axes>"
      ]
     },
     "metadata": {
      "needs_background": "light"
     },
     "output_type": "display_data"
    }
   ],
   "source": [
    "Show_coefs_for_feature(0)\n",
    "#plt.savefig(join('Figures','All_features_coefs'))"
   ]
  },
  {
   "cell_type": "markdown",
   "metadata": {},
   "source": [
    "In this figure coefficient of zero for a demographic group means that this group has a consumption rate of this nutrient equal to an average one. A positive coefficient means that the group consumes more than average food with this nutrient, whereas a negative coefficient means that the group consumes less\n",
    "\n",
    "IOD AVG stands for the average index of deprivation. Based on the coefficients for it, we can state that deprived people are likely to consume more fats, but less other nutrients. Deprived people also consume less energy in total, it is\n",
    "sensible since the group of deprived people includes poor ones\n",
    "and poor people are unlikely to afford themselves eating a lot,\n",
    "which decreases the total energy consumed. They are also likely to\n",
    "eat cheap unhealthy food instead of high-quality meat, which\n",
    "is shown by figures negative coefficients for proteins and fiber\n",
    "along with a positive coefficient for fat.\n",
    "\n",
    "Also one can see that consumption rates of fibers and fats are governed mostly by age."
   ]
  },
  {
   "cell_type": "markdown",
   "metadata": {},
   "source": [
    "### Analysis of demographic groups\n",
    "\n",
    "### age"
   ]
  },
  {
   "cell_type": "code",
   "execution_count": 62,
   "metadata": {},
   "outputs": [
    {
     "data": {
      "image/png": "[encoded data removed]",
      "text/plain": [
       "<Figure size 720x360 with 2 Axes>"
      ]
     },
     "metadata": {
      "needs_background": "light"
     },
     "output_type": "display_data"
    }
   ],
   "source": [
    "Show_coefs_for_feature(1)\n",
    "#plt.savefig(join('Figures','Age_features_coefs'))"
   ]
  },
  {
   "cell_type": "markdown",
   "metadata": {},
   "source": [
    "Adult people consume less fiber than others. With age fraction of consumed fats grows."
   ]
  },
  {
   "cell_type": "markdown",
   "metadata": {},
   "source": [
    "#### ethnicities"
   ]
  },
  {
   "cell_type": "code",
   "execution_count": 63,
   "metadata": {},
   "outputs": [
    {
     "data": {
      "image/png": "[encoded data removed]",
      "text/plain": [
       "<Figure size 1440x1080 with 5 Axes>"
      ]
     },
     "metadata": {
      "needs_background": "light"
     },
     "output_type": "display_data"
    }
   ],
   "source": [
    "Show_coefs_for_feature(2)\n",
    "#plt.savefig(join('Figures','Ethnicities_features_coefs'))"
   ]
  },
  {
   "cell_type": "markdown",
   "metadata": {},
   "source": [
    "Asians:  \n",
    "The presence of Asians drastically increases\n",
    "the number of Carbohydrates, which can, probably, be explained\n",
    "by a traditional preference for grains such as rice. Moreover, the negative coefficient for fiber enables us to conclude that they prefer white rice to brown. At the same\n",
    "time, the negative coefficient for proteins and the positive one for fats tell us that Asians prefer fatty protein sources like fish, rather than dry ones like chicken. Or they can get fats, not animal-based products, which provide also protein, but Asians can consume growth products, that are rich in fats, like avocados.  \n",
    "\n",
    "Blacks:  \n",
    "In terms of meat, for Black people conclusions are the opposite. The presence of Black people drastically decreases the consumption of fats and increases protein. So we can say that Black people prefer very dry meat to the other meat types, probably, they prefer chicken.\n",
    "\n",
    "Whites:  \n",
    "The presence of White people, in a turn, is imbalanced in terms of low carbohydrate consumption in relation to an average person."
   ]
  },
  {
   "cell_type": "markdown",
   "metadata": {},
   "source": [
    "#### Religions"
   ]
  },
  {
   "cell_type": "code",
   "execution_count": 64,
   "metadata": {},
   "outputs": [
    {
     "data": {
      "image/png": "[encoded data removed]",
      "text/plain": [
       "<Figure size 1440x1080 with 5 Axes>"
      ]
     },
     "metadata": {
      "needs_background": "light"
     },
     "output_type": "display_data"
    }
   ],
   "source": [
    "Show_coefs_for_feature(3)\n",
    "#plt.savefig(join('Figures','Religions_features_coefs'))"
   ]
  },
  {
   "cell_type": "markdown",
   "metadata": {},
   "source": [
    "Fibers:  \n",
    "As we can see some religions strongly affect the diet. Some religions like Buddhist, Hindu, and Sikh have Vegetarianism, Jewish consider most of the plant-based food kosher. It all can be seen by the drastic increase in fiber consumption.\n",
    "\n",
    "Fats:  \n",
    "There was a research that claims Buddhist to have less body fat than an average person, Hindu and Sikh exclude fats from their diet, for Jewish food greased with animal-based fats considered to be not kosher. The presence of Muslims decreases fats consumption, probably because the fattiest meat, which is pork, appear to be prohibited in this religion\n",
    "\n",
    "Proteins:  \n",
    "However, some mentioned religions increase protein consumption rates. Probably, because for some religions dairy products, beans or soy are welcome. "
   ]
  },
  {
   "cell_type": "markdown",
   "metadata": {},
   "source": [
    "#### Born in UK"
   ]
  },
  {
   "cell_type": "code",
   "execution_count": 65,
   "metadata": {},
   "outputs": [
    {
     "name": "stdout",
     "output_type": "stream",
     "text": [
      "Nothing to compare\n"
     ]
    }
   ],
   "source": [
    "Show_coefs_for_feature(4)"
   ]
  },
  {
   "cell_type": "markdown",
   "metadata": {},
   "source": [
    "#### wealth"
   ]
  },
  {
   "cell_type": "code",
   "execution_count": 66,
   "metadata": {},
   "outputs": [
    {
     "name": "stdout",
     "output_type": "stream",
     "text": [
      "Nothing to compare\n"
     ]
    }
   ],
   "source": [
    "Show_coefs_for_feature(5)"
   ]
  },
  {
   "cell_type": "markdown",
   "metadata": {},
   "source": [
    "#### qualification"
   ]
  },
  {
   "cell_type": "code",
   "execution_count": 67,
   "metadata": {},
   "outputs": [
    {
     "name": "stdout",
     "output_type": "stream",
     "text": [
      "Nothing to compare\n"
     ]
    }
   ],
   "source": [
    "Show_coefs_for_feature(6)"
   ]
  },
  {
   "cell_type": "markdown",
   "metadata": {},
   "source": [
    "#### disability"
   ]
  },
  {
   "cell_type": "code",
   "execution_count": 68,
   "metadata": {},
   "outputs": [
    {
     "name": "stdout",
     "output_type": "stream",
     "text": [
      "Nothing to compare\n"
     ]
    }
   ],
   "source": [
    "Show_coefs_for_feature(7)"
   ]
  },
  {
   "cell_type": "markdown",
   "metadata": {},
   "source": [
    "### Alex's case study as an example?"
   ]
  },
  {
   "cell_type": "markdown",
   "metadata": {},
   "source": [
    "# Nutrient distribution\n",
    "\n",
    "Meet John, he is an entrepreneur who has just opened a new grocery store in one of London wards and now he has to fill it with products to sell. Since John still lives in a capitalist society he is eager to get the most revenue out of the shop. So he wants to buy exactly those types and amounts of products that would satisfy the ward's residents' appetite, though he doesn't want to buy any excess products that they have to be thrown away.  \n",
    "\n",
    "John is not good with statistics, so he asks you to help him make money by answering two questions: what products should he buy, and moreover, how much?\n",
    "\n",
    "In other words, he wants us to predict the distribution of nutrients and total energy of a typical product for his ward, given the demographical data of the ward's residents. Let's help him!\n",
    "\n",
    "Most of the dependencies between nutrients and demographics are sensibly predicted to be linear, however, some relations appear to be better described by nonlinear models. For every nutrient, we trained linear regression and several gradients boosting regression with different hyperparameters. We used only reliable models, as in the analysis of the coefficients. Then we compared R^2 scores and test datasets to chose the best ones and unite them into one big model that predicts all the parameters of the typical product."
   ]
  },
  {
   "cell_type": "code",
   "execution_count": 70,
   "metadata": {},
   "outputs": [],
   "source": [
    "from sklearn.model_selection import GridSearchCV\n",
    "from tqdm import tqdm\n",
    "\n",
    "def Train_all_labels(Model_to_train,x_data,y_data):\n",
    "    Models_for_labels={}\n",
    "    Scores_for_labels={}\n",
    "    df_Scores=pd.DataFrame(columns=y_data.columns.values)\n",
    "    \n",
    "    #Train one model for each nutrient considered \n",
    "    for column in y_data.columns.values:\n",
    "        Trained_Model,R_2=Train_model(Model_to_train,x_data,y_data[column])\n",
    "        Models_for_labels[column]=Trained_Model\n",
    "        Scores_for_labels[column]=R_2\n",
    "\n",
    "    return Models_for_labels,Scores_for_labels\n",
    "\n",
    "def Train_Gradient_Boosting(x_data,y_data):\n",
    "    \n",
    "    #Parameters for GradBoost grid search\n",
    "    parameters={'n_estimators':range(50,350,50),\n",
    "           'learning_rate':[0.01, 0.025, 0.05, 0.075, 0.1, 0.15, 0.2]}\n",
    "\n",
    "    GradientB_models={}\n",
    "    GradientB_scores={}\n",
    "\n",
    "    #Dataset split\n",
    "    X_train, X_test, y_train, y_test = train_test_split(x_data, y_data, test_size = 0.2)\n",
    "    \n",
    "    \n",
    "    for i,column in tqdm(enumerate(y_data.columns.values)):\n",
    "        #Envoke GridSearch,perform fitting, save the best model\n",
    "        G_search=GridSearchCV(estimator=GradientBoostingRegressor(random_state=0),\n",
    "                     param_grid=parameters, scoring='r2',iid=False,cv=5)\n",
    "        G_search.fit(X_train,y_train[column])\n",
    "        Model=G_search.best_estimator_\n",
    "        R_2=r2_score(y_test[column],Model.predict(X_test))\n",
    "        GradientB_models[column]=Model\n",
    "        GradientB_scores[column]=R_2\n",
    "    \n",
    "    return GradientB_models,GradientB_scores"
   ]
  },
  {
   "cell_type": "code",
   "execution_count": 71,
   "metadata": {},
   "outputs": [],
   "source": [
    "reliable_labels=['energy_tot','f_energy_protein','f_energy_carb','f_energy_fibre']"
   ]
  },
  {
   "cell_type": "code",
   "execution_count": 72,
   "metadata": {},
   "outputs": [
    {
     "name": "stderr",
     "output_type": "stream",
     "text": [
      "4it [03:57, 58.06s/it]\n"
     ]
    }
   ],
   "source": [
    "x_data = df_ward_atlas[all_features]\n",
    "y_data = df_ward_atlas[reliable_labels]\n",
    "\n",
    "Linear_models,Linear_scores=Train_all_labels(\n",
    "    LinearRegression(),x_data,y_data)\n",
    "\n",
    "GradBoost_models,GradBoost_scores=Train_Gradient_Boosting(x_data,y_data)"
   ]
  },
  {
   "cell_type": "code",
   "execution_count": 73,
   "metadata": {},
   "outputs": [
    {
     "data": {
      "text/html": [
       "<div>\n",
       "<style scoped>\n",
       "    .dataframe tbody tr th:only-of-type {\n",
       "        vertical-align: middle;\n",
       "    }\n",
       "\n",
       "    .dataframe tbody tr th {\n",
       "        vertical-align: top;\n",
       "    }\n",
       "\n",
       "    .dataframe thead th {\n",
       "        text-align: right;\n",
       "    }\n",
       "</style>\n",
       "<table border=\"1\" class=\"dataframe\">\n",
       "  <thead>\n",
       "    <tr style=\"text-align: right;\">\n",
       "      <th></th>\n",
       "      <th>energy_tot</th>\n",
       "      <th>f_energy_protein</th>\n",
       "      <th>f_energy_carb</th>\n",
       "      <th>f_energy_fibre</th>\n",
       "    </tr>\n",
       "  </thead>\n",
       "  <tbody>\n",
       "    <tr>\n",
       "      <th>Linear Regression R^2</th>\n",
       "      <td>0.570166</td>\n",
       "      <td>0.712354</td>\n",
       "      <td>0.666144</td>\n",
       "      <td>0.766981</td>\n",
       "    </tr>\n",
       "    <tr>\n",
       "      <th>Gradient Boosting R^2</th>\n",
       "      <td>0.617975</td>\n",
       "      <td>0.692473</td>\n",
       "      <td>0.691884</td>\n",
       "      <td>0.700378</td>\n",
       "    </tr>\n",
       "  </tbody>\n",
       "</table>\n",
       "</div>"
      ],
      "text/plain": [
       "                       energy_tot  f_energy_protein  f_energy_carb  \\\n",
       "Linear Regression R^2    0.570166          0.712354       0.666144   \n",
       "Gradient Boosting R^2    0.617975          0.692473       0.691884   \n",
       "\n",
       "                       f_energy_fibre  \n",
       "Linear Regression R^2        0.766981  \n",
       "Gradient Boosting R^2        0.700378  "
      ]
     },
     "execution_count": 73,
     "metadata": {},
     "output_type": "execute_result"
    }
   ],
   "source": [
    "df_Scores=pd.DataFrame(columns=Linear_scores.keys())\n",
    "df_Scores.loc['Linear Regression R^2']=Linear_scores\n",
    "df_Scores.loc['Gradient Boosting R^2']=GradBoost_scores\n",
    "df_Scores"
   ]
  },
  {
   "cell_type": "markdown",
   "metadata": {},
   "source": [
    "Let us unify the best models to predict residual fat"
   ]
  },
  {
   "cell_type": "code",
   "execution_count": 74,
   "metadata": {},
   "outputs": [
    {
     "name": "stderr",
     "output_type": "stream",
     "text": [
      "4it [00:00, 567.72it/s]\n"
     ]
    },
    {
     "data": {
      "text/plain": [
       "energy_tot          0.617975\n",
       "f_energy_protein    0.712354\n",
       "f_energy_carb       0.691884\n",
       "f_energy_fibre      0.766981\n",
       "Name: Optimal model R^2, dtype: float64"
      ]
     },
     "execution_count": 74,
     "metadata": {},
     "output_type": "execute_result"
    }
   ],
   "source": [
    "Architectures=[Linear_models,GradBoost_models]\n",
    "Optimal_Models={}\n",
    "Optimal_Scores={}\n",
    "\n",
    "for i,column in tqdm(enumerate(y_data.columns.values)):\n",
    "    #Choose architecture with the highest R^2 for a given label\n",
    "    #[-1] means that if two models have the same score, we would chose adjusted one\n",
    "    Number_of_optimal_architecture=np.where(\n",
    "        df_Scores[column]==df_Scores[column].max())[0][-1]\n",
    "    #Assign optimal model for given label with this model\n",
    "    Optimal_Models[column]=Architectures[Number_of_optimal_architecture][column]\n",
    "    Optimal_Scores[column]=df_Scores[column][Number_of_optimal_architecture]\n",
    "\n",
    "df_Scores.loc['Optimal model R^2']=Optimal_Scores\n",
    "df_Scores.loc['Optimal model R^2']"
   ]
  },
  {
   "cell_type": "code",
   "execution_count": 95,
   "metadata": {},
   "outputs": [],
   "source": [
    "#reliable_labels[1:] are only fractions\n",
    "Predicted_fats=pd.Series(data=1-np.sum([Optimal_Models[label].predict(x_data) \n",
    "                                   for label in reliable_labels[1:]],axis=0),\n",
    "                         name='predicted_f_fats').to_frame()"
   ]
  },
  {
   "cell_type": "code",
   "execution_count": 96,
   "metadata": {},
   "outputs": [
    {
     "name": "stderr",
     "output_type": "stream",
     "text": [
      "1it [01:07, 67.30s/it]\n"
     ]
    }
   ],
   "source": [
    "Linear_fat_model,Linear_fat_score=Train_all_labels(\n",
    "    LinearRegression(),x_data,Predicted_fats)\n",
    "\n",
    "GradBoost_fat_model,GradBoost_fat_score=Train_Gradient_Boosting(x_data,Predicted_fats)"
   ]
  },
  {
   "cell_type": "code",
   "execution_count": 97,
   "metadata": {},
   "outputs": [
    {
     "data": {
      "text/plain": [
       "energy_tot          0.617975\n",
       "f_energy_protein    0.712354\n",
       "f_energy_carb       0.691884\n",
       "f_energy_fibre      0.766981\n",
       "predicted_f_fats    0.864792\n",
       "Name: Optimal model R^2, dtype: float64"
      ]
     },
     "execution_count": 97,
     "metadata": {},
     "output_type": "execute_result"
    }
   ],
   "source": [
    "column='predicted_f_fats'\n",
    "\n",
    "df_Scores[column]=[Linear_fat_score[column],GradBoost_fat_score[column],np.nan]\n",
    "\n",
    "Architectures=[Linear_fat_model,GradBoost_fat_model]\n",
    "Number_of_optimal_architecture=np.where(\n",
    "        df_Scores[column]==df_Scores[column].max())[0][-1]\n",
    "#Assign optimal model for given label with this model\n",
    "Optimal_Models[column]=Architectures[Number_of_optimal_architecture][column]\n",
    "Optimal_Scores[column]=df_Scores[column][Number_of_optimal_architecture]\n",
    "df_Scores.loc['Optimal model R^2']=Optimal_Scores\n",
    "df_Scores.loc['Optimal model R^2']"
   ]
  },
  {
   "cell_type": "markdown",
   "metadata": {},
   "source": [
    "With this model we can predict all the main constituents of a typical product and its total energy, so we have found the answers to John's questions."
   ]
  }
 ],
 "metadata": {
  "kernelspec": {
   "display_name": "Python 3",
   "language": "python",
   "name": "python3"
  },
  "language_info": {
   "codemirror_mode": {
    "name": "ipython",
    "version": 3
   },
   "file_extension": ".py",
   "mimetype": "text/x-python",
   "name": "python",
   "nbconvert_exporter": "python",
   "pygments_lexer": "ipython3",
   "version": "3.7.3"
  }
 },
 "nbformat": 4,
 "nbformat_minor": 2
}
