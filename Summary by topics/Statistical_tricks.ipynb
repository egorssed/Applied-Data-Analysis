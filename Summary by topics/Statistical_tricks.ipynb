{
 "cells": [
  {
   "cell_type": "code",
   "execution_count": 1,
   "metadata": {},
   "outputs": [],
   "source": [
    "from os.path import join\n",
    "import pandas as pd\n",
    "import numpy as np\n",
    "import seaborn as sns\n",
    "import matplotlib.pyplot as plt\n",
    "\n",
    "DATA_FOLDER='data_templates/'\n",
    "POKEMON_FILE=join(DATA_FOLDER,'pokemon.csv')\n",
    "COMBATS_FILE=join(DATA_FOLDER,'combats.csv')\n",
    "\n",
    "df_pokemons=pd.read_csv(POKEMON_FILE,index_col=0)\n",
    "df_combats=pd.read_csv(COMBATS_FILE)"
   ]
  },
  {
   "cell_type": "markdown",
   "metadata": {},
   "source": [
    "# Compare means (ttest)"
   ]
  },
  {
   "cell_type": "code",
   "execution_count": 2,
   "metadata": {},
   "outputs": [
    {
     "name": "stdout",
     "output_type": "stream",
     "text": [
      "Grass attack Mean=73 and Variance=24\n",
      "Rock attack Mean=91 and Variance=34\n"
     ]
    }
   ],
   "source": [
    "grass_class=((df_pokemons['Class 1']=='Grass') | (df_pokemons['Class 2']=='Grass'))\n",
    "rock_class=((df_pokemons['Class 1']=='Rock') | (df_pokemons['Class 2']=='Rock'))\n",
    "\n",
    "only_grass=df_pokemons[grass_class & np.logical_not(rock_class)]\n",
    "only_rock=df_pokemons[rock_class & np.logical_not(grass_class)]\n",
    "\n",
    "print('Grass attack Mean=%d and Variance=%d' % (only_grass.Attack.mean(),only_grass.Attack.std()))\n",
    "print('Rock attack Mean=%d and Variance=%d'% (only_rock.Attack.mean(),only_rock.Attack.std()))"
   ]
  },
  {
   "cell_type": "code",
   "execution_count": 8,
   "metadata": {},
   "outputs": [
    {
     "data": {
      "text/plain": [
       "Ttest_indResult(statistic=3.4169379582521513, pvalue=0.0004820273456772652)"
      ]
     },
     "execution_count": 8,
     "metadata": {},
     "output_type": "execute_result"
    }
   ],
   "source": [
    "from scipy.stats import ttest_ind\n",
    "#If variances are equal set equal_var=True\n",
    "ttest_ind(only_rock.Attack,only_grass.Attack,equal_var=False,alternative='greater')"
   ]
  },
  {
   "cell_type": "markdown",
   "metadata": {},
   "source": [
    "# Bootstrap"
   ]
  },
  {
   "cell_type": "markdown",
   "metadata": {},
   "source": [
    "### Bootstrap CI func"
   ]
  },
  {
   "cell_type": "code",
   "execution_count": 5,
   "metadata": {},
   "outputs": [],
   "source": [
    "def bootstrap_CI_func(data,func, nbr_draws=1000):\n",
    "    res = np.zeros(nbr_draws)\n",
    "    data = np.array(data)\n",
    "\n",
    "    for n in range(nbr_draws):\n",
    "        indices = np.random.randint(0, len(data), len(data))\n",
    "        data_tmp = data[indices] \n",
    "        res[n] = func(data_tmp)\n",
    "\n",
    "    return [np.nanpercentile(res, 2.5),np.nanpercentile(res, 97.5)]\n",
    "\n",
    "def bootstrap_CI_values(data, nbr_draws=1000):\n",
    "    bs_array=np.zeros(nbr_draws)\n",
    "    for i in range(1000):\n",
    "        index=np.random.randint(0, len(data), 1)\n",
    "        bs_sample = data[index] \n",
    "        bs_array[i]=bs_sample\n",
    "        \n",
    "    return [np.nanpercentile(bs_array, 2.5),np.nanpercentile(bs_array, 97.5)]"
   ]
  },
  {
   "cell_type": "code",
   "execution_count": 8,
   "metadata": {},
   "outputs": [
    {
     "name": "stdout",
     "output_type": "stream",
     "text": [
      "Mean CI [68.99892473118278, 78.56075268817204]\n",
      "Value CI [30.0, 110.0]\n"
     ]
    }
   ],
   "source": [
    "print('Mean CI', bootstrap_CI_func(only_grass.Attack,np.mean))\n",
    "print('Value CI', bootstrap_CI_values(only_grass.Attack.values))"
   ]
  },
  {
   "cell_type": "markdown",
   "metadata": {},
   "source": [
    "# Train_test_split"
   ]
  },
  {
   "cell_type": "code",
   "execution_count": 9,
   "metadata": {},
   "outputs": [],
   "source": [
    "def train_test_split(df,p=0.8):\n",
    "    shuffled_df=df.iloc[np.random.permutation(len(df))]\n",
    "    \n",
    "    Train=shuffled_df.iloc[:int(p*len(df))]\n",
    "    Test=shuffled_df.iloc[int(p*len(df)):]\n",
    "    \n",
    "    return Train,Test"
   ]
  }
 ],
 "metadata": {
  "kernelspec": {
   "display_name": "Python 3",
   "language": "python",
   "name": "python3"
  },
  "language_info": {
   "codemirror_mode": {
    "name": "ipython",
    "version": 3
   },
   "file_extension": ".py",
   "mimetype": "text/x-python",
   "name": "python",
   "nbconvert_exporter": "python",
   "pygments_lexer": "ipython3",
   "version": "3.8.5"
  }
 },
 "nbformat": 4,
 "nbformat_minor": 4
}
