{
 "cells": [
  {
   "cell_type": "markdown",
   "metadata": {},
   "source": [
    "# ADA final exam (winter semester 2019/2020)"
   ]
  },
  {
   "cell_type": "markdown",
   "metadata": {},
   "source": [
    "A friend of yours wants to start a YouTube channel and ideally earn some money via ads. However, there are so many channels and videos out there that your friend has no idea where to even start. Fortunately, they know that you have taken ADA and think you might help them out by analyzing the videos that are currently on YouTube."
   ]
  },
  {
   "cell_type": "markdown",
   "metadata": {},
   "source": [
    "The data you are provided with is a subset of YouTube videos, with videos from some of the giant channels in two categories: \"Gaming\" and \"How-to & Style\", which are the categories your friend is choosing between. The dataset contains a lot of videos, with data on those videos including their titles, their total number of views in 2019, their tags and descriptions, etc. The data is, in gzip-compressed format, contained in the `data/` folder, as the file `youtube.csv.gz`."
   ]
  },
  {
   "cell_type": "markdown",
   "metadata": {},
   "source": [
    "The three tasks A, B and C are **independent** of each other, and you can solve any combination of them. The exam is designed for more than 3 hours, so don't worry if you don't manage to solve everything; you can still score a 6."
   ]
  },
  {
   "cell_type": "markdown",
   "metadata": {},
   "source": [
    "You need to run the following two cells to read and prepare the dataset."
   ]
  },
  {
   "cell_type": "code",
   "execution_count": 1,
   "metadata": {},
   "outputs": [
    {
     "name": "stdout",
     "output_type": "stream",
     "text": [
      "Package import test successful!\n"
     ]
    }
   ],
   "source": [
    "''' Package import test '''\n",
    "import os\n",
    "import gzip\n",
    "import random\n",
    "import pickle\n",
    "import re\n",
    "import itertools\n",
    "import collections\n",
    "import operator\n",
    "import requests\n",
    "from urllib.parse import *\n",
    "from datetime import *\n",
    "from dateutil.parser import parse\n",
    "\n",
    "import math\n",
    "import sklearn\n",
    "import pandas as pd\n",
    "import numpy as np\n",
    "from scipy import stats\n",
    "import statsmodels.api as sm\n",
    "import statsmodels.formula.api as smf\n",
    "from statsmodels.stats import *\n",
    "\n",
    "import ast\n",
    "import gensim\n",
    "import string\n",
    "import nltk\n",
    "import codecs\n",
    "import vaderSentiment\n",
    "import spacy\n",
    "from empath import Empath\n",
    "from bs4 import BeautifulSoup\n",
    "\n",
    "import networkx as nx\n",
    "\n",
    "import pyspark\n",
    "import pyspark.sql\n",
    "from pyspark import SparkContext\n",
    "\n",
    "from IPython.display import Image\n",
    "%matplotlib inline\n",
    "import matplotlib.pyplot as plt\n",
    "import seaborn as sns\n",
    "\n",
    "import warnings\n",
    "warnings.simplefilter('ignore')\n",
    "\n",
    "print(\"Package import test successful!\")"
   ]
  },
  {
   "cell_type": "code",
   "execution_count": 2,
   "metadata": {},
   "outputs": [],
   "source": [
    "youtube = pd.read_csv('data/youtube.csv.gz', compression='gzip')\n",
    "youtube.upload_date = pd.to_datetime(youtube.upload_date)"
   ]
  },
  {
   "cell_type": "markdown",
   "metadata": {},
   "source": [
    "## Dataset description"
   ]
  },
  {
   "cell_type": "markdown",
   "metadata": {},
   "source": [
    "Each row of the dataset corresponds to one video that was uploaded to YouTube. There are 11 columns:\n",
    "'channel', 'upload_date', 'title', 'categories', 'tags', 'duration',\n",
    "       'view_count', 'average_rating', 'height', 'width', 'channel_cat'.\n",
    "- `channel`: The channel (account) on which the video was uploaded.\n",
    "- `upload_date`: The date on which the video was uploaded (Pandas Timestamp object).\n",
    "- `title`: The title of the video.\n",
    "- `tags`: A list of words that describe the video.\n",
    "- `duration`: The duration of the video in seconds.\n",
    "- `view_count`: The number of times the video was watched.\n",
    "- `average_rating`: The average score with which the viewers rated the video (1-5).\n",
    "- `height`: The height of the video in pixels.\n",
    "- `width`: The width of the video in pixels.\n",
    "- `channel_cat`: The category of the channel on which this video was uploaded. This dataset only contains videos from channels from the 'Gaming' and the 'Howto & Style' category."
   ]
  },
  {
   "cell_type": "markdown",
   "metadata": {},
   "source": [
    "# Task A: Welcome to the exam!"
   ]
  },
  {
   "cell_type": "markdown",
   "metadata": {},
   "source": [
    "All of Task A refers to the videos that were published between and including 2010 and 2018."
   ]
  },
  {
   "cell_type": "markdown",
   "metadata": {},
   "source": [
    "## A1: A growing platform?"
   ]
  },
  {
   "cell_type": "markdown",
   "metadata": {},
   "source": [
    "You would first like to know whether YouTube in general is the right platform to invest time into."
   ]
  },
  {
   "cell_type": "markdown",
   "metadata": {},
   "source": [
    "1. Using the appropriate plot type, plot the number of videos published per year between and including 2010 and 2018."
   ]
  },
  {
   "cell_type": "code",
   "execution_count": 3,
   "metadata": {},
   "outputs": [
    {
     "data": {
      "text/html": [
       "<div>\n",
       "<style scoped>\n",
       "    .dataframe tbody tr th:only-of-type {\n",
       "        vertical-align: middle;\n",
       "    }\n",
       "\n",
       "    .dataframe tbody tr th {\n",
       "        vertical-align: top;\n",
       "    }\n",
       "\n",
       "    .dataframe thead th {\n",
       "        text-align: right;\n",
       "    }\n",
       "</style>\n",
       "<table border=\"1\" class=\"dataframe\">\n",
       "  <thead>\n",
       "    <tr style=\"text-align: right;\">\n",
       "      <th></th>\n",
       "      <th>channel</th>\n",
       "      <th>upload_date</th>\n",
       "      <th>title</th>\n",
       "      <th>tags</th>\n",
       "      <th>duration</th>\n",
       "      <th>view_count</th>\n",
       "      <th>average_rating</th>\n",
       "      <th>height</th>\n",
       "      <th>width</th>\n",
       "      <th>channel_cat</th>\n",
       "    </tr>\n",
       "  </thead>\n",
       "  <tbody>\n",
       "    <tr>\n",
       "      <th>0</th>\n",
       "      <td>PewDiePie</td>\n",
       "      <td>2013-03-04</td>\n",
       "      <td>A NEW ADVENTURE! - Kingdom Hearts (1) w/ Pewds</td>\n",
       "      <td>['lets', 'play', 'horror', 'game', 'walkthroug...</td>\n",
       "      <td>1126.0</td>\n",
       "      <td>2541550.0</td>\n",
       "      <td>4.886102</td>\n",
       "      <td>720.0</td>\n",
       "      <td>1280.0</td>\n",
       "      <td>Gaming</td>\n",
       "    </tr>\n",
       "    <tr>\n",
       "      <th>1</th>\n",
       "      <td>PewDiePie</td>\n",
       "      <td>2013-03-04</td>\n",
       "      <td>SAVING PRIVATE PEWDS - Conker's Bad Fur Day (15)</td>\n",
       "      <td>['lets', 'play', 'horror', 'game', 'walkthroug...</td>\n",
       "      <td>903.0</td>\n",
       "      <td>1727646.0</td>\n",
       "      <td>4.951531</td>\n",
       "      <td>720.0</td>\n",
       "      <td>1280.0</td>\n",
       "      <td>Gaming</td>\n",
       "    </tr>\n",
       "    <tr>\n",
       "      <th>2</th>\n",
       "      <td>PewDiePie</td>\n",
       "      <td>2013-03-04</td>\n",
       "      <td>THE WORST SCARE! - Amnesia: Rain (4)</td>\n",
       "      <td>['lets', 'play', 'horror', 'game', 'walkthroug...</td>\n",
       "      <td>806.0</td>\n",
       "      <td>1402747.0</td>\n",
       "      <td>4.962706</td>\n",
       "      <td>720.0</td>\n",
       "      <td>1280.0</td>\n",
       "      <td>Gaming</td>\n",
       "    </tr>\n",
       "    <tr>\n",
       "      <th>3</th>\n",
       "      <td>PewDiePie</td>\n",
       "      <td>2013-03-03</td>\n",
       "      <td>Nova / Sp00n / Cry / Pewds - Worms Revolution ...</td>\n",
       "      <td>['lets', 'play', 'horror', 'game', 'walkthroug...</td>\n",
       "      <td>909.0</td>\n",
       "      <td>4348296.0</td>\n",
       "      <td>4.937665</td>\n",
       "      <td>720.0</td>\n",
       "      <td>1280.0</td>\n",
       "      <td>Gaming</td>\n",
       "    </tr>\n",
       "    <tr>\n",
       "      <th>4</th>\n",
       "      <td>PewDiePie</td>\n",
       "      <td>2013-03-03</td>\n",
       "      <td>SEXIEST HORROR EVER - Amnesia: Rain (3)</td>\n",
       "      <td>['lets', 'play', 'horror', 'game', 'walkthroug...</td>\n",
       "      <td>834.0</td>\n",
       "      <td>1410659.0</td>\n",
       "      <td>4.957545</td>\n",
       "      <td>720.0</td>\n",
       "      <td>1280.0</td>\n",
       "      <td>Gaming</td>\n",
       "    </tr>\n",
       "  </tbody>\n",
       "</table>\n",
       "</div>"
      ],
      "text/plain": [
       "     channel upload_date                                              title  \\\n",
       "0  PewDiePie  2013-03-04     A NEW ADVENTURE! - Kingdom Hearts (1) w/ Pewds   \n",
       "1  PewDiePie  2013-03-04   SAVING PRIVATE PEWDS - Conker's Bad Fur Day (15)   \n",
       "2  PewDiePie  2013-03-04               THE WORST SCARE! - Amnesia: Rain (4)   \n",
       "3  PewDiePie  2013-03-03  Nova / Sp00n / Cry / Pewds - Worms Revolution ...   \n",
       "4  PewDiePie  2013-03-03            SEXIEST HORROR EVER - Amnesia: Rain (3)   \n",
       "\n",
       "                                                tags  duration  view_count  \\\n",
       "0  ['lets', 'play', 'horror', 'game', 'walkthroug...    1126.0   2541550.0   \n",
       "1  ['lets', 'play', 'horror', 'game', 'walkthroug...     903.0   1727646.0   \n",
       "2  ['lets', 'play', 'horror', 'game', 'walkthroug...     806.0   1402747.0   \n",
       "3  ['lets', 'play', 'horror', 'game', 'walkthroug...     909.0   4348296.0   \n",
       "4  ['lets', 'play', 'horror', 'game', 'walkthroug...     834.0   1410659.0   \n",
       "\n",
       "   average_rating  height   width channel_cat  \n",
       "0        4.886102   720.0  1280.0      Gaming  \n",
       "1        4.951531   720.0  1280.0      Gaming  \n",
       "2        4.962706   720.0  1280.0      Gaming  \n",
       "3        4.937665   720.0  1280.0      Gaming  \n",
       "4        4.957545   720.0  1280.0      Gaming  "
      ]
     },
     "execution_count": 3,
     "metadata": {},
     "output_type": "execute_result"
    }
   ],
   "source": [
    "df=youtube.copy()\n",
    "df.head()"
   ]
  },
  {
   "cell_type": "code",
   "execution_count": 4,
   "metadata": {},
   "outputs": [],
   "source": [
    "from datetime import *\n",
    "from dateutil.parser import parse"
   ]
  },
  {
   "cell_type": "code",
   "execution_count": 5,
   "metadata": {},
   "outputs": [],
   "source": [
    "df['year']=df.upload_date.apply(lambda x: x.year)\n",
    "year_mask=(df.year>=2010) & (df.year<=2018)\n",
    "df=df[year_mask]"
   ]
  },
  {
   "cell_type": "code",
   "execution_count": 6,
   "metadata": {},
   "outputs": [],
   "source": [
    "#aggregate by year. Number of titles is obviously equal to the number of videos\n",
    "year_stats=df.groupby('year').count()"
   ]
  },
  {
   "cell_type": "code",
   "execution_count": 7,
   "metadata": {},
   "outputs": [
    {
     "data": {
      "text/plain": [
       "Text(0.5, 0, 'Number of videos')"
      ]
     },
     "execution_count": 7,
     "metadata": {},
     "output_type": "execute_result"
    },
    {
     "data": {
      "image/png": "[encoded data removed]",
      "text/plain": [
       "<Figure size 432x288 with 1 Axes>"
      ]
     },
     "metadata": {
      "needs_background": "light"
     },
     "output_type": "display_data"
    }
   ],
   "source": [
    "year_stats.title.plot.barh(x='title')\n",
    "plt.title('Total number of videos per year')\n",
    "plt.xlabel('Number of videos')"
   ]
  },
  {
   "cell_type": "markdown",
   "metadata": {},
   "source": [
    "2. Now for each year, plot the number of channels that have been created between the beginning of 2010 and the end of that year. A channel is considered to be created at the time at which they upload their first video."
   ]
  },
  {
   "cell_type": "code",
   "execution_count": 26,
   "metadata": {},
   "outputs": [
    {
     "data": {
      "text/plain": [
       "Text(0.5, 0, 'Number of created channels')"
      ]
     },
     "execution_count": 26,
     "metadata": {},
     "output_type": "execute_result"
    },
    {
     "data": {
      "image/png": "[encoded data removed]",
      "text/plain": [
       "<Figure size 432x288 with 1 Axes>"
      ]
     },
     "metadata": {
      "needs_background": "light"
     },
     "output_type": "display_data"
    }
   ],
   "source": [
    "number_of_channels_yearly=df.groupby('channel').min()[['year']].reset_index().groupby('year').count()\n",
    "number_of_channels_yearly['cummulative_channel']=np.cumsum(number_of_channels_yearly.channel.values)\n",
    "number_of_channels_yearly.plot.barh(y='cummulative_channel')\n",
    "plt.title('Number of channels created in every year')\n",
    "plt.xlabel('Number of created channels')"
   ]
  },
  {
   "cell_type": "markdown",
   "metadata": {},
   "source": [
    "3. Normalize the number of videos published each year by the number of channels that have been created between the beginning of 2010 and the end of that year, and plot these quantities. Do seperate plots for gaming channels, how-to channels, and both together. Can you conclude from the plot that both gaming and how-to channels have been becoming less and less active recently? Why, or why not?"
   ]
  },
  {
   "cell_type": "code",
   "execution_count": 33,
   "metadata": {},
   "outputs": [
    {
     "data": {
      "text/plain": [
       "year\n",
       "2010     49\n",
       "2011     76\n",
       "2012    112\n",
       "2013    133\n",
       "2014    151\n",
       "2015    164\n",
       "2016    176\n",
       "2017    193\n",
       "2018    195\n",
       "Name: cummulative_channel, dtype: int64"
      ]
     },
     "execution_count": 33,
     "metadata": {},
     "output_type": "execute_result"
    }
   ],
   "source": [
    "number_of_channels_yearly.cummulative_channel"
   ]
  },
  {
   "cell_type": "code",
   "execution_count": 35,
   "metadata": {},
   "outputs": [
    {
     "data": {
      "text/html": [
       "<div>\n",
       "<style scoped>\n",
       "    .dataframe tbody tr th:only-of-type {\n",
       "        vertical-align: middle;\n",
       "    }\n",
       "\n",
       "    .dataframe tbody tr th {\n",
       "        vertical-align: top;\n",
       "    }\n",
       "\n",
       "    .dataframe thead th {\n",
       "        text-align: right;\n",
       "    }\n",
       "</style>\n",
       "<table border=\"1\" class=\"dataframe\">\n",
       "  <thead>\n",
       "    <tr style=\"text-align: right;\">\n",
       "      <th></th>\n",
       "      <th>year</th>\n",
       "      <th>channel_cat</th>\n",
       "      <th>videos</th>\n",
       "    </tr>\n",
       "  </thead>\n",
       "  <tbody>\n",
       "    <tr>\n",
       "      <th>0</th>\n",
       "      <td>2010</td>\n",
       "      <td>Gaming</td>\n",
       "      <td>1560</td>\n",
       "    </tr>\n",
       "    <tr>\n",
       "      <th>1</th>\n",
       "      <td>2010</td>\n",
       "      <td>Howto &amp; Style</td>\n",
       "      <td>1171</td>\n",
       "    </tr>\n",
       "    <tr>\n",
       "      <th>2</th>\n",
       "      <td>2011</td>\n",
       "      <td>Gaming</td>\n",
       "      <td>5563</td>\n",
       "    </tr>\n",
       "    <tr>\n",
       "      <th>3</th>\n",
       "      <td>2011</td>\n",
       "      <td>Howto &amp; Style</td>\n",
       "      <td>2366</td>\n",
       "    </tr>\n",
       "    <tr>\n",
       "      <th>4</th>\n",
       "      <td>2012</td>\n",
       "      <td>Gaming</td>\n",
       "      <td>8922</td>\n",
       "    </tr>\n",
       "    <tr>\n",
       "      <th>5</th>\n",
       "      <td>2012</td>\n",
       "      <td>Howto &amp; Style</td>\n",
       "      <td>4065</td>\n",
       "    </tr>\n",
       "    <tr>\n",
       "      <th>6</th>\n",
       "      <td>2013</td>\n",
       "      <td>Gaming</td>\n",
       "      <td>13511</td>\n",
       "    </tr>\n",
       "    <tr>\n",
       "      <th>7</th>\n",
       "      <td>2013</td>\n",
       "      <td>Howto &amp; Style</td>\n",
       "      <td>4798</td>\n",
       "    </tr>\n",
       "    <tr>\n",
       "      <th>8</th>\n",
       "      <td>2014</td>\n",
       "      <td>Gaming</td>\n",
       "      <td>15076</td>\n",
       "    </tr>\n",
       "    <tr>\n",
       "      <th>9</th>\n",
       "      <td>2014</td>\n",
       "      <td>Howto &amp; Style</td>\n",
       "      <td>5140</td>\n",
       "    </tr>\n",
       "    <tr>\n",
       "      <th>10</th>\n",
       "      <td>2015</td>\n",
       "      <td>Gaming</td>\n",
       "      <td>10192</td>\n",
       "    </tr>\n",
       "    <tr>\n",
       "      <th>11</th>\n",
       "      <td>2015</td>\n",
       "      <td>Howto &amp; Style</td>\n",
       "      <td>5512</td>\n",
       "    </tr>\n",
       "    <tr>\n",
       "      <th>12</th>\n",
       "      <td>2016</td>\n",
       "      <td>Gaming</td>\n",
       "      <td>8492</td>\n",
       "    </tr>\n",
       "    <tr>\n",
       "      <th>13</th>\n",
       "      <td>2016</td>\n",
       "      <td>Howto &amp; Style</td>\n",
       "      <td>7474</td>\n",
       "    </tr>\n",
       "    <tr>\n",
       "      <th>14</th>\n",
       "      <td>2017</td>\n",
       "      <td>Gaming</td>\n",
       "      <td>8047</td>\n",
       "    </tr>\n",
       "    <tr>\n",
       "      <th>15</th>\n",
       "      <td>2017</td>\n",
       "      <td>Howto &amp; Style</td>\n",
       "      <td>9309</td>\n",
       "    </tr>\n",
       "    <tr>\n",
       "      <th>16</th>\n",
       "      <td>2018</td>\n",
       "      <td>Gaming</td>\n",
       "      <td>7144</td>\n",
       "    </tr>\n",
       "    <tr>\n",
       "      <th>17</th>\n",
       "      <td>2018</td>\n",
       "      <td>Howto &amp; Style</td>\n",
       "      <td>9521</td>\n",
       "    </tr>\n",
       "  </tbody>\n",
       "</table>\n",
       "</div>"
      ],
      "text/plain": [
       "    year    channel_cat  videos\n",
       "0   2010         Gaming    1560\n",
       "1   2010  Howto & Style    1171\n",
       "2   2011         Gaming    5563\n",
       "3   2011  Howto & Style    2366\n",
       "4   2012         Gaming    8922\n",
       "5   2012  Howto & Style    4065\n",
       "6   2013         Gaming   13511\n",
       "7   2013  Howto & Style    4798\n",
       "8   2014         Gaming   15076\n",
       "9   2014  Howto & Style    5140\n",
       "10  2015         Gaming   10192\n",
       "11  2015  Howto & Style    5512\n",
       "12  2016         Gaming    8492\n",
       "13  2016  Howto & Style    7474\n",
       "14  2017         Gaming    8047\n",
       "15  2017  Howto & Style    9309\n",
       "16  2018         Gaming    7144\n",
       "17  2018  Howto & Style    9521"
      ]
     },
     "execution_count": 35,
     "metadata": {},
     "output_type": "execute_result"
    }
   ],
   "source": [
    "year_stats"
   ]
  },
  {
   "cell_type": "code",
   "execution_count": 40,
   "metadata": {},
   "outputs": [],
   "source": [
    "year_stats=df.groupby(['year','channel_cat']).count()[['title']]\n",
    "year_stats=year_stats.reset_index()\n",
    "year_stats.columns=['year','channel_cat','videos']\n",
    "year_stats['norm_videos']=year_stats['videos']/number_of_channels_yearly.\\\n",
    "    loc[year_stats.year].cummulative_channel.values\n",
    "year_stats.set_index('year',inplace=True)"
   ]
  },
  {
   "cell_type": "code",
   "execution_count": 42,
   "metadata": {},
   "outputs": [
    {
     "data": {
      "image/png": "[encoded data removed]",
      "text/plain": [
       "<Figure size 1080x288 with 2 Axes>"
      ]
     },
     "metadata": {
      "needs_background": "light"
     },
     "output_type": "display_data"
    }
   ],
   "source": [
    "fig,ax=plt.subplots(1,2,figsize=(15,4))\n",
    "\n",
    "fig.suptitle('The most predictive features')\n",
    "\n",
    "\n",
    "year_stats[year_stats.channel_cat=='Gaming'].plot.barh(ax=ax[0],y='norm_videos')\n",
    "ax[0].set_xlabel('Number')\n",
    "ax[0].set_title('Gaming normalized videos')\n",
    "\n",
    "year_stats[year_stats.channel_cat=='Howto & Style'].plot.barh(ax=ax[1],y='norm_videos')\n",
    "ax[1].set_xlabel('Number')\n",
    "ax[1].set_title('Howto & Style normalized videos')\n",
    "\n",
    "plt.tight_layout()\n",
    "plt.show()"
   ]
  },
  {
   "cell_type": "code",
   "execution_count": 43,
   "metadata": {},
   "outputs": [
    {
     "data": {
      "text/plain": [
       "Text(0.5, 0, 'number')"
      ]
     },
     "execution_count": 43,
     "metadata": {},
     "output_type": "execute_result"
    },
    {
     "data": {
      "image/png": "[encoded data removed]",
      "text/plain": [
       "<Figure size 432x288 with 1 Axes>"
      ]
     },
     "metadata": {
      "needs_background": "light"
     },
     "output_type": "display_data"
    }
   ],
   "source": [
    "year_stats.groupby('year').sum().plot.barh(y='norm_videos')\n",
    "plt.title('Total normalized number of videos')\n",
    "plt.xlabel('number')"
   ]
  },
  {
   "cell_type": "markdown",
   "metadata": {},
   "source": [
    "Howto & Style channels hold a strict increase of activity, Gaming channels activity started decreasing from 2015. For videos of two categories united we can confidently not state any dynamics. Actuallym normalizing by channels created in 2010 seems strange. I would rather normalize videos in each year by number of active channels in this year"
   ]
  },
  {
   "cell_type": "markdown",
   "metadata": {},
   "source": [
    "## A2: The one thing we all love: cash money"
   ]
  },
  {
   "cell_type": "markdown",
   "metadata": {},
   "source": [
    "Your friend is really keen on making money from their YouTube channel through ads and wants you to help them choose the most profitable channel category (Gaming or Howto & Style). The ad profit is directly proportional to the number of views of a video."
   ]
  },
  {
   "cell_type": "markdown",
   "metadata": {},
   "source": [
    "1. Since your friend wants to keep producing videos for several years to come, it might also be worth looking at the growth of the two categories.\n",
    "  1. Compute the total number of views in each category per year for the years 2010-2018.\n",
    "  2. Divide the yearly view count by the number of channels that posted a video in each category in each year. Plot these normalized counts.\n",
    "\n",
    "\n"
   ]
  },
  {
   "cell_type": "code",
   "execution_count": 134,
   "metadata": {},
   "outputs": [],
   "source": [
    "year_stats=df.groupby(['year','channel_cat','channel']).sum()[['view_count']].reset_index()\n",
    "year_stats=year_stats.groupby(['year','channel_cat']).agg([lambda x: len(x),np.sum])\n",
    "year_stats=year_stats[[(   'channel', '<lambda_0>'),('view_count',        'sum')]]\n",
    "year_stats.columns=['number_of_channels','total_views']\n",
    "year_stats['norm_total_views']=year_stats['total_views']/year_stats['number_of_channels']\n",
    "year_stats=year_stats.reset_index()"
   ]
  },
  {
   "cell_type": "code",
   "execution_count": 135,
   "metadata": {},
   "outputs": [
    {
     "data": {
      "image/png": "[encoded data removed]",
      "text/plain": [
       "<Figure size 1080x288 with 2 Axes>"
      ]
     },
     "metadata": {
      "needs_background": "light"
     },
     "output_type": "display_data"
    }
   ],
   "source": [
    "fig,ax=plt.subplots(1,2,figsize=(15,4))\n",
    "\n",
    "fig.suptitle('The most predictive features')\n",
    "\n",
    "\n",
    "year_stats[year_stats.channel_cat=='Gaming'].plot.barh(ax=ax[0],y='norm_total_views')\n",
    "ax[0].set_xlabel('Number')\n",
    "ax[0].set_title('Gaming views normalized to channels')\n",
    "\n",
    "year_stats[year_stats.channel_cat=='Howto & Style'].plot.barh(ax=ax[1],y='norm_total_views')\n",
    "ax[1].set_xlabel('Number')\n",
    "ax[1].set_title('Howto & Style views normalized to channels')\n",
    "\n",
    "plt.tight_layout()\n",
    "plt.show()"
   ]
  },
  {
   "cell_type": "code",
   "execution_count": 136,
   "metadata": {},
   "outputs": [
    {
     "data": {
      "text/plain": [
       "Text(0.5, 0, 'number')"
      ]
     },
     "execution_count": 136,
     "metadata": {},
     "output_type": "execute_result"
    },
    {
     "data": {
      "image/png": "[encoded data removed]",
      "text/plain": [
       "<Figure size 432x288 with 1 Axes>"
      ]
     },
     "metadata": {
      "needs_background": "light"
     },
     "output_type": "display_data"
    }
   ],
   "source": [
    "year_stats.groupby('year').sum().plot.barh(y='norm_total_views')\n",
    "plt.title('Total views normalized to channelss')\n",
    "plt.xlabel('number')"
   ]
  },
  {
   "cell_type": "markdown",
   "metadata": {},
   "source": [
    "2. Your friend's channel will be brand new, so you decide to look more closely at newer channels. For this question and all the following questions in A2, only consider channels that uploaded their first video in  2016 or later. Compute the total number of views in each category and divide it by the number of channels in that category.\n"
   ]
  },
  {
   "cell_type": "code",
   "execution_count": 47,
   "metadata": {},
   "outputs": [],
   "source": [
    "new_channels=channel_created[channel_created.year>=2016].index"
   ]
  },
  {
   "cell_type": "code",
   "execution_count": 52,
   "metadata": {},
   "outputs": [
    {
     "data": {
      "text/plain": [
       "Index(['5-Minute Crafts', '5-Minute Crafts GIRLY', '5-Minute Crafts PLAY',\n",
       "       'Anaysa', 'Antonio Garza', 'BRICO SYMPA', 'BRIGHT SIDE', 'Blossom',\n",
       "       'Ceeday', 'Chris Smoove', 'Clash Royale', 'Crafty Panda',\n",
       "       'Daequan Loco', 'Denis', 'Frost Diamond', 'GameGrumps',\n",
       "       'Grandpa Kitchen', 'Health Tips for You', 'Homemade solutions',\n",
       "       'Hong Giang DIY Slime', 'Indian Health', 'Izabela Stress',\n",
       "       'Jess No Limit', 'MeLlamanFredy', 'SHORT TIME SECRET',\n",
       "       'Satisfying Slime Videos', 'So Yummy', 'Tasty', 'Tom Slime', 'Xyz Gyan',\n",
       "       'YourHealth'],\n",
       "      dtype='object', name='channel')"
      ]
     },
     "execution_count": 52,
     "metadata": {},
     "output_type": "execute_result"
    }
   ],
   "source": [
    "new_channels"
   ]
  },
  {
   "cell_type": "code",
   "execution_count": 53,
   "metadata": {},
   "outputs": [],
   "source": [
    "df=df[np.isin(df.channel,new_channels)]"
   ]
  },
  {
   "cell_type": "code",
   "execution_count": 62,
   "metadata": {},
   "outputs": [
    {
     "data": {
      "text/html": [
       "<div>\n",
       "<style scoped>\n",
       "    .dataframe tbody tr th:only-of-type {\n",
       "        vertical-align: middle;\n",
       "    }\n",
       "\n",
       "    .dataframe tbody tr th {\n",
       "        vertical-align: top;\n",
       "    }\n",
       "\n",
       "    .dataframe thead tr th {\n",
       "        text-align: left;\n",
       "    }\n",
       "\n",
       "    .dataframe thead tr:last-of-type th {\n",
       "        text-align: right;\n",
       "    }\n",
       "</style>\n",
       "<table border=\"1\" class=\"dataframe\">\n",
       "  <thead>\n",
       "    <tr>\n",
       "      <th></th>\n",
       "      <th colspan=\"2\" halign=\"left\">channel</th>\n",
       "      <th colspan=\"2\" halign=\"left\">view_count</th>\n",
       "    </tr>\n",
       "    <tr>\n",
       "      <th></th>\n",
       "      <th>&lt;lambda_0&gt;</th>\n",
       "      <th>sum</th>\n",
       "      <th>&lt;lambda_0&gt;</th>\n",
       "      <th>sum</th>\n",
       "    </tr>\n",
       "    <tr>\n",
       "      <th>channel_cat</th>\n",
       "      <th></th>\n",
       "      <th></th>\n",
       "      <th></th>\n",
       "      <th></th>\n",
       "    </tr>\n",
       "  </thead>\n",
       "  <tbody>\n",
       "    <tr>\n",
       "      <th>Gaming</th>\n",
       "      <td>8</td>\n",
       "      <td>DenisDenisDenisDenisDenisDenisDenisDenisDenisD...</td>\n",
       "      <td>4279.0</td>\n",
       "      <td>6.155203e+09</td>\n",
       "    </tr>\n",
       "    <tr>\n",
       "      <th>Howto &amp; Style</th>\n",
       "      <td>23</td>\n",
       "      <td>5-Minute Crafts5-Minute Crafts5-Minute Crafts5...</td>\n",
       "      <td>10843.0</td>\n",
       "      <td>2.788741e+10</td>\n",
       "    </tr>\n",
       "  </tbody>\n",
       "</table>\n",
       "</div>"
      ],
      "text/plain": [
       "                 channel                                                     \\\n",
       "              <lambda_0>                                                sum   \n",
       "channel_cat                                                                   \n",
       "Gaming                 8  DenisDenisDenisDenisDenisDenisDenisDenisDenisD...   \n",
       "Howto & Style         23  5-Minute Crafts5-Minute Crafts5-Minute Crafts5...   \n",
       "\n",
       "              view_count                \n",
       "              <lambda_0>           sum  \n",
       "channel_cat                             \n",
       "Gaming            4279.0  6.155203e+09  \n",
       "Howto & Style    10843.0  2.788741e+10  "
      ]
     },
     "execution_count": 62,
     "metadata": {},
     "output_type": "execute_result"
    }
   ],
   "source": [
    "df[['channel','view_count','channel_cat']].groupby('channel_cat').agg([lambda x: len(set(x)),np.sum])"
   ]
  },
  {
   "cell_type": "code",
   "execution_count": 60,
   "metadata": {},
   "outputs": [
    {
     "data": {
      "text/html": [
       "<div>\n",
       "<style scoped>\n",
       "    .dataframe tbody tr th:only-of-type {\n",
       "        vertical-align: middle;\n",
       "    }\n",
       "\n",
       "    .dataframe tbody tr th {\n",
       "        vertical-align: top;\n",
       "    }\n",
       "\n",
       "    .dataframe thead th {\n",
       "        text-align: right;\n",
       "    }\n",
       "</style>\n",
       "<table border=\"1\" class=\"dataframe\">\n",
       "  <thead>\n",
       "    <tr style=\"text-align: right;\">\n",
       "      <th></th>\n",
       "      <th>number_of_channels</th>\n",
       "      <th>total_views</th>\n",
       "      <th>norm_total_views</th>\n",
       "    </tr>\n",
       "    <tr>\n",
       "      <th>channel_cat</th>\n",
       "      <th></th>\n",
       "      <th></th>\n",
       "      <th></th>\n",
       "    </tr>\n",
       "  </thead>\n",
       "  <tbody>\n",
       "    <tr>\n",
       "      <th>Gaming</th>\n",
       "      <td>8</td>\n",
       "      <td>6.155203e+09</td>\n",
       "      <td>7.694004e+08</td>\n",
       "    </tr>\n",
       "    <tr>\n",
       "      <th>Howto &amp; Style</th>\n",
       "      <td>23</td>\n",
       "      <td>2.788741e+10</td>\n",
       "      <td>1.212496e+09</td>\n",
       "    </tr>\n",
       "  </tbody>\n",
       "</table>\n",
       "</div>"
      ],
      "text/plain": [
       "               number_of_channels   total_views  norm_total_views\n",
       "channel_cat                                                      \n",
       "Gaming                          8  6.155203e+09      7.694004e+08\n",
       "Howto & Style                  23  2.788741e+10      1.212496e+09"
      ]
     },
     "execution_count": 60,
     "metadata": {},
     "output_type": "execute_result"
    }
   ],
   "source": [
    "category_stats=df[['channel','view_count','channel_cat']].groupby('channel_cat').agg([lambda x: len(set(x)),np.sum])\n",
    "category_stats=category_stats[[(   'channel', '<lambda_0>'),('view_count',        'sum')]]\n",
    "category_stats.columns=['number_of_channels','total_views']\n",
    "category_stats['norm_total_views']=category_stats['total_views']/category_stats['number_of_channels']\n",
    "category_stats"
   ]
  },
  {
   "cell_type": "markdown",
   "metadata": {},
   "source": [
    "3. The number of views might be very unevenly over the different channels, and channels might upload different numbers of videos.\n",
    "  1. Compute the mean number of views per video for each channel.\n",
    "  2. Compute the mean of these means for each of the two categories. Print these values.\n",
    "  3. Using bootstrapping, compute 95% confidence intervals for these two means. From this analysis, can you draw a recommendation for one of the two categories? Why, or why not?"
   ]
  },
  {
   "cell_type": "code",
   "execution_count": 69,
   "metadata": {},
   "outputs": [
    {
     "data": {
      "text/html": [
       "<div>\n",
       "<style scoped>\n",
       "    .dataframe tbody tr th:only-of-type {\n",
       "        vertical-align: middle;\n",
       "    }\n",
       "\n",
       "    .dataframe tbody tr th {\n",
       "        vertical-align: top;\n",
       "    }\n",
       "\n",
       "    .dataframe thead th {\n",
       "        text-align: right;\n",
       "    }\n",
       "</style>\n",
       "<table border=\"1\" class=\"dataframe\">\n",
       "  <thead>\n",
       "    <tr style=\"text-align: right;\">\n",
       "      <th></th>\n",
       "      <th>channel</th>\n",
       "      <th>channel_cat</th>\n",
       "      <th>mean_views</th>\n",
       "    </tr>\n",
       "  </thead>\n",
       "  <tbody>\n",
       "    <tr>\n",
       "      <th>0</th>\n",
       "      <td>5-Minute Crafts</td>\n",
       "      <td>Howto &amp; Style</td>\n",
       "      <td>4.001437e+06</td>\n",
       "    </tr>\n",
       "    <tr>\n",
       "      <th>1</th>\n",
       "      <td>5-Minute Crafts GIRLY</td>\n",
       "      <td>Howto &amp; Style</td>\n",
       "      <td>1.822314e+06</td>\n",
       "    </tr>\n",
       "    <tr>\n",
       "      <th>2</th>\n",
       "      <td>5-Minute Crafts PLAY</td>\n",
       "      <td>Howto &amp; Style</td>\n",
       "      <td>1.879931e+06</td>\n",
       "    </tr>\n",
       "    <tr>\n",
       "      <th>3</th>\n",
       "      <td>Anaysa</td>\n",
       "      <td>Howto &amp; Style</td>\n",
       "      <td>3.157148e+06</td>\n",
       "    </tr>\n",
       "    <tr>\n",
       "      <th>4</th>\n",
       "      <td>Antonio Garza</td>\n",
       "      <td>Howto &amp; Style</td>\n",
       "      <td>4.003824e+06</td>\n",
       "    </tr>\n",
       "  </tbody>\n",
       "</table>\n",
       "</div>"
      ],
      "text/plain": [
       "                 channel    channel_cat    mean_views\n",
       "0        5-Minute Crafts  Howto & Style  4.001437e+06\n",
       "1  5-Minute Crafts GIRLY  Howto & Style  1.822314e+06\n",
       "2   5-Minute Crafts PLAY  Howto & Style  1.879931e+06\n",
       "3                 Anaysa  Howto & Style  3.157148e+06\n",
       "4          Antonio Garza  Howto & Style  4.003824e+06"
      ]
     },
     "execution_count": 69,
     "metadata": {},
     "output_type": "execute_result"
    }
   ],
   "source": [
    "channel_stats=df.groupby(['channel','channel_cat']).agg(['count','sum'])[['view_count']]\n",
    "channel_stats.reset_index(inplace=True)\n",
    "channel_stats.columns=['channel','channel_cat','count','sum']\n",
    "channel_stats['mean_views']=channel_stats['sum']/channel_stats['count']\n",
    "channel_stats.drop(['count','sum'],axis=1,inplace=True)\n",
    "channel_stats.head()"
   ]
  },
  {
   "cell_type": "code",
   "execution_count": 174,
   "metadata": {},
   "outputs": [],
   "source": [
    "def bootstrap_CI_func(data,func, nbr_draws=1000):\n",
    "    res = np.zeros(nbr_draws)\n",
    "    data = np.array(data)\n",
    "\n",
    "    for n in range(nbr_draws):\n",
    "        indices = np.random.randint(0, len(data), len(data))\n",
    "        data_tmp = data[indices] \n",
    "        res[n] = func(data_tmp)\n",
    "\n",
    "    return [np.nanpercentile(res, 2.5),np.nanpercentile(res, 97.5)]"
   ]
  },
  {
   "cell_type": "code",
   "execution_count": 178,
   "metadata": {},
   "outputs": [
    {
     "data": {
      "text/html": [
       "<div>\n",
       "<style scoped>\n",
       "    .dataframe tbody tr th:only-of-type {\n",
       "        vertical-align: middle;\n",
       "    }\n",
       "\n",
       "    .dataframe tbody tr th {\n",
       "        vertical-align: top;\n",
       "    }\n",
       "\n",
       "    .dataframe thead th {\n",
       "        text-align: right;\n",
       "    }\n",
       "</style>\n",
       "<table border=\"1\" class=\"dataframe\">\n",
       "  <thead>\n",
       "    <tr style=\"text-align: right;\">\n",
       "      <th></th>\n",
       "      <th>mean</th>\n",
       "      <th>mean_CI_2.5</th>\n",
       "      <th>mean_CI_97.5</th>\n",
       "    </tr>\n",
       "    <tr>\n",
       "      <th>channel_cat</th>\n",
       "      <th></th>\n",
       "      <th></th>\n",
       "      <th></th>\n",
       "    </tr>\n",
       "  </thead>\n",
       "  <tbody>\n",
       "    <tr>\n",
       "      <th>Gaming</th>\n",
       "      <td>1.444658e+06</td>\n",
       "      <td>1.049765e+06</td>\n",
       "      <td>1.826079e+06</td>\n",
       "    </tr>\n",
       "    <tr>\n",
       "      <th>Howto &amp; Style</th>\n",
       "      <td>3.965565e+06</td>\n",
       "      <td>2.531069e+06</td>\n",
       "      <td>5.550373e+06</td>\n",
       "    </tr>\n",
       "  </tbody>\n",
       "</table>\n",
       "</div>"
      ],
      "text/plain": [
       "                       mean   mean_CI_2.5  mean_CI_97.5\n",
       "channel_cat                                            \n",
       "Gaming         1.444658e+06  1.049765e+06  1.826079e+06\n",
       "Howto & Style  3.965565e+06  2.531069e+06  5.550373e+06"
      ]
     },
     "execution_count": 178,
     "metadata": {},
     "output_type": "execute_result"
    }
   ],
   "source": [
    "cat_means=channel_stats.groupby('channel_cat').agg(['mean',lambda x: bootstrap_CI_func(x,np.mean)[0],lambda x: bootstrap_CI_func(x,np.mean)[1]])\n",
    "cat_means.columns=['mean','mean_CI_2.5','mean_CI_97.5']\n",
    "cat_means.head()"
   ]
  },
  {
   "cell_type": "code",
   "execution_count": 180,
   "metadata": {},
   "outputs": [
    {
     "data": {
      "text/plain": [
       "Text(0.5, 0, 'mean number')"
      ]
     },
     "execution_count": 180,
     "metadata": {},
     "output_type": "execute_result"
    },
    {
     "data": {
      "image/png": "[encoded data removed]",
      "text/plain": [
       "<Figure size 432x288 with 1 Axes>"
      ]
     },
     "metadata": {
      "needs_background": "light"
     },
     "output_type": "display_data"
    }
   ],
   "source": [
    "cat_means.plot.barh(y='mean',xerr=[cat_means['mean']-cat_means['mean_CI_2.5'],cat_means['mean_CI_97.5']-cat_means['mean']])\n",
    "plt.title('Mean number of views per video')\n",
    "plt.xlabel('mean number')"
   ]
  },
  {
   "cell_type": "markdown",
   "metadata": {},
   "source": [
    "Comparison of mean number of views per video for every category leads to a conclusion that Howto& Style category is more profitable in terms of view and hence money, since it's 95% confidence intervals of mean are much higherer than the corresponding ones of Gaming category"
   ]
  },
  {
   "cell_type": "markdown",
   "metadata": {},
   "source": [
    "time 1:29"
   ]
  },
  {
   "cell_type": "markdown",
   "metadata": {},
   "source": [
    "# Task B: View forecasting (Machine Learning)"
   ]
  },
  {
   "cell_type": "markdown",
   "metadata": {},
   "source": [
    "Your friend wants to figure out how they can optimize their videos for getting the maximum number of views (without using shocking thumbnails and clickbait titles). In this task, you will build a machine learning (ML) model for predicting the success of a video."
   ]
  },
  {
   "cell_type": "markdown",
   "metadata": {},
   "source": [
    "## B1: Get those shovels out again"
   ]
  },
  {
   "cell_type": "markdown",
   "metadata": {},
   "source": [
    "1. For the prediction model, use all rows of the dataset, but keep only the following columns: `view_count, channel, upload_date, duration, average_rating, height, width`."
   ]
  },
  {
   "cell_type": "code",
   "execution_count": 74,
   "metadata": {},
   "outputs": [
    {
     "data": {
      "text/html": [
       "<div>\n",
       "<style scoped>\n",
       "    .dataframe tbody tr th:only-of-type {\n",
       "        vertical-align: middle;\n",
       "    }\n",
       "\n",
       "    .dataframe tbody tr th {\n",
       "        vertical-align: top;\n",
       "    }\n",
       "\n",
       "    .dataframe thead th {\n",
       "        text-align: right;\n",
       "    }\n",
       "</style>\n",
       "<table border=\"1\" class=\"dataframe\">\n",
       "  <thead>\n",
       "    <tr style=\"text-align: right;\">\n",
       "      <th></th>\n",
       "      <th>view_count</th>\n",
       "      <th>channel</th>\n",
       "      <th>upload_date</th>\n",
       "      <th>duration</th>\n",
       "      <th>average_rating</th>\n",
       "      <th>height</th>\n",
       "      <th>width</th>\n",
       "    </tr>\n",
       "  </thead>\n",
       "  <tbody>\n",
       "    <tr>\n",
       "      <th>0</th>\n",
       "      <td>2541550.0</td>\n",
       "      <td>PewDiePie</td>\n",
       "      <td>2013-03-04</td>\n",
       "      <td>1126.0</td>\n",
       "      <td>4.886102</td>\n",
       "      <td>720.0</td>\n",
       "      <td>1280.0</td>\n",
       "    </tr>\n",
       "    <tr>\n",
       "      <th>1</th>\n",
       "      <td>1727646.0</td>\n",
       "      <td>PewDiePie</td>\n",
       "      <td>2013-03-04</td>\n",
       "      <td>903.0</td>\n",
       "      <td>4.951531</td>\n",
       "      <td>720.0</td>\n",
       "      <td>1280.0</td>\n",
       "    </tr>\n",
       "    <tr>\n",
       "      <th>2</th>\n",
       "      <td>1402747.0</td>\n",
       "      <td>PewDiePie</td>\n",
       "      <td>2013-03-04</td>\n",
       "      <td>806.0</td>\n",
       "      <td>4.962706</td>\n",
       "      <td>720.0</td>\n",
       "      <td>1280.0</td>\n",
       "    </tr>\n",
       "    <tr>\n",
       "      <th>3</th>\n",
       "      <td>4348296.0</td>\n",
       "      <td>PewDiePie</td>\n",
       "      <td>2013-03-03</td>\n",
       "      <td>909.0</td>\n",
       "      <td>4.937665</td>\n",
       "      <td>720.0</td>\n",
       "      <td>1280.0</td>\n",
       "    </tr>\n",
       "    <tr>\n",
       "      <th>4</th>\n",
       "      <td>1410659.0</td>\n",
       "      <td>PewDiePie</td>\n",
       "      <td>2013-03-03</td>\n",
       "      <td>834.0</td>\n",
       "      <td>4.957545</td>\n",
       "      <td>720.0</td>\n",
       "      <td>1280.0</td>\n",
       "    </tr>\n",
       "  </tbody>\n",
       "</table>\n",
       "</div>"
      ],
      "text/plain": [
       "   view_count    channel upload_date  duration  average_rating  height   width\n",
       "0   2541550.0  PewDiePie  2013-03-04    1126.0        4.886102   720.0  1280.0\n",
       "1   1727646.0  PewDiePie  2013-03-04     903.0        4.951531   720.0  1280.0\n",
       "2   1402747.0  PewDiePie  2013-03-04     806.0        4.962706   720.0  1280.0\n",
       "3   4348296.0  PewDiePie  2013-03-03     909.0        4.937665   720.0  1280.0\n",
       "4   1410659.0  PewDiePie  2013-03-03     834.0        4.957545   720.0  1280.0"
      ]
     },
     "execution_count": 74,
     "metadata": {},
     "output_type": "execute_result"
    }
   ],
   "source": [
    "df=youtube.copy()\n",
    "df=df[['view_count', 'channel', 'upload_date', 'duration', 'average_rating', 'height', 'width']]\n",
    "df.head()"
   ]
  },
  {
   "cell_type": "markdown",
   "metadata": {},
   "source": [
    "2. Extract the upload year and upload month from the `upload_date` column into the two columns `upload_year` and `upload_month`, and remove `upload_date`."
   ]
  },
  {
   "cell_type": "code",
   "execution_count": 75,
   "metadata": {},
   "outputs": [
    {
     "data": {
      "text/html": [
       "<div>\n",
       "<style scoped>\n",
       "    .dataframe tbody tr th:only-of-type {\n",
       "        vertical-align: middle;\n",
       "    }\n",
       "\n",
       "    .dataframe tbody tr th {\n",
       "        vertical-align: top;\n",
       "    }\n",
       "\n",
       "    .dataframe thead th {\n",
       "        text-align: right;\n",
       "    }\n",
       "</style>\n",
       "<table border=\"1\" class=\"dataframe\">\n",
       "  <thead>\n",
       "    <tr style=\"text-align: right;\">\n",
       "      <th></th>\n",
       "      <th>view_count</th>\n",
       "      <th>channel</th>\n",
       "      <th>duration</th>\n",
       "      <th>average_rating</th>\n",
       "      <th>height</th>\n",
       "      <th>width</th>\n",
       "      <th>upload_year</th>\n",
       "      <th>upload_month</th>\n",
       "    </tr>\n",
       "  </thead>\n",
       "  <tbody>\n",
       "    <tr>\n",
       "      <th>0</th>\n",
       "      <td>2541550.0</td>\n",
       "      <td>PewDiePie</td>\n",
       "      <td>1126.0</td>\n",
       "      <td>4.886102</td>\n",
       "      <td>720.0</td>\n",
       "      <td>1280.0</td>\n",
       "      <td>2013</td>\n",
       "      <td>3</td>\n",
       "    </tr>\n",
       "    <tr>\n",
       "      <th>1</th>\n",
       "      <td>1727646.0</td>\n",
       "      <td>PewDiePie</td>\n",
       "      <td>903.0</td>\n",
       "      <td>4.951531</td>\n",
       "      <td>720.0</td>\n",
       "      <td>1280.0</td>\n",
       "      <td>2013</td>\n",
       "      <td>3</td>\n",
       "    </tr>\n",
       "    <tr>\n",
       "      <th>2</th>\n",
       "      <td>1402747.0</td>\n",
       "      <td>PewDiePie</td>\n",
       "      <td>806.0</td>\n",
       "      <td>4.962706</td>\n",
       "      <td>720.0</td>\n",
       "      <td>1280.0</td>\n",
       "      <td>2013</td>\n",
       "      <td>3</td>\n",
       "    </tr>\n",
       "    <tr>\n",
       "      <th>3</th>\n",
       "      <td>4348296.0</td>\n",
       "      <td>PewDiePie</td>\n",
       "      <td>909.0</td>\n",
       "      <td>4.937665</td>\n",
       "      <td>720.0</td>\n",
       "      <td>1280.0</td>\n",
       "      <td>2013</td>\n",
       "      <td>3</td>\n",
       "    </tr>\n",
       "    <tr>\n",
       "      <th>4</th>\n",
       "      <td>1410659.0</td>\n",
       "      <td>PewDiePie</td>\n",
       "      <td>834.0</td>\n",
       "      <td>4.957545</td>\n",
       "      <td>720.0</td>\n",
       "      <td>1280.0</td>\n",
       "      <td>2013</td>\n",
       "      <td>3</td>\n",
       "    </tr>\n",
       "  </tbody>\n",
       "</table>\n",
       "</div>"
      ],
      "text/plain": [
       "   view_count    channel  duration  average_rating  height   width  \\\n",
       "0   2541550.0  PewDiePie    1126.0        4.886102   720.0  1280.0   \n",
       "1   1727646.0  PewDiePie     903.0        4.951531   720.0  1280.0   \n",
       "2   1402747.0  PewDiePie     806.0        4.962706   720.0  1280.0   \n",
       "3   4348296.0  PewDiePie     909.0        4.937665   720.0  1280.0   \n",
       "4   1410659.0  PewDiePie     834.0        4.957545   720.0  1280.0   \n",
       "\n",
       "   upload_year  upload_month  \n",
       "0         2013             3  \n",
       "1         2013             3  \n",
       "2         2013             3  \n",
       "3         2013             3  \n",
       "4         2013             3  "
      ]
     },
     "execution_count": 75,
     "metadata": {},
     "output_type": "execute_result"
    }
   ],
   "source": [
    "df['upload_year']=df.upload_date.apply(lambda x: x.year)\n",
    "df['upload_month']=df.upload_date.apply(lambda x: x.month)\n",
    "df.drop('upload_date',axis=1,inplace=True)\n",
    "df.head()"
   ]
  },
  {
   "cell_type": "markdown",
   "metadata": {},
   "source": [
    "3. The entry in the channel column for a video indicates on which channel the video was uploaded. Encode this column via one-hot encoding."
   ]
  },
  {
   "cell_type": "code",
   "execution_count": 76,
   "metadata": {},
   "outputs": [
    {
     "data": {
      "text/html": [
       "<div>\n",
       "<style scoped>\n",
       "    .dataframe tbody tr th:only-of-type {\n",
       "        vertical-align: middle;\n",
       "    }\n",
       "\n",
       "    .dataframe tbody tr th {\n",
       "        vertical-align: top;\n",
       "    }\n",
       "\n",
       "    .dataframe thead th {\n",
       "        text-align: right;\n",
       "    }\n",
       "</style>\n",
       "<table border=\"1\" class=\"dataframe\">\n",
       "  <thead>\n",
       "    <tr style=\"text-align: right;\">\n",
       "      <th></th>\n",
       "      <th>view_count</th>\n",
       "      <th>duration</th>\n",
       "      <th>average_rating</th>\n",
       "      <th>height</th>\n",
       "      <th>width</th>\n",
       "      <th>upload_year</th>\n",
       "      <th>upload_month</th>\n",
       "      <th>channel_5-Minute Crafts</th>\n",
       "      <th>channel_5-Minute Crafts GIRLY</th>\n",
       "      <th>channel_5-Minute Crafts PLAY</th>\n",
       "      <th>...</th>\n",
       "      <th>channel_grav3yardgirl</th>\n",
       "      <th>channel_iHasCupquake</th>\n",
       "      <th>channel_jacksepticeye</th>\n",
       "      <th>channel_jaipurthepinkcity</th>\n",
       "      <th>channel_jeffreestar</th>\n",
       "      <th>channel_speedyw03</th>\n",
       "      <th>channel_stampylonghead</th>\n",
       "      <th>channel_theRadBrad</th>\n",
       "      <th>channel_videogamedunkey</th>\n",
       "      <th>channel_windy31</th>\n",
       "    </tr>\n",
       "  </thead>\n",
       "  <tbody>\n",
       "    <tr>\n",
       "      <th>0</th>\n",
       "      <td>2541550.0</td>\n",
       "      <td>1126.0</td>\n",
       "      <td>4.886102</td>\n",
       "      <td>720.0</td>\n",
       "      <td>1280.0</td>\n",
       "      <td>2013</td>\n",
       "      <td>3</td>\n",
       "      <td>0</td>\n",
       "      <td>0</td>\n",
       "      <td>0</td>\n",
       "      <td>...</td>\n",
       "      <td>0</td>\n",
       "      <td>0</td>\n",
       "      <td>0</td>\n",
       "      <td>0</td>\n",
       "      <td>0</td>\n",
       "      <td>0</td>\n",
       "      <td>0</td>\n",
       "      <td>0</td>\n",
       "      <td>0</td>\n",
       "      <td>0</td>\n",
       "    </tr>\n",
       "    <tr>\n",
       "      <th>1</th>\n",
       "      <td>1727646.0</td>\n",
       "      <td>903.0</td>\n",
       "      <td>4.951531</td>\n",
       "      <td>720.0</td>\n",
       "      <td>1280.0</td>\n",
       "      <td>2013</td>\n",
       "      <td>3</td>\n",
       "      <td>0</td>\n",
       "      <td>0</td>\n",
       "      <td>0</td>\n",
       "      <td>...</td>\n",
       "      <td>0</td>\n",
       "      <td>0</td>\n",
       "      <td>0</td>\n",
       "      <td>0</td>\n",
       "      <td>0</td>\n",
       "      <td>0</td>\n",
       "      <td>0</td>\n",
       "      <td>0</td>\n",
       "      <td>0</td>\n",
       "      <td>0</td>\n",
       "    </tr>\n",
       "    <tr>\n",
       "      <th>2</th>\n",
       "      <td>1402747.0</td>\n",
       "      <td>806.0</td>\n",
       "      <td>4.962706</td>\n",
       "      <td>720.0</td>\n",
       "      <td>1280.0</td>\n",
       "      <td>2013</td>\n",
       "      <td>3</td>\n",
       "      <td>0</td>\n",
       "      <td>0</td>\n",
       "      <td>0</td>\n",
       "      <td>...</td>\n",
       "      <td>0</td>\n",
       "      <td>0</td>\n",
       "      <td>0</td>\n",
       "      <td>0</td>\n",
       "      <td>0</td>\n",
       "      <td>0</td>\n",
       "      <td>0</td>\n",
       "      <td>0</td>\n",
       "      <td>0</td>\n",
       "      <td>0</td>\n",
       "    </tr>\n",
       "    <tr>\n",
       "      <th>3</th>\n",
       "      <td>4348296.0</td>\n",
       "      <td>909.0</td>\n",
       "      <td>4.937665</td>\n",
       "      <td>720.0</td>\n",
       "      <td>1280.0</td>\n",
       "      <td>2013</td>\n",
       "      <td>3</td>\n",
       "      <td>0</td>\n",
       "      <td>0</td>\n",
       "      <td>0</td>\n",
       "      <td>...</td>\n",
       "      <td>0</td>\n",
       "      <td>0</td>\n",
       "      <td>0</td>\n",
       "      <td>0</td>\n",
       "      <td>0</td>\n",
       "      <td>0</td>\n",
       "      <td>0</td>\n",
       "      <td>0</td>\n",
       "      <td>0</td>\n",
       "      <td>0</td>\n",
       "    </tr>\n",
       "    <tr>\n",
       "      <th>4</th>\n",
       "      <td>1410659.0</td>\n",
       "      <td>834.0</td>\n",
       "      <td>4.957545</td>\n",
       "      <td>720.0</td>\n",
       "      <td>1280.0</td>\n",
       "      <td>2013</td>\n",
       "      <td>3</td>\n",
       "      <td>0</td>\n",
       "      <td>0</td>\n",
       "      <td>0</td>\n",
       "      <td>...</td>\n",
       "      <td>0</td>\n",
       "      <td>0</td>\n",
       "      <td>0</td>\n",
       "      <td>0</td>\n",
       "      <td>0</td>\n",
       "      <td>0</td>\n",
       "      <td>0</td>\n",
       "      <td>0</td>\n",
       "      <td>0</td>\n",
       "      <td>0</td>\n",
       "    </tr>\n",
       "  </tbody>\n",
       "</table>\n",
       "<p>5 rows × 202 columns</p>\n",
       "</div>"
      ],
      "text/plain": [
       "   view_count  duration  average_rating  height   width  upload_year  \\\n",
       "0   2541550.0    1126.0        4.886102   720.0  1280.0         2013   \n",
       "1   1727646.0     903.0        4.951531   720.0  1280.0         2013   \n",
       "2   1402747.0     806.0        4.962706   720.0  1280.0         2013   \n",
       "3   4348296.0     909.0        4.937665   720.0  1280.0         2013   \n",
       "4   1410659.0     834.0        4.957545   720.0  1280.0         2013   \n",
       "\n",
       "   upload_month  channel_5-Minute Crafts  channel_5-Minute Crafts GIRLY  \\\n",
       "0             3                        0                              0   \n",
       "1             3                        0                              0   \n",
       "2             3                        0                              0   \n",
       "3             3                        0                              0   \n",
       "4             3                        0                              0   \n",
       "\n",
       "   channel_5-Minute Crafts PLAY  ...  channel_grav3yardgirl  \\\n",
       "0                             0  ...                      0   \n",
       "1                             0  ...                      0   \n",
       "2                             0  ...                      0   \n",
       "3                             0  ...                      0   \n",
       "4                             0  ...                      0   \n",
       "\n",
       "   channel_iHasCupquake  channel_jacksepticeye  channel_jaipurthepinkcity  \\\n",
       "0                     0                      0                          0   \n",
       "1                     0                      0                          0   \n",
       "2                     0                      0                          0   \n",
       "3                     0                      0                          0   \n",
       "4                     0                      0                          0   \n",
       "\n",
       "   channel_jeffreestar  channel_speedyw03  channel_stampylonghead  \\\n",
       "0                    0                  0                       0   \n",
       "1                    0                  0                       0   \n",
       "2                    0                  0                       0   \n",
       "3                    0                  0                       0   \n",
       "4                    0                  0                       0   \n",
       "\n",
       "   channel_theRadBrad  channel_videogamedunkey  channel_windy31  \n",
       "0                   0                        0                0  \n",
       "1                   0                        0                0  \n",
       "2                   0                        0                0  \n",
       "3                   0                        0                0  \n",
       "4                   0                        0                0  \n",
       "\n",
       "[5 rows x 202 columns]"
      ]
     },
     "execution_count": 76,
     "metadata": {},
     "output_type": "execute_result"
    }
   ],
   "source": [
    "df=pd.get_dummies(df)\n",
    "df.head()"
   ]
  },
  {
   "cell_type": "markdown",
   "metadata": {},
   "source": [
    "4. Split the data into a train (70%) and a test set (30%) with the appropriate function from sklearn, using 42 as the random seed."
   ]
  },
  {
   "cell_type": "code",
   "execution_count": 77,
   "metadata": {},
   "outputs": [],
   "source": [
    "from sklearn.model_selection import train_test_split\n",
    "X_train, X_test, y_train, y_test = \\\n",
    "    train_test_split(df.drop('view_count',axis=1), df['view_count'], test_size=0.3, random_state=42)"
   ]
  },
  {
   "cell_type": "markdown",
   "metadata": {},
   "source": [
    "## B2: Who is the most viewed of them all?"
   ]
  },
  {
   "cell_type": "markdown",
   "metadata": {},
   "source": [
    "1. Train a ridge regression model (i.e., an L2-regularized linear regression model) on the train set that predicts the view count from the other features. Find and use the optimal regularization parameter $\\alpha$ from the set {0.001, 0.01, 0.1} via 3-fold cross validation."
   ]
  },
  {
   "cell_type": "code",
   "execution_count": 78,
   "metadata": {},
   "outputs": [],
   "source": [
    "from sklearn.model_selection import cross_val_score\n",
    "from sklearn.linear_model import RidgeCV\n",
    "\n",
    "clf=RidgeCV([0.001, 0.01, 0.1],cv=3,scoring='neg_mean_absolute_error').fit(X_train,y_train)"
   ]
  },
  {
   "cell_type": "code",
   "execution_count": 79,
   "metadata": {},
   "outputs": [
    {
     "data": {
      "text/plain": [
       "0.1"
      ]
     },
     "execution_count": 79,
     "metadata": {},
     "output_type": "execute_result"
    }
   ],
   "source": [
    "clf.alpha_"
   ]
  },
  {
   "cell_type": "markdown",
   "metadata": {},
   "source": [
    "2. Report the mean absolute error that the model makes on the test set."
   ]
  },
  {
   "cell_type": "code",
   "execution_count": 208,
   "metadata": {},
   "outputs": [
    {
     "data": {
      "text/plain": [
       "0.1492857348769191"
      ]
     },
     "execution_count": 208,
     "metadata": {},
     "output_type": "execute_result"
    }
   ],
   "source": [
    "clf.score(X_test,y_test)"
   ]
  },
  {
   "cell_type": "code",
   "execution_count": 80,
   "metadata": {},
   "outputs": [
    {
     "data": {
      "text/plain": [
       "1444649.5039951745"
      ]
     },
     "execution_count": 80,
     "metadata": {},
     "output_type": "execute_result"
    }
   ],
   "source": [
    "from sklearn.metrics import mean_squared_error, mean_absolute_error\n",
    "mean_absolute_error(y_test, clf.predict(X_test))"
   ]
  },
  {
   "cell_type": "markdown",
   "metadata": {},
   "source": [
    "## B3: Checking our ambitions"
   ]
  },
  {
   "cell_type": "markdown",
   "metadata": {},
   "source": [
    "To improve performance, you want to make the task of the ML model easier and turn it into a classification task. Now it only has to predict whether a video has a high view count (defined as being larger than the median of the view counts in the training set) or a low view count (defined as being smaller or equal to the median of the view counts in the training set)."
   ]
  },
  {
   "cell_type": "markdown",
   "metadata": {},
   "source": [
    "1. Train a logistic regression model for this classification task. Find and use the optimal regularization parameter C (as defined in scikit-learn's documentation) from the set {1, 10, 100} via 3-fold cross validation. Use the random seed 42. _Hint_: If you get a warning about the training algorithm failing to converge, increase the maximum number of training iterations."
   ]
  },
  {
   "cell_type": "code",
   "execution_count": 81,
   "metadata": {},
   "outputs": [],
   "source": [
    "df['high_view_count']=df['view_count']>np.median(y_train)\n",
    "X_train, X_test, y_train, y_test = \\\n",
    "    train_test_split(df.drop(['view_count','high_view_count'],axis=1), df['high_view_count'], test_size=0.3, random_state=42)"
   ]
  },
  {
   "cell_type": "code",
   "execution_count": 82,
   "metadata": {},
   "outputs": [],
   "source": [
    "from sklearn.linear_model import LogisticRegressionCV\n",
    "clf=LogisticRegressionCV(Cs=[1,10,100],cv=3,random_state=42, max_iter=10000,scoring='accuracy').fit(X_train,y_train)"
   ]
  },
  {
   "cell_type": "markdown",
   "metadata": {},
   "source": [
    "2. Compute the accuracy of the logistic regression model on the test set."
   ]
  },
  {
   "cell_type": "code",
   "execution_count": 86,
   "metadata": {},
   "outputs": [
    {
     "data": {
      "text/plain": [
       "1"
      ]
     },
     "execution_count": 86,
     "metadata": {},
     "output_type": "execute_result"
    }
   ],
   "source": [
    "clf.C_[0]"
   ]
  },
  {
   "cell_type": "code",
   "execution_count": 87,
   "metadata": {},
   "outputs": [
    {
     "data": {
      "text/plain": [
       "0.7479033761020716"
      ]
     },
     "execution_count": 87,
     "metadata": {},
     "output_type": "execute_result"
    }
   ],
   "source": [
    "clf.score(X_test,y_test)"
   ]
  },
  {
   "cell_type": "markdown",
   "metadata": {},
   "source": [
    "## B4: ...something's not right."
   ]
  },
  {
   "cell_type": "markdown",
   "metadata": {},
   "source": [
    "You are satisfied with the model performance. In fact, you are a bit surprised at how good the model is given the relatively little amount of information about the videos. So you take a closer look at the features and realize that the (one-hot-encoded) channel feature does not make sense for the application that your friend has in mind."
   ]
  },
  {
   "cell_type": "markdown",
   "metadata": {},
   "source": [
    "1. Why does the channel feature not make sense?"
   ]
  },
  {
   "cell_type": "markdown",
   "metadata": {},
   "source": [
    "Obviously our friend want to create his own new channel, not buy an exsiting one. Hence, feature vector of our friend will have all zeros for one-hot-encoded variable.  \n",
    "In these terms it is unlogical to predict views relaying on name of already existing channel"
   ]
  },
  {
   "cell_type": "markdown",
   "metadata": {},
   "source": [
    "2. Train another logistic regression model with all the features from B3 except the one-hot-encoded channel. Use again 42 as the seed for the train test split and perform the same hyperparameter optimization as in B3. How does the model performance change?"
   ]
  },
  {
   "cell_type": "code",
   "execution_count": 88,
   "metadata": {},
   "outputs": [],
   "source": [
    "X_train, X_test, y_train, y_test = \\\n",
    "    train_test_split(df[['duration', 'average_rating', 'height', 'width',\n",
    "       'upload_year', 'upload_month']], df['high_view_count'], test_size=0.3, random_state=42)"
   ]
  },
  {
   "cell_type": "code",
   "execution_count": 89,
   "metadata": {},
   "outputs": [],
   "source": [
    "clf=LogisticRegressionCV(Cs=[1,10,100],cv=3,random_state=42, max_iter=10000,scoring='accuracy').fit(X_train,y_train)"
   ]
  },
  {
   "cell_type": "code",
   "execution_count": 90,
   "metadata": {},
   "outputs": [
    {
     "data": {
      "text/plain": [
       "100"
      ]
     },
     "execution_count": 90,
     "metadata": {},
     "output_type": "execute_result"
    }
   ],
   "source": [
    "clf.C_[0]"
   ]
  },
  {
   "cell_type": "code",
   "execution_count": 226,
   "metadata": {},
   "outputs": [
    {
     "data": {
      "text/plain": [
       "0.6075311208276587"
      ]
     },
     "execution_count": 226,
     "metadata": {},
     "output_type": "execute_result"
    }
   ],
   "source": [
    "clf.score(X_test,y_test)"
   ]
  },
  {
   "cell_type": "markdown",
   "metadata": {},
   "source": [
    "Well, accuracy decreased by 15% , not that far from uniform prediction though"
   ]
  },
  {
   "cell_type": "markdown",
   "metadata": {},
   "source": [
    "## B5: \"We kinda forgot about categories.\""
   ]
  },
  {
   "cell_type": "markdown",
   "metadata": {},
   "source": [
    "On second thought, there is actually one feature that you may use about the channel. Namely, the channel category. The reason this one makes sense might also help you answer B4.1."
   ]
  },
  {
   "cell_type": "markdown",
   "metadata": {},
   "source": [
    "1. Train and evaluate another logistic regression model (in the same way as in B4 regarding train/test split and hyperparameter) that additionally includes the one-hot-encoded channel category."
   ]
  },
  {
   "cell_type": "code",
   "execution_count": 245,
   "metadata": {},
   "outputs": [
    {
     "data": {
      "text/html": [
       "<div>\n",
       "<style scoped>\n",
       "    .dataframe tbody tr th:only-of-type {\n",
       "        vertical-align: middle;\n",
       "    }\n",
       "\n",
       "    .dataframe tbody tr th {\n",
       "        vertical-align: top;\n",
       "    }\n",
       "\n",
       "    .dataframe thead th {\n",
       "        text-align: right;\n",
       "    }\n",
       "</style>\n",
       "<table border=\"1\" class=\"dataframe\">\n",
       "  <thead>\n",
       "    <tr style=\"text-align: right;\">\n",
       "      <th></th>\n",
       "      <th>view_count</th>\n",
       "      <th>duration</th>\n",
       "      <th>average_rating</th>\n",
       "      <th>height</th>\n",
       "      <th>width</th>\n",
       "      <th>channel_cat</th>\n",
       "      <th>upload_year</th>\n",
       "      <th>upload_month</th>\n",
       "    </tr>\n",
       "  </thead>\n",
       "  <tbody>\n",
       "    <tr>\n",
       "      <th>0</th>\n",
       "      <td>2541550.0</td>\n",
       "      <td>1126.0</td>\n",
       "      <td>4.886102</td>\n",
       "      <td>720.0</td>\n",
       "      <td>1280.0</td>\n",
       "      <td>Gaming</td>\n",
       "      <td>2013</td>\n",
       "      <td>3</td>\n",
       "    </tr>\n",
       "    <tr>\n",
       "      <th>1</th>\n",
       "      <td>1727646.0</td>\n",
       "      <td>903.0</td>\n",
       "      <td>4.951531</td>\n",
       "      <td>720.0</td>\n",
       "      <td>1280.0</td>\n",
       "      <td>Gaming</td>\n",
       "      <td>2013</td>\n",
       "      <td>3</td>\n",
       "    </tr>\n",
       "    <tr>\n",
       "      <th>2</th>\n",
       "      <td>1402747.0</td>\n",
       "      <td>806.0</td>\n",
       "      <td>4.962706</td>\n",
       "      <td>720.0</td>\n",
       "      <td>1280.0</td>\n",
       "      <td>Gaming</td>\n",
       "      <td>2013</td>\n",
       "      <td>3</td>\n",
       "    </tr>\n",
       "    <tr>\n",
       "      <th>3</th>\n",
       "      <td>4348296.0</td>\n",
       "      <td>909.0</td>\n",
       "      <td>4.937665</td>\n",
       "      <td>720.0</td>\n",
       "      <td>1280.0</td>\n",
       "      <td>Gaming</td>\n",
       "      <td>2013</td>\n",
       "      <td>3</td>\n",
       "    </tr>\n",
       "    <tr>\n",
       "      <th>4</th>\n",
       "      <td>1410659.0</td>\n",
       "      <td>834.0</td>\n",
       "      <td>4.957545</td>\n",
       "      <td>720.0</td>\n",
       "      <td>1280.0</td>\n",
       "      <td>Gaming</td>\n",
       "      <td>2013</td>\n",
       "      <td>3</td>\n",
       "    </tr>\n",
       "  </tbody>\n",
       "</table>\n",
       "</div>"
      ],
      "text/plain": [
       "   view_count  duration  average_rating  height   width channel_cat  \\\n",
       "0   2541550.0    1126.0        4.886102   720.0  1280.0      Gaming   \n",
       "1   1727646.0     903.0        4.951531   720.0  1280.0      Gaming   \n",
       "2   1402747.0     806.0        4.962706   720.0  1280.0      Gaming   \n",
       "3   4348296.0     909.0        4.937665   720.0  1280.0      Gaming   \n",
       "4   1410659.0     834.0        4.957545   720.0  1280.0      Gaming   \n",
       "\n",
       "   upload_year  upload_month  \n",
       "0         2013             3  \n",
       "1         2013             3  \n",
       "2         2013             3  \n",
       "3         2013             3  \n",
       "4         2013             3  "
      ]
     },
     "execution_count": 245,
     "metadata": {},
     "output_type": "execute_result"
    }
   ],
   "source": [
    "df=youtube.copy()\n",
    "df=df[['view_count', 'upload_date', 'duration', 'average_rating', 'height', 'width','channel_cat']]\n",
    "df['upload_year']=df.upload_date.apply(lambda x: x.year)\n",
    "df['upload_month']=df.upload_date.apply(lambda x: x.month)\n",
    "df.drop('upload_date',axis=1,inplace=True)\n",
    "df.head()"
   ]
  },
  {
   "cell_type": "code",
   "execution_count": 246,
   "metadata": {},
   "outputs": [
    {
     "data": {
      "text/html": [
       "<div>\n",
       "<style scoped>\n",
       "    .dataframe tbody tr th:only-of-type {\n",
       "        vertical-align: middle;\n",
       "    }\n",
       "\n",
       "    .dataframe tbody tr th {\n",
       "        vertical-align: top;\n",
       "    }\n",
       "\n",
       "    .dataframe thead th {\n",
       "        text-align: right;\n",
       "    }\n",
       "</style>\n",
       "<table border=\"1\" class=\"dataframe\">\n",
       "  <thead>\n",
       "    <tr style=\"text-align: right;\">\n",
       "      <th></th>\n",
       "      <th>view_count</th>\n",
       "      <th>duration</th>\n",
       "      <th>average_rating</th>\n",
       "      <th>height</th>\n",
       "      <th>width</th>\n",
       "      <th>upload_year</th>\n",
       "      <th>upload_month</th>\n",
       "      <th>channel_cat_Gaming</th>\n",
       "      <th>channel_cat_Howto &amp; Style</th>\n",
       "    </tr>\n",
       "  </thead>\n",
       "  <tbody>\n",
       "    <tr>\n",
       "      <th>0</th>\n",
       "      <td>2541550.0</td>\n",
       "      <td>1126.0</td>\n",
       "      <td>4.886102</td>\n",
       "      <td>720.0</td>\n",
       "      <td>1280.0</td>\n",
       "      <td>2013</td>\n",
       "      <td>3</td>\n",
       "      <td>1</td>\n",
       "      <td>0</td>\n",
       "    </tr>\n",
       "    <tr>\n",
       "      <th>1</th>\n",
       "      <td>1727646.0</td>\n",
       "      <td>903.0</td>\n",
       "      <td>4.951531</td>\n",
       "      <td>720.0</td>\n",
       "      <td>1280.0</td>\n",
       "      <td>2013</td>\n",
       "      <td>3</td>\n",
       "      <td>1</td>\n",
       "      <td>0</td>\n",
       "    </tr>\n",
       "    <tr>\n",
       "      <th>2</th>\n",
       "      <td>1402747.0</td>\n",
       "      <td>806.0</td>\n",
       "      <td>4.962706</td>\n",
       "      <td>720.0</td>\n",
       "      <td>1280.0</td>\n",
       "      <td>2013</td>\n",
       "      <td>3</td>\n",
       "      <td>1</td>\n",
       "      <td>0</td>\n",
       "    </tr>\n",
       "    <tr>\n",
       "      <th>3</th>\n",
       "      <td>4348296.0</td>\n",
       "      <td>909.0</td>\n",
       "      <td>4.937665</td>\n",
       "      <td>720.0</td>\n",
       "      <td>1280.0</td>\n",
       "      <td>2013</td>\n",
       "      <td>3</td>\n",
       "      <td>1</td>\n",
       "      <td>0</td>\n",
       "    </tr>\n",
       "    <tr>\n",
       "      <th>4</th>\n",
       "      <td>1410659.0</td>\n",
       "      <td>834.0</td>\n",
       "      <td>4.957545</td>\n",
       "      <td>720.0</td>\n",
       "      <td>1280.0</td>\n",
       "      <td>2013</td>\n",
       "      <td>3</td>\n",
       "      <td>1</td>\n",
       "      <td>0</td>\n",
       "    </tr>\n",
       "  </tbody>\n",
       "</table>\n",
       "</div>"
      ],
      "text/plain": [
       "   view_count  duration  average_rating  height   width  upload_year  \\\n",
       "0   2541550.0    1126.0        4.886102   720.0  1280.0         2013   \n",
       "1   1727646.0     903.0        4.951531   720.0  1280.0         2013   \n",
       "2   1402747.0     806.0        4.962706   720.0  1280.0         2013   \n",
       "3   4348296.0     909.0        4.937665   720.0  1280.0         2013   \n",
       "4   1410659.0     834.0        4.957545   720.0  1280.0         2013   \n",
       "\n",
       "   upload_month  channel_cat_Gaming  channel_cat_Howto & Style  \n",
       "0             3                   1                          0  \n",
       "1             3                   1                          0  \n",
       "2             3                   1                          0  \n",
       "3             3                   1                          0  \n",
       "4             3                   1                          0  "
      ]
     },
     "execution_count": 246,
     "metadata": {},
     "output_type": "execute_result"
    }
   ],
   "source": [
    "df=pd.get_dummies(df)\n",
    "df.head()"
   ]
  },
  {
   "cell_type": "code",
   "execution_count": 255,
   "metadata": {},
   "outputs": [],
   "source": [
    "def make_train_test(df):\n",
    "    X_train, X_test, y_train, y_test = \\\n",
    "    train_test_split(df.drop('view_count',axis=1), df['view_count'], test_size=0.3, random_state=42)\n",
    "    high_treshold=np.median(y_train)\n",
    "    y_train=y_train.values>high_treshold\n",
    "    y_test=y_test.values>high_treshold\n",
    "    return X_train, X_test, y_train, y_test"
   ]
  },
  {
   "cell_type": "code",
   "execution_count": 256,
   "metadata": {},
   "outputs": [],
   "source": [
    "X_train, X_test, y_train, y_test = make_train_test(df)"
   ]
  },
  {
   "cell_type": "code",
   "execution_count": 257,
   "metadata": {},
   "outputs": [
    {
     "data": {
      "text/plain": [
       "0.6194728326540644"
      ]
     },
     "execution_count": 257,
     "metadata": {},
     "output_type": "execute_result"
    }
   ],
   "source": [
    "clf=LogisticRegressionCV(Cs=[1,10,100],cv=3,random_state=42, max_iter=10000,scoring='accuracy').fit(X_train,y_train)\n",
    "clf.score(X_train,y_train)"
   ]
  },
  {
   "cell_type": "markdown",
   "metadata": {},
   "source": [
    "2. The dynamics of the two categories might differ a lot, and the two communities might value different properties of a video differently. For instance, for one community, a long duration might be more important, for the other one, a large picture width. Thus, having only a single weight for, e.g., the duration of a video, might not give the best results. Is there something smarter that you can do than simply including the category as a single one-hot-encoded feature to improve the classification performance? Implement your idea and compare the accuracy on the test set with that of the first model (from task B5.1)."
   ]
  },
  {
   "cell_type": "code",
   "execution_count": 251,
   "metadata": {},
   "outputs": [],
   "source": [
    "#Train model for each category and present a friend with two models\n",
    "#So he can choose a category and get the prediction"
   ]
  },
  {
   "cell_type": "code",
   "execution_count": 254,
   "metadata": {},
   "outputs": [],
   "source": [
    "df_Gaming=df[df['channel_cat_Gaming']==1].drop(['channel_cat_Gaming','channel_cat_Howto & Style'],axis=1)\n",
    "df_Howto=df[df['channel_cat_Howto & Style']==1].drop(['channel_cat_Gaming','channel_cat_Howto & Style'],axis=1)"
   ]
  },
  {
   "cell_type": "code",
   "execution_count": 265,
   "metadata": {},
   "outputs": [
    {
     "name": "stdout",
     "output_type": "stream",
     "text": [
      "Gaming accuracy 0.63\n"
     ]
    }
   ],
   "source": [
    "X_train, X_test, y_train, y_test = make_train_test(df_Gaming)\n",
    "clf=LogisticRegressionCV(Cs=[1,10,100],cv=3,random_state=42, max_iter=10000,scoring='accuracy').fit(X_train,y_train)\n",
    "print('Gaming accuracy {:.2f}'.format(clf.score(X_train,y_train)))"
   ]
  },
  {
   "cell_type": "code",
   "execution_count": 266,
   "metadata": {},
   "outputs": [
    {
     "name": "stdout",
     "output_type": "stream",
     "text": [
      "Howto & Style accuracy 0.63\n"
     ]
    }
   ],
   "source": [
    "X_train, X_test, y_train, y_test = make_train_test(df_Howto)\n",
    "clf=LogisticRegressionCV(Cs=[1,10,100],cv=3,random_state=42, max_iter=10000,scoring='accuracy').fit(X_train,y_train)\n",
    "print('Howto & Style accuracy {:.2f}'.format(clf.score(X_train,y_train)))"
   ]
  },
  {
   "cell_type": "markdown",
   "metadata": {},
   "source": [
    "Accuracy increased by 2%"
   ]
  },
  {
   "cell_type": "markdown",
   "metadata": {},
   "source": [
    "# Task C: A map of the channels (Graphs)"
   ]
  },
  {
   "cell_type": "markdown",
   "metadata": {},
   "source": [
    "Your friend wants to map out the channels and represent their similarities. For this purpose, we have created two undirected and unweighted graphs for you, where in each graph, each channel has a node and similar channels have edges connecting them. In one graph, the similarity between two channels is based on how similar their video descriptions are, while in the other, the similarity is based on how similar their video tags are. We will call the former $G_{text}$ and the latter $G_{tags}$. You will be analyzing the two graphs loaded by running the cell below."
   ]
  },
  {
   "cell_type": "code",
   "execution_count": 91,
   "metadata": {},
   "outputs": [],
   "source": [
    "from networkx import from_numpy_array\n",
    "import json\n",
    "g_text_adj = np.loadtxt(open('data/g_text_adj.csv', 'r'), delimiter=',', skiprows=0)\n",
    "g_tags_adj = np.loadtxt(open('data/g_tags_adj.csv', 'r'), delimiter=',', skiprows=0)\n",
    "channel_to_index = json.load(open('data/channel_indices.json', 'r'))\n",
    "g_text = from_numpy_array(g_text_adj)\n",
    "g_tags = from_numpy_array(g_tags_adj)"
   ]
  },
  {
   "cell_type": "markdown",
   "metadata": {},
   "source": [
    "## C1: Does YouTube have a content diversity problem?"
   ]
  },
  {
   "cell_type": "code",
   "execution_count": 92,
   "metadata": {},
   "outputs": [
    {
     "data": {
      "image/png": "[encoded data removed]",
      "text/plain": [
       "<Figure size 432x288 with 1 Axes>"
      ]
     },
     "metadata": {},
     "output_type": "display_data"
    }
   ],
   "source": [
    "nx.draw(g_text)"
   ]
  },
  {
   "cell_type": "code",
   "execution_count": 93,
   "metadata": {},
   "outputs": [
    {
     "data": {
      "image/png": "[encoded data removed]",
      "text/plain": [
       "<Figure size 432x288 with 1 Axes>"
      ]
     },
     "metadata": {},
     "output_type": "display_data"
    }
   ],
   "source": [
    "nx.draw(g_tags)"
   ]
  },
  {
   "cell_type": "markdown",
   "metadata": {},
   "source": [
    "1. For each graph, calculate its diameter (i.e., the largest shortest-path length, where the maximization is done over all node pairs). What difference do you see? _Hint_: Don't worry if you get an error, just read the error message carefully."
   ]
  },
  {
   "cell_type": "code",
   "execution_count": 97,
   "metadata": {},
   "outputs": [],
   "source": [
    "import networkx as nx"
   ]
  },
  {
   "cell_type": "code",
   "execution_count": 98,
   "metadata": {},
   "outputs": [
    {
     "name": "stdout",
     "output_type": "stream",
     "text": [
      "Diameter text: 2.0000\n"
     ]
    },
    {
     "ename": "NetworkXError",
     "evalue": "Found infinite path length because the graph is not connected",
     "output_type": "error",
     "traceback": [
      "\u001b[0;31m---------------------------------------------------------------------------\u001b[0m",
      "\u001b[0;31mNetworkXError\u001b[0m                             Traceback (most recent call last)",
      "\u001b[0;32m<ipython-input-98-151ae71a740a>\u001b[0m in \u001b[0;36m<module>\u001b[0;34m\u001b[0m\n\u001b[1;32m      1\u001b[0m \u001b[0mprint\u001b[0m\u001b[0;34m(\u001b[0m\u001b[0;34m\"Diameter text: %.4f\"\u001b[0m \u001b[0;34m%\u001b[0m\u001b[0mnx\u001b[0m\u001b[0;34m.\u001b[0m\u001b[0mdiameter\u001b[0m\u001b[0;34m(\u001b[0m\u001b[0mg_text\u001b[0m\u001b[0;34m)\u001b[0m\u001b[0;34m)\u001b[0m\u001b[0;34m\u001b[0m\u001b[0;34m\u001b[0m\u001b[0m\n\u001b[0;32m----> 2\u001b[0;31m \u001b[0mprint\u001b[0m\u001b[0;34m(\u001b[0m\u001b[0;34m\"Diameter tags: %.4f\"\u001b[0m \u001b[0;34m%\u001b[0m\u001b[0mnx\u001b[0m\u001b[0;34m.\u001b[0m\u001b[0mdiameter\u001b[0m\u001b[0;34m(\u001b[0m\u001b[0mg_tags\u001b[0m\u001b[0;34m)\u001b[0m\u001b[0;34m)\u001b[0m\u001b[0;34m\u001b[0m\u001b[0;34m\u001b[0m\u001b[0m\n\u001b[0m",
      "\u001b[0;32m~/anaconda3/envs/adaexam/lib/python3.8/site-packages/networkx/algorithms/distance_measures.py\u001b[0m in \u001b[0;36mdiameter\u001b[0;34m(G, e, usebounds)\u001b[0m\n\u001b[1;32m    297\u001b[0m         \u001b[0;32mreturn\u001b[0m \u001b[0mextrema_bounding\u001b[0m\u001b[0;34m(\u001b[0m\u001b[0mG\u001b[0m\u001b[0;34m,\u001b[0m \u001b[0mcompute\u001b[0m\u001b[0;34m=\u001b[0m\u001b[0;34m\"diameter\"\u001b[0m\u001b[0;34m)\u001b[0m\u001b[0;34m\u001b[0m\u001b[0;34m\u001b[0m\u001b[0m\n\u001b[1;32m    298\u001b[0m     \u001b[0;32mif\u001b[0m \u001b[0me\u001b[0m \u001b[0;32mis\u001b[0m \u001b[0;32mNone\u001b[0m\u001b[0;34m:\u001b[0m\u001b[0;34m\u001b[0m\u001b[0;34m\u001b[0m\u001b[0m\n\u001b[0;32m--> 299\u001b[0;31m         \u001b[0me\u001b[0m \u001b[0;34m=\u001b[0m \u001b[0meccentricity\u001b[0m\u001b[0;34m(\u001b[0m\u001b[0mG\u001b[0m\u001b[0;34m)\u001b[0m\u001b[0;34m\u001b[0m\u001b[0;34m\u001b[0m\u001b[0m\n\u001b[0m\u001b[1;32m    300\u001b[0m     \u001b[0;32mreturn\u001b[0m \u001b[0mmax\u001b[0m\u001b[0;34m(\u001b[0m\u001b[0me\u001b[0m\u001b[0;34m.\u001b[0m\u001b[0mvalues\u001b[0m\u001b[0;34m(\u001b[0m\u001b[0;34m)\u001b[0m\u001b[0;34m)\u001b[0m\u001b[0;34m\u001b[0m\u001b[0;34m\u001b[0m\u001b[0m\n\u001b[1;32m    301\u001b[0m \u001b[0;34m\u001b[0m\u001b[0m\n",
      "\u001b[0;32m~/anaconda3/envs/adaexam/lib/python3.8/site-packages/networkx/algorithms/distance_measures.py\u001b[0m in \u001b[0;36meccentricity\u001b[0;34m(G, v, sp)\u001b[0m\n\u001b[1;32m    262\u001b[0m             \u001b[0;32melse\u001b[0m\u001b[0;34m:\u001b[0m\u001b[0;34m\u001b[0m\u001b[0;34m\u001b[0m\u001b[0m\n\u001b[1;32m    263\u001b[0m                 \u001b[0mmsg\u001b[0m \u001b[0;34m=\u001b[0m \u001b[0;34m\"Found infinite path length because the graph is not\"\u001b[0m \u001b[0;34m\" connected\"\u001b[0m\u001b[0;34m\u001b[0m\u001b[0;34m\u001b[0m\u001b[0m\n\u001b[0;32m--> 264\u001b[0;31m             \u001b[0;32mraise\u001b[0m \u001b[0mnx\u001b[0m\u001b[0;34m.\u001b[0m\u001b[0mNetworkXError\u001b[0m\u001b[0;34m(\u001b[0m\u001b[0mmsg\u001b[0m\u001b[0;34m)\u001b[0m\u001b[0;34m\u001b[0m\u001b[0;34m\u001b[0m\u001b[0m\n\u001b[0m\u001b[1;32m    265\u001b[0m \u001b[0;34m\u001b[0m\u001b[0m\n\u001b[1;32m    266\u001b[0m         \u001b[0me\u001b[0m\u001b[0;34m[\u001b[0m\u001b[0mn\u001b[0m\u001b[0;34m]\u001b[0m \u001b[0;34m=\u001b[0m \u001b[0mmax\u001b[0m\u001b[0;34m(\u001b[0m\u001b[0mlength\u001b[0m\u001b[0;34m.\u001b[0m\u001b[0mvalues\u001b[0m\u001b[0;34m(\u001b[0m\u001b[0;34m)\u001b[0m\u001b[0;34m)\u001b[0m\u001b[0;34m\u001b[0m\u001b[0;34m\u001b[0m\u001b[0m\n",
      "\u001b[0;31mNetworkXError\u001b[0m: Found infinite path length because the graph is not connected"
     ]
    }
   ],
   "source": [
    "print(\"Diameter text: %.4f\" %nx.diameter(g_text))\n",
    "print(\"Diameter tags: %.4f\" %nx.diameter(g_tags))"
   ]
  },
  {
   "cell_type": "markdown",
   "metadata": {},
   "source": [
    "2. What does the diameter of $G_{text}$ say about the diversity of the channels’ contents? How about the diameter of $G_{tags}$?"
   ]
  },
  {
   "cell_type": "markdown",
   "metadata": {},
   "source": [
    "Seems that in textual sense the channels are quite close. One need only two steps max to reach one channel from the other.\n",
    "\n",
    "So the textual graph is connected so we can calculate its diameter, whereas tags graph is not. Apparently, we have several clusters with not intersecting tags"
   ]
  },
  {
   "cell_type": "markdown",
   "metadata": {},
   "source": [
    "3. Based on what you have calculated, which one has greater diversity: descriptions used by channels, or tags used by channels? Justify your answer."
   ]
  },
  {
   "cell_type": "code",
   "execution_count": 100,
   "metadata": {},
   "outputs": [
    {
     "data": {
      "text/plain": [
       "1"
      ]
     },
     "execution_count": 100,
     "metadata": {},
     "output_type": "execute_result"
    }
   ],
   "source": [
    "nx.number_connected_components(g_text)"
   ]
  },
  {
   "cell_type": "code",
   "execution_count": 101,
   "metadata": {},
   "outputs": [
    {
     "data": {
      "text/plain": [
       "2"
      ]
     },
     "execution_count": 101,
     "metadata": {},
     "output_type": "execute_result"
    }
   ],
   "source": [
    "nx.number_connected_components(g_tags)"
   ]
  },
  {
   "cell_type": "markdown",
   "metadata": {},
   "source": [
    "Tags has more diversity since the clusters are not intersecting at all"
   ]
  },
  {
   "cell_type": "markdown",
   "metadata": {},
   "source": [
    "4. Imagine that you want to **compare** content diversity between two sets of channels (i.e., you want to see which set of channels has more diverse content), and you have calculated a tag-based graph for each set. Do you think the diameter is a good measure for doing the comparison? Justify your answer."
   ]
  },
  {
   "cell_type": "markdown",
   "metadata": {},
   "source": [
    "So if we consider the highest diversity as the highest diameter, than we account for how many channels we have to go to reach one from the other. But diversity of two channels should depend on characteristics of these two channels, not some rest. Hence we should consider their initial similarity that was used for building the graph. Or come up with new similarity metrics by ourselves"
   ]
  },
  {
   "cell_type": "markdown",
   "metadata": {},
   "source": [
    "diameter can also be undefined"
   ]
  },
  {
   "cell_type": "markdown",
   "metadata": {},
   "source": [
    "5. Back to our own two graphs. Based on $G_{text}$, for each category of channels, which channel is the one most representative of the contents of all channels in that category? In other words, for each category, if you needed to provide a summary of all channels in the category via one channel, which channel would you choose? Show us (us being the exam designers and your friend) the descriptions of this channel’s two most-viewed videos. What metric did you use for this purpose? Explain your choice."
   ]
  },
  {
   "cell_type": "markdown",
   "metadata": {},
   "source": [
    "They can use either betweenness centrality (number of shortest paths passing through the node, i.e. the channel) or just the degree. Here we use the former."
   ]
  },
  {
   "cell_type": "code",
   "execution_count": 103,
   "metadata": {},
   "outputs": [],
   "source": [
    "centralities = nx.betweenness_centrality(g_text)"
   ]
  },
  {
   "cell_type": "code",
   "execution_count": 104,
   "metadata": {},
   "outputs": [],
   "source": [
    "highest_centrality_node = sorted(centralities.keys(), key=lambda x: centralities[x], reverse=True)[0]"
   ]
  },
  {
   "cell_type": "code",
   "execution_count": 105,
   "metadata": {},
   "outputs": [
    {
     "data": {
      "text/plain": [
       "1"
      ]
     },
     "execution_count": 105,
     "metadata": {},
     "output_type": "execute_result"
    }
   ],
   "source": [
    "highest_centrality_node"
   ]
  },
  {
   "cell_type": "code",
   "execution_count": 106,
   "metadata": {},
   "outputs": [
    {
     "data": {
      "text/plain": [
       "'Desi Perkins'"
      ]
     },
     "execution_count": 106,
     "metadata": {},
     "output_type": "execute_result"
    }
   ],
   "source": [
    "{v:k for k,v in channel_to_index.items()}[highest_centrality_node]"
   ]
  },
  {
   "cell_type": "code",
   "execution_count": 107,
   "metadata": {},
   "outputs": [
    {
     "data": {
      "text/html": [
       "<div>\n",
       "<style scoped>\n",
       "    .dataframe tbody tr th:only-of-type {\n",
       "        vertical-align: middle;\n",
       "    }\n",
       "\n",
       "    .dataframe tbody tr th {\n",
       "        vertical-align: top;\n",
       "    }\n",
       "\n",
       "    .dataframe thead th {\n",
       "        text-align: right;\n",
       "    }\n",
       "</style>\n",
       "<table border=\"1\" class=\"dataframe\">\n",
       "  <thead>\n",
       "    <tr style=\"text-align: right;\">\n",
       "      <th></th>\n",
       "      <th>channel</th>\n",
       "      <th>upload_date</th>\n",
       "      <th>title</th>\n",
       "      <th>tags</th>\n",
       "      <th>duration</th>\n",
       "      <th>view_count</th>\n",
       "      <th>average_rating</th>\n",
       "      <th>height</th>\n",
       "      <th>width</th>\n",
       "      <th>channel_cat</th>\n",
       "    </tr>\n",
       "  </thead>\n",
       "  <tbody>\n",
       "    <tr>\n",
       "      <th>137477</th>\n",
       "      <td>Desi Perkins</td>\n",
       "      <td>2014-05-04</td>\n",
       "      <td>EYEBROW TUTORIAL</td>\n",
       "      <td>['how to', 'makeup', 'tutorial']</td>\n",
       "      <td>528.0</td>\n",
       "      <td>16851339.0</td>\n",
       "      <td>4.922917</td>\n",
       "      <td>1080.0</td>\n",
       "      <td>1920.0</td>\n",
       "      <td>Howto &amp; Style</td>\n",
       "    </tr>\n",
       "    <tr>\n",
       "      <th>137267</th>\n",
       "      <td>Desi Perkins</td>\n",
       "      <td>2017-08-16</td>\n",
       "      <td>KIM KARDASHIAN WEST MAKEUP TUTORIAL + NEW KKW ...</td>\n",
       "      <td>[]</td>\n",
       "      <td>1499.0</td>\n",
       "      <td>8925152.0</td>\n",
       "      <td>4.888759</td>\n",
       "      <td>1080.0</td>\n",
       "      <td>1920.0</td>\n",
       "      <td>Howto &amp; Style</td>\n",
       "    </tr>\n",
       "  </tbody>\n",
       "</table>\n",
       "</div>"
      ],
      "text/plain": [
       "             channel upload_date  \\\n",
       "137477  Desi Perkins  2014-05-04   \n",
       "137267  Desi Perkins  2017-08-16   \n",
       "\n",
       "                                                    title  \\\n",
       "137477                                   EYEBROW TUTORIAL   \n",
       "137267  KIM KARDASHIAN WEST MAKEUP TUTORIAL + NEW KKW ...   \n",
       "\n",
       "                                    tags  duration  view_count  \\\n",
       "137477  ['how to', 'makeup', 'tutorial']     528.0  16851339.0   \n",
       "137267                                []    1499.0   8925152.0   \n",
       "\n",
       "        average_rating  height   width    channel_cat  \n",
       "137477        4.922917  1080.0  1920.0  Howto & Style  \n",
       "137267        4.888759  1080.0  1920.0  Howto & Style  "
      ]
     },
     "execution_count": 107,
     "metadata": {},
     "output_type": "execute_result"
    }
   ],
   "source": [
    "youtube.loc[youtube.channel == 'Desi Perkins'].sort_values('view_count', ascending=False).head(2)"
   ]
  },
  {
   "cell_type": "markdown",
   "metadata": {},
   "source": [
    "metrics is mean of the shortest path to every channel of his category"
   ]
  },
  {
   "cell_type": "code",
   "execution_count": 283,
   "metadata": {},
   "outputs": [],
   "source": [
    "# do you want me to code it?"
   ]
  },
  {
   "cell_type": "markdown",
   "metadata": {},
   "source": [
    "## C2: Going back to categories again"
   ]
  },
  {
   "cell_type": "markdown",
   "metadata": {},
   "source": [
    "1. We want to use the two graphs to cluster channels from the same category together, and we want to compare their effectiveness at doing so. Use Kernighan-Lin bisection in the networkx package (`networkx.algorithms.community.kernighan_lin_bisection`) to divide each graph into two communities. Use 42 as the random seed. For each graph, show how many members of each category fall into each of the two communities."
   ]
  },
  {
   "cell_type": "code",
   "execution_count": 284,
   "metadata": {},
   "outputs": [],
   "source": [
    "div_text=nx.algorithms.community.kernighan_lin_bisection(g_text,seed=42)\n",
    "div_tags=nx.algorithms.community.kernighan_lin_bisection(g_tags,seed=42)"
   ]
  },
  {
   "cell_type": "code",
   "execution_count": 289,
   "metadata": {},
   "outputs": [
    {
     "name": "stdout",
     "output_type": "stream",
     "text": [
      "Text partition 97 97\n",
      "Tags partition 97 97\n"
     ]
    }
   ],
   "source": [
    "print('Text partition',len(div_text[0]),len(div_text[0]))\n",
    "print('Tags partition',len(div_tags[0]),len(div_tags[0]))"
   ]
  },
  {
   "cell_type": "markdown",
   "metadata": {},
   "source": [
    "2. If one of these graphs were ideal for this clustering task, what would the resulting communities look like? If it were the absolute worst possible graph for the task, what would the resulting communities look like?"
   ]
  },
  {
   "cell_type": "markdown",
   "metadata": {},
   "source": [
    "For ideal case communities would be split as categories \n",
    "For the worst case it would be split 50/50"
   ]
  },
  {
   "cell_type": "markdown",
   "metadata": {},
   "source": [
    "3. Calculate the probability $P(community|category)$ for each community and category within each graph. Design a metric, using the four $P(community|category)$ values in a graph, whose value would be 1 for the ideal graph and 0 for the worst graph. Calculate this metric for both graphs and compare the two. What do the results say about how representative tags and descriptions are regarding the channel categories? Are tags better suited, or descriptions?"
   ]
  },
  {
   "cell_type": "markdown",
   "metadata": {},
   "source": [
    "## C2.3\n",
    "Check the results in C2.1, the percentages were provided as well.\n",
    "\n",
    "For the metric, one could be:\n",
    "$$1 - 2*min_{community, category}\\{P(community|category)\\}$$\n",
    "\n",
    "which would yield 1 if one of the probabilities is 0, and yield 0 if they are all 0.5.\n",
    "\n",
    "For the two graphs we have, they can simply spot the minimum and calculate this metric, which would yield the following:"
   ]
  },
  {
   "cell_type": "markdown",
   "metadata": {},
   "source": [
    "matrix community over category  like a confusion matrix and accuracy would be the metrics"
   ]
  },
  {
   "cell_type": "code",
   "execution_count": 307,
   "metadata": {},
   "outputs": [],
   "source": [
    "categories=youtube[['channel','channel_cat']].groupby('channel').agg(lambda x: x.iloc[0]).reset_index()"
   ]
  },
  {
   "cell_type": "code",
   "execution_count": 317,
   "metadata": {},
   "outputs": [],
   "source": [
    "partition=pd.DataFrame(index=channel_to_index.keys(),data=channel_to_index.values(),columns=['number']).reset_index()\n",
    "partition.columns=['channel','number']\n",
    "partition=partition.merge(categories,on='channel')"
   ]
  },
  {
   "cell_type": "code",
   "execution_count": 320,
   "metadata": {},
   "outputs": [],
   "source": [
    "partition['text_community']=partition.number.apply(lambda x: len(div_text[1].intersection({x})))\n",
    "partition['tags_community']=partition.number.apply(lambda x: len(div_tags[1].intersection({x})))"
   ]
  },
  {
   "cell_type": "code",
   "execution_count": 331,
   "metadata": {},
   "outputs": [
    {
     "name": "stdout",
     "output_type": "stream",
     "text": [
      "0.5\n"
     ]
    },
    {
     "data": {
      "text/html": [
       "<div>\n",
       "<style scoped>\n",
       "    .dataframe tbody tr th:only-of-type {\n",
       "        vertical-align: middle;\n",
       "    }\n",
       "\n",
       "    .dataframe tbody tr th {\n",
       "        vertical-align: top;\n",
       "    }\n",
       "\n",
       "    .dataframe thead th {\n",
       "        text-align: right;\n",
       "    }\n",
       "</style>\n",
       "<table border=\"1\" class=\"dataframe\">\n",
       "  <thead>\n",
       "    <tr style=\"text-align: right;\">\n",
       "      <th></th>\n",
       "      <th>0</th>\n",
       "      <th>1</th>\n",
       "    </tr>\n",
       "  </thead>\n",
       "  <tbody>\n",
       "    <tr>\n",
       "      <th>Gaming</th>\n",
       "      <td>0.494949</td>\n",
       "      <td>0.505051</td>\n",
       "    </tr>\n",
       "    <tr>\n",
       "      <th>Howto</th>\n",
       "      <td>0.500000</td>\n",
       "      <td>0.500000</td>\n",
       "    </tr>\n",
       "  </tbody>\n",
       "</table>\n",
       "</div>"
      ],
      "text/plain": [
       "               0         1\n",
       "Gaming  0.494949  0.505051\n",
       "Howto   0.500000  0.500000"
      ]
     },
     "execution_count": 331,
     "metadata": {},
     "output_type": "execute_result"
    }
   ],
   "source": [
    "prob=pd.DataFrame(index=['Gaming','Howto'],columns=[0,1])\n",
    "prob.iloc[0,0]=len(partition[(partition.channel_cat=='Gaming') & (partition.text_community==0)])/len(partition[(partition.channel_cat=='Gaming')])\n",
    "prob.iloc[0,1]=len(partition[(partition.channel_cat=='Gaming') & (partition.text_community==1)])/len(partition[(partition.channel_cat=='Gaming')])\n",
    "prob.iloc[1,0]=len(partition[(partition.channel_cat=='Howto & Style') & (partition.text_community==0)])/len(partition[(partition.channel_cat=='Howto & Style')])\n",
    "prob.iloc[1,1]=len(partition[(partition.channel_cat=='Howto & Style') & (partition.text_community==1)])/len(partition[(partition.channel_cat=='Howto & Style')])\n",
    "print((prob.iloc[1,1]+prob.iloc[1,1])/prob.sum().sum())\n",
    "prob"
   ]
  },
  {
   "cell_type": "code",
   "execution_count": 330,
   "metadata": {},
   "outputs": [
    {
     "name": "stdout",
     "output_type": "stream",
     "text": [
      "0.6060606060606061\n"
     ]
    },
    {
     "data": {
      "text/html": [
       "<div>\n",
       "<style scoped>\n",
       "    .dataframe tbody tr th:only-of-type {\n",
       "        vertical-align: middle;\n",
       "    }\n",
       "\n",
       "    .dataframe tbody tr th {\n",
       "        vertical-align: top;\n",
       "    }\n",
       "\n",
       "    .dataframe thead th {\n",
       "        text-align: right;\n",
       "    }\n",
       "</style>\n",
       "<table border=\"1\" class=\"dataframe\">\n",
       "  <thead>\n",
       "    <tr style=\"text-align: right;\">\n",
       "      <th></th>\n",
       "      <th>0</th>\n",
       "      <th>1</th>\n",
       "    </tr>\n",
       "  </thead>\n",
       "  <tbody>\n",
       "    <tr>\n",
       "      <th>Gaming</th>\n",
       "      <td>0.606061</td>\n",
       "      <td>0.393939</td>\n",
       "    </tr>\n",
       "    <tr>\n",
       "      <th>Howto</th>\n",
       "      <td>0.385417</td>\n",
       "      <td>0.614583</td>\n",
       "    </tr>\n",
       "  </tbody>\n",
       "</table>\n",
       "</div>"
      ],
      "text/plain": [
       "               0         1\n",
       "Gaming  0.606061  0.393939\n",
       "Howto   0.385417  0.614583"
      ]
     },
     "execution_count": 330,
     "metadata": {},
     "output_type": "execute_result"
    }
   ],
   "source": [
    "prob=pd.DataFrame(index=['Gaming','Howto'],columns=[0,1])\n",
    "prob.iloc[0,0]=len(partition[(partition.channel_cat=='Gaming') & (partition.tags_community==0)])/len(partition[(partition.channel_cat=='Gaming')])\n",
    "prob.iloc[0,1]=len(partition[(partition.channel_cat=='Gaming') & (partition.tags_community==1)])/len(partition[(partition.channel_cat=='Gaming')])\n",
    "prob.iloc[1,0]=len(partition[(partition.channel_cat=='Howto & Style') & (partition.tags_community==0)])/len(partition[(partition.channel_cat=='Howto & Style')])\n",
    "prob.iloc[1,1]=len(partition[(partition.channel_cat=='Howto & Style') & (partition.tags_community==1)])/len(partition[(partition.channel_cat=='Howto & Style')])\n",
    "print((prob.iloc[0,0]+prob.iloc[0,0])/prob.sum().sum())\n",
    "prob"
   ]
  },
  {
   "cell_type": "markdown",
   "metadata": {},
   "source": [
    "4. The Kernighan-Lin bisection you used above performs a min-edge cut: It attempts to partition the nodes of the graph into two sets of almost-equal size by deleting as few edges as possible. It starts off by creating a random partition of the nodes of the graph into two sets A and B that are almost equal in size, and then iteratively and in a greedy fashion moves nodes between A and B to reduce the number of edges between A and B. Show at least one toy example of a graph where the initialization could also be the final result. (Hint: Think of how, as we explained, the bisection algorithm relies on a minimum edge cut with a random initialization; under what circumstances could the original A and B be the best partition given that graph?)"
   ]
  },
  {
   "cell_type": "code",
   "execution_count": null,
   "metadata": {},
   "outputs": [],
   "source": []
  }
 ],
 "metadata": {
  "kernelspec": {
   "display_name": "Python 3",
   "language": "python",
   "name": "python3"
  },
  "language_info": {
   "codemirror_mode": {
    "name": "ipython",
    "version": 3
   },
   "file_extension": ".py",
   "mimetype": "text/x-python",
   "name": "python",
   "nbconvert_exporter": "python",
   "pygments_lexer": "ipython3",
   "version": "3.8.5"
  }
 },
 "nbformat": 4,
 "nbformat_minor": 4
}
