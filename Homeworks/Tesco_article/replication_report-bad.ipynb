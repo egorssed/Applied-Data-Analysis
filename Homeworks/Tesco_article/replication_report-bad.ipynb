{
 "cells": [
  {
   "cell_type": "code",
   "execution_count": 1,
   "metadata": {},
   "outputs": [],
   "source": [
    "import os\n",
    "import pandas as pd\n",
    "import numpy as np"
   ]
  },
  {
   "cell_type": "markdown",
   "metadata": {},
   "source": [
    "# Milestone P2"
   ]
  },
  {
   "cell_type": "markdown",
   "metadata": {},
   "source": [
    "## Collecting and understanding data structure"
   ]
  },
  {
   "cell_type": "markdown",
   "metadata": {},
   "source": [
    "\"os\" library automatically chooses '/' or '\\' to represent path to a file depending on operational system"
   ]
  },
  {
   "cell_type": "code",
   "execution_count": 2,
   "metadata": {},
   "outputs": [],
   "source": [
    "data_folder = 'data'\n",
    "Diabetes_data=os.path.join(data_folder,'diabetes_estimates_osward_2016.csv')\n",
    "Groceries_data=os.path.join(data_folder,'year_osward_grocery.csv')\n",
    "\n",
    "#collecting data\n",
    "#error_bad_lines sets system to neglect lines with too many fields\n",
    "Diabetes=pd.read_csv(Diabetes_data, error_bad_lines=False)\n",
    "Groceries=pd.read_csv(Groceries_data, error_bad_lines=False)"
   ]
  },
  {
   "cell_type": "code",
   "execution_count": 20,
   "metadata": {},
   "outputs": [
    {
     "data": {
      "text/html": [
       "<div>\n",
       "<style scoped>\n",
       "    .dataframe tbody tr th:only-of-type {\n",
       "        vertical-align: middle;\n",
       "    }\n",
       "\n",
       "    .dataframe tbody tr th {\n",
       "        vertical-align: top;\n",
       "    }\n",
       "\n",
       "    .dataframe thead th {\n",
       "        text-align: right;\n",
       "    }\n",
       "</style>\n",
       "<table border=\"1\" class=\"dataframe\">\n",
       "  <thead>\n",
       "    <tr style=\"text-align: right;\">\n",
       "      <th></th>\n",
       "      <th>area_id</th>\n",
       "      <th>gp_patients</th>\n",
       "      <th>gp_patients_diabetes</th>\n",
       "      <th>estimated_diabetes_prevalence</th>\n",
       "    </tr>\n",
       "  </thead>\n",
       "  <tbody>\n",
       "    <tr>\n",
       "      <th>0</th>\n",
       "      <td>E05000026</td>\n",
       "      <td>13136</td>\n",
       "      <td>1068</td>\n",
       "      <td>8.1</td>\n",
       "    </tr>\n",
       "    <tr>\n",
       "      <th>1</th>\n",
       "      <td>E05000027</td>\n",
       "      <td>8954</td>\n",
       "      <td>631</td>\n",
       "      <td>7.0</td>\n",
       "    </tr>\n",
       "    <tr>\n",
       "      <th>2</th>\n",
       "      <td>E05000028</td>\n",
       "      <td>12032</td>\n",
       "      <td>958</td>\n",
       "      <td>8.0</td>\n",
       "    </tr>\n",
       "    <tr>\n",
       "      <th>3</th>\n",
       "      <td>E05000029</td>\n",
       "      <td>8853</td>\n",
       "      <td>700</td>\n",
       "      <td>7.9</td>\n",
       "    </tr>\n",
       "    <tr>\n",
       "      <th>4</th>\n",
       "      <td>E05000030</td>\n",
       "      <td>8813</td>\n",
       "      <td>640</td>\n",
       "      <td>7.3</td>\n",
       "    </tr>\n",
       "  </tbody>\n",
       "</table>\n",
       "</div>"
      ],
      "text/plain": [
       "     area_id  gp_patients  gp_patients_diabetes  estimated_diabetes_prevalence\n",
       "0  E05000026        13136                  1068                            8.1\n",
       "1  E05000027         8954                   631                            7.0\n",
       "2  E05000028        12032                   958                            8.0\n",
       "3  E05000029         8853                   700                            7.9\n",
       "4  E05000030         8813                   640                            7.3"
      ]
     },
     "execution_count": 20,
     "metadata": {},
     "output_type": "execute_result"
    }
   ],
   "source": [
    "#Let's take a look at the data we have\n",
    "Diabetes.head()"
   ]
  },
  {
   "cell_type": "code",
   "execution_count": 21,
   "metadata": {
    "scrolled": true
   },
   "outputs": [
    {
     "data": {
      "text/html": [
       "<div>\n",
       "<style scoped>\n",
       "    .dataframe tbody tr th:only-of-type {\n",
       "        vertical-align: middle;\n",
       "    }\n",
       "\n",
       "    .dataframe tbody tr th {\n",
       "        vertical-align: top;\n",
       "    }\n",
       "\n",
       "    .dataframe thead th {\n",
       "        text-align: right;\n",
       "    }\n",
       "</style>\n",
       "<table border=\"1\" class=\"dataframe\">\n",
       "  <thead>\n",
       "    <tr style=\"text-align: right;\">\n",
       "      <th></th>\n",
       "      <th>area_id</th>\n",
       "      <th>weight</th>\n",
       "      <th>weight_perc2.5</th>\n",
       "      <th>weight_perc25</th>\n",
       "      <th>weight_perc50</th>\n",
       "      <th>weight_perc75</th>\n",
       "      <th>weight_perc97.5</th>\n",
       "      <th>weight_std</th>\n",
       "      <th>weight_ci95</th>\n",
       "      <th>volume</th>\n",
       "      <th>...</th>\n",
       "      <th>man_day</th>\n",
       "      <th>population</th>\n",
       "      <th>male</th>\n",
       "      <th>female</th>\n",
       "      <th>age_0_17</th>\n",
       "      <th>age_18_64</th>\n",
       "      <th>age_65+</th>\n",
       "      <th>avg_age</th>\n",
       "      <th>area_sq_km</th>\n",
       "      <th>people_per_sq_km</th>\n",
       "    </tr>\n",
       "  </thead>\n",
       "  <tbody>\n",
       "    <tr>\n",
       "      <th>0</th>\n",
       "      <td>E05000026</td>\n",
       "      <td>449.535137</td>\n",
       "      <td>32.5</td>\n",
       "      <td>166.4</td>\n",
       "      <td>300.0</td>\n",
       "      <td>500.0</td>\n",
       "      <td>1500.0</td>\n",
       "      <td>771.349423</td>\n",
       "      <td>3.716832</td>\n",
       "      <td>125.960833</td>\n",
       "      <td>...</td>\n",
       "      <td>37315</td>\n",
       "      <td>14370.0</td>\n",
       "      <td>7469.0</td>\n",
       "      <td>6901.0</td>\n",
       "      <td>4211.0</td>\n",
       "      <td>9421.0</td>\n",
       "      <td>738.0</td>\n",
       "      <td>29.572999</td>\n",
       "      <td>1.26</td>\n",
       "      <td>11404.761905</td>\n",
       "    </tr>\n",
       "    <tr>\n",
       "      <th>1</th>\n",
       "      <td>E05000027</td>\n",
       "      <td>413.130263</td>\n",
       "      <td>32.5</td>\n",
       "      <td>150.0</td>\n",
       "      <td>300.0</td>\n",
       "      <td>500.0</td>\n",
       "      <td>1500.0</td>\n",
       "      <td>626.395178</td>\n",
       "      <td>5.164174</td>\n",
       "      <td>110.664114</td>\n",
       "      <td>...</td>\n",
       "      <td>14474</td>\n",
       "      <td>10845.0</td>\n",
       "      <td>5228.0</td>\n",
       "      <td>5617.0</td>\n",
       "      <td>3205.0</td>\n",
       "      <td>6608.0</td>\n",
       "      <td>1032.0</td>\n",
       "      <td>33.568004</td>\n",
       "      <td>1.36</td>\n",
       "      <td>7974.264706</td>\n",
       "    </tr>\n",
       "    <tr>\n",
       "      <th>2</th>\n",
       "      <td>E05000028</td>\n",
       "      <td>407.100472</td>\n",
       "      <td>32.5</td>\n",
       "      <td>160.0</td>\n",
       "      <td>300.0</td>\n",
       "      <td>500.0</td>\n",
       "      <td>1200.0</td>\n",
       "      <td>545.890959</td>\n",
       "      <td>2.710677</td>\n",
       "      <td>121.990710</td>\n",
       "      <td>...</td>\n",
       "      <td>32138</td>\n",
       "      <td>13856.0</td>\n",
       "      <td>6750.0</td>\n",
       "      <td>7106.0</td>\n",
       "      <td>4180.0</td>\n",
       "      <td>8537.0</td>\n",
       "      <td>1139.0</td>\n",
       "      <td>32.032693</td>\n",
       "      <td>1.29</td>\n",
       "      <td>10741.085271</td>\n",
       "    </tr>\n",
       "    <tr>\n",
       "      <th>3</th>\n",
       "      <td>E05000029</td>\n",
       "      <td>384.173858</td>\n",
       "      <td>30.0</td>\n",
       "      <td>150.0</td>\n",
       "      <td>250.0</td>\n",
       "      <td>454.0</td>\n",
       "      <td>1500.0</td>\n",
       "      <td>591.837557</td>\n",
       "      <td>4.968373</td>\n",
       "      <td>122.245578</td>\n",
       "      <td>...</td>\n",
       "      <td>16223</td>\n",
       "      <td>10850.0</td>\n",
       "      <td>5300.0</td>\n",
       "      <td>5550.0</td>\n",
       "      <td>3023.0</td>\n",
       "      <td>6251.0</td>\n",
       "      <td>1576.0</td>\n",
       "      <td>36.004793</td>\n",
       "      <td>3.38</td>\n",
       "      <td>3210.059172</td>\n",
       "    </tr>\n",
       "    <tr>\n",
       "      <th>4</th>\n",
       "      <td>E05000030</td>\n",
       "      <td>356.882607</td>\n",
       "      <td>30.0</td>\n",
       "      <td>140.0</td>\n",
       "      <td>250.0</td>\n",
       "      <td>450.0</td>\n",
       "      <td>1000.0</td>\n",
       "      <td>465.284180</td>\n",
       "      <td>3.880963</td>\n",
       "      <td>109.959688</td>\n",
       "      <td>...</td>\n",
       "      <td>17522</td>\n",
       "      <td>11348.0</td>\n",
       "      <td>5515.0</td>\n",
       "      <td>5833.0</td>\n",
       "      <td>2747.0</td>\n",
       "      <td>6961.0</td>\n",
       "      <td>1640.0</td>\n",
       "      <td>37.247444</td>\n",
       "      <td>3.45</td>\n",
       "      <td>3289.275362</td>\n",
       "    </tr>\n",
       "  </tbody>\n",
       "</table>\n",
       "<p>5 rows × 202 columns</p>\n",
       "</div>"
      ],
      "text/plain": [
       "     area_id      weight  weight_perc2.5  weight_perc25  weight_perc50  \\\n",
       "0  E05000026  449.535137            32.5          166.4          300.0   \n",
       "1  E05000027  413.130263            32.5          150.0          300.0   \n",
       "2  E05000028  407.100472            32.5          160.0          300.0   \n",
       "3  E05000029  384.173858            30.0          150.0          250.0   \n",
       "4  E05000030  356.882607            30.0          140.0          250.0   \n",
       "\n",
       "   weight_perc75  weight_perc97.5  weight_std  weight_ci95      volume  ...  \\\n",
       "0          500.0           1500.0  771.349423     3.716832  125.960833  ...   \n",
       "1          500.0           1500.0  626.395178     5.164174  110.664114  ...   \n",
       "2          500.0           1200.0  545.890959     2.710677  121.990710  ...   \n",
       "3          454.0           1500.0  591.837557     4.968373  122.245578  ...   \n",
       "4          450.0           1000.0  465.284180     3.880963  109.959688  ...   \n",
       "\n",
       "   man_day  population    male  female  age_0_17  age_18_64  age_65+  \\\n",
       "0    37315     14370.0  7469.0  6901.0    4211.0     9421.0    738.0   \n",
       "1    14474     10845.0  5228.0  5617.0    3205.0     6608.0   1032.0   \n",
       "2    32138     13856.0  6750.0  7106.0    4180.0     8537.0   1139.0   \n",
       "3    16223     10850.0  5300.0  5550.0    3023.0     6251.0   1576.0   \n",
       "4    17522     11348.0  5515.0  5833.0    2747.0     6961.0   1640.0   \n",
       "\n",
       "     avg_age  area_sq_km  people_per_sq_km  \n",
       "0  29.572999        1.26      11404.761905  \n",
       "1  33.568004        1.36       7974.264706  \n",
       "2  32.032693        1.29      10741.085271  \n",
       "3  36.004793        3.38       3210.059172  \n",
       "4  37.247444        3.45       3289.275362  \n",
       "\n",
       "[5 rows x 202 columns]"
      ]
     },
     "execution_count": 21,
     "metadata": {},
     "output_type": "execute_result"
    }
   ],
   "source": [
    "Groceries.head()"
   ]
  },
  {
   "cell_type": "markdown",
   "metadata": {},
   "source": [
    "## Extracting useful groceries data"
   ]
  },
  {
   "cell_type": "markdown",
   "metadata": {},
   "source": [
    "We are looking for correlations with diabetes prevalence for the following groups:  \n",
    "the energy of nutrients and energetical entropy of nutrients. \n",
    "  \n",
    "In article corresponding columns are claimed:   \n",
    "energy_{nutrients}, h_nutrients_calories."
   ]
  },
  {
   "cell_type": "markdown",
   "metadata": {},
   "source": [
    "### Methodology"
   ]
  },
  {
   "cell_type": "markdown",
   "metadata": {},
   "source": [
    "1. Condition \"startswith\" choses all the energy_  \n",
    "2. We don't need any statistics like percentiles energy_fat_perc2.5 therefore, the second condition excludes statistics that contain two symbols '_' instead of one for the values needed  \n",
    "3. We drop energy_density since it is not needed\n",
    "4. We supplement the dataset with entropy and area_id to perform the merge and "
   ]
  },
  {
   "cell_type": "code",
   "execution_count": 22,
   "metadata": {},
   "outputs": [
    {
     "name": "stdout",
     "output_type": "stream",
     "text": [
      "Energy_nutrients columns: \n",
      " ['energy_fat', 'energy_saturate', 'energy_sugar', 'energy_protein', 'energy_carb', 'energy_fibre', 'energy_alcohol', 'energy_tot', 'energy_density']\n"
     ]
    }
   ],
   "source": [
    "energy_nutrient_columns=Groceries.columns[Groceries.columns.str.startswith('energy_') &\n",
    "                                            (Groceries.columns.str.count('_')==1)]\n",
    "\n",
    "#Let's take a look at what we have got\n",
    "print('Energy_nutrients columns: \\n',energy_nutrient_columns.to_list())"
   ]
  },
  {
   "cell_type": "code",
   "execution_count": 6,
   "metadata": {},
   "outputs": [],
   "source": [
    "#tot represents total energy\n",
    "#energy density does not refer to nutrient, hence is not needed\n",
    "energy_nutrient_columns=energy_nutrient_columns.drop('energy_density')\n",
    "\n",
    "#We also need area_id to match food data with diabetes prevalence\n",
    "#Entropy is also parameter included in the study\n",
    "Columns_Nutrient=energy_nutrient_columns.append(pd.Index(['area_id','h_nutrients_calories']))"
   ]
  },
  {
   "cell_type": "markdown",
   "metadata": {},
   "source": [
    "# Building dataframe"
   ]
  },
  {
   "cell_type": "code",
   "execution_count": 7,
   "metadata": {},
   "outputs": [
    {
     "data": {
      "text/html": [
       "<div>\n",
       "<style scoped>\n",
       "    .dataframe tbody tr th:only-of-type {\n",
       "        vertical-align: middle;\n",
       "    }\n",
       "\n",
       "    .dataframe tbody tr th {\n",
       "        vertical-align: top;\n",
       "    }\n",
       "\n",
       "    .dataframe thead th {\n",
       "        text-align: right;\n",
       "    }\n",
       "</style>\n",
       "<table border=\"1\" class=\"dataframe\">\n",
       "  <thead>\n",
       "    <tr style=\"text-align: right;\">\n",
       "      <th></th>\n",
       "      <th>energy_fat</th>\n",
       "      <th>energy_saturate</th>\n",
       "      <th>energy_sugar</th>\n",
       "      <th>energy_protein</th>\n",
       "      <th>energy_carb</th>\n",
       "      <th>energy_fibre</th>\n",
       "      <th>energy_alcohol</th>\n",
       "      <th>energy_tot</th>\n",
       "      <th>area_id</th>\n",
       "      <th>h_nutrients_calories</th>\n",
       "    </tr>\n",
       "  </thead>\n",
       "  <tbody>\n",
       "    <tr>\n",
       "      <th>0</th>\n",
       "      <td>85.399176</td>\n",
       "      <td>33.243489</td>\n",
       "      <td>43.864852</td>\n",
       "      <td>19.910240</td>\n",
       "      <td>77.527804</td>\n",
       "      <td>2.890336</td>\n",
       "      <td>1.387201</td>\n",
       "      <td>187.114757</td>\n",
       "      <td>E05000026</td>\n",
       "      <td>1.532485</td>\n",
       "    </tr>\n",
       "    <tr>\n",
       "      <th>1</th>\n",
       "      <td>87.602703</td>\n",
       "      <td>32.093215</td>\n",
       "      <td>42.057709</td>\n",
       "      <td>20.846778</td>\n",
       "      <td>75.801393</td>\n",
       "      <td>2.917849</td>\n",
       "      <td>1.469422</td>\n",
       "      <td>188.638145</td>\n",
       "      <td>E05000027</td>\n",
       "      <td>1.541202</td>\n",
       "    </tr>\n",
       "    <tr>\n",
       "      <th>2</th>\n",
       "      <td>82.946787</td>\n",
       "      <td>32.522242</td>\n",
       "      <td>42.761088</td>\n",
       "      <td>20.769647</td>\n",
       "      <td>78.648192</td>\n",
       "      <td>2.919193</td>\n",
       "      <td>1.577973</td>\n",
       "      <td>186.861792</td>\n",
       "      <td>E05000028</td>\n",
       "      <td>1.549774</td>\n",
       "    </tr>\n",
       "    <tr>\n",
       "      <th>3</th>\n",
       "      <td>87.301229</td>\n",
       "      <td>35.651376</td>\n",
       "      <td>51.754425</td>\n",
       "      <td>18.872734</td>\n",
       "      <td>80.338935</td>\n",
       "      <td>2.868373</td>\n",
       "      <td>1.402662</td>\n",
       "      <td>190.783934</td>\n",
       "      <td>E05000029</td>\n",
       "      <td>1.514848</td>\n",
       "    </tr>\n",
       "    <tr>\n",
       "      <th>4</th>\n",
       "      <td>84.436271</td>\n",
       "      <td>32.531970</td>\n",
       "      <td>45.331593</td>\n",
       "      <td>21.228013</td>\n",
       "      <td>78.325611</td>\n",
       "      <td>2.963643</td>\n",
       "      <td>1.182663</td>\n",
       "      <td>188.136201</td>\n",
       "      <td>E05000030</td>\n",
       "      <td>1.540547</td>\n",
       "    </tr>\n",
       "  </tbody>\n",
       "</table>\n",
       "</div>"
      ],
      "text/plain": [
       "   energy_fat  energy_saturate  energy_sugar  energy_protein  energy_carb  \\\n",
       "0   85.399176        33.243489     43.864852       19.910240    77.527804   \n",
       "1   87.602703        32.093215     42.057709       20.846778    75.801393   \n",
       "2   82.946787        32.522242     42.761088       20.769647    78.648192   \n",
       "3   87.301229        35.651376     51.754425       18.872734    80.338935   \n",
       "4   84.436271        32.531970     45.331593       21.228013    78.325611   \n",
       "\n",
       "   energy_fibre  energy_alcohol  energy_tot    area_id  h_nutrients_calories  \n",
       "0      2.890336        1.387201  187.114757  E05000026              1.532485  \n",
       "1      2.917849        1.469422  188.638145  E05000027              1.541202  \n",
       "2      2.919193        1.577973  186.861792  E05000028              1.549774  \n",
       "3      2.868373        1.402662  190.783934  E05000029              1.514848  \n",
       "4      2.963643        1.182663  188.136201  E05000030              1.540547  "
      ]
     },
     "execution_count": 7,
     "metadata": {},
     "output_type": "execute_result"
    }
   ],
   "source": [
    "#At this point we can create our nutrients parameters dataframe\n",
    "df_Nutrient=Groceries[Columns_Nutrient]\n",
    "df_Nutrient.head()"
   ]
  },
  {
   "cell_type": "code",
   "execution_count": 8,
   "metadata": {},
   "outputs": [
    {
     "data": {
      "text/html": [
       "<div>\n",
       "<style scoped>\n",
       "    .dataframe tbody tr th:only-of-type {\n",
       "        vertical-align: middle;\n",
       "    }\n",
       "\n",
       "    .dataframe tbody tr th {\n",
       "        vertical-align: top;\n",
       "    }\n",
       "\n",
       "    .dataframe thead th {\n",
       "        text-align: right;\n",
       "    }\n",
       "</style>\n",
       "<table border=\"1\" class=\"dataframe\">\n",
       "  <thead>\n",
       "    <tr style=\"text-align: right;\">\n",
       "      <th></th>\n",
       "      <th>energy</th>\n",
       "      <th>fat</th>\n",
       "      <th>saturate</th>\n",
       "      <th>sugar</th>\n",
       "      <th>protein</th>\n",
       "      <th>carb</th>\n",
       "      <th>fibre</th>\n",
       "      <th>alcohol</th>\n",
       "      <th>area_id</th>\n",
       "      <th>entropy</th>\n",
       "    </tr>\n",
       "  </thead>\n",
       "  <tbody>\n",
       "    <tr>\n",
       "      <th>0</th>\n",
       "      <td>187.114757</td>\n",
       "      <td>85.399176</td>\n",
       "      <td>33.243489</td>\n",
       "      <td>43.864852</td>\n",
       "      <td>19.910240</td>\n",
       "      <td>77.527804</td>\n",
       "      <td>2.890336</td>\n",
       "      <td>1.387201</td>\n",
       "      <td>E05000026</td>\n",
       "      <td>1.532485</td>\n",
       "    </tr>\n",
       "    <tr>\n",
       "      <th>1</th>\n",
       "      <td>188.638145</td>\n",
       "      <td>87.602703</td>\n",
       "      <td>32.093215</td>\n",
       "      <td>42.057709</td>\n",
       "      <td>20.846778</td>\n",
       "      <td>75.801393</td>\n",
       "      <td>2.917849</td>\n",
       "      <td>1.469422</td>\n",
       "      <td>E05000027</td>\n",
       "      <td>1.541202</td>\n",
       "    </tr>\n",
       "    <tr>\n",
       "      <th>2</th>\n",
       "      <td>186.861792</td>\n",
       "      <td>82.946787</td>\n",
       "      <td>32.522242</td>\n",
       "      <td>42.761088</td>\n",
       "      <td>20.769647</td>\n",
       "      <td>78.648192</td>\n",
       "      <td>2.919193</td>\n",
       "      <td>1.577973</td>\n",
       "      <td>E05000028</td>\n",
       "      <td>1.549774</td>\n",
       "    </tr>\n",
       "    <tr>\n",
       "      <th>3</th>\n",
       "      <td>190.783934</td>\n",
       "      <td>87.301229</td>\n",
       "      <td>35.651376</td>\n",
       "      <td>51.754425</td>\n",
       "      <td>18.872734</td>\n",
       "      <td>80.338935</td>\n",
       "      <td>2.868373</td>\n",
       "      <td>1.402662</td>\n",
       "      <td>E05000029</td>\n",
       "      <td>1.514848</td>\n",
       "    </tr>\n",
       "    <tr>\n",
       "      <th>4</th>\n",
       "      <td>188.136201</td>\n",
       "      <td>84.436271</td>\n",
       "      <td>32.531970</td>\n",
       "      <td>45.331593</td>\n",
       "      <td>21.228013</td>\n",
       "      <td>78.325611</td>\n",
       "      <td>2.963643</td>\n",
       "      <td>1.182663</td>\n",
       "      <td>E05000030</td>\n",
       "      <td>1.540547</td>\n",
       "    </tr>\n",
       "  </tbody>\n",
       "</table>\n",
       "</div>"
      ],
      "text/plain": [
       "       energy        fat   saturate      sugar    protein       carb  \\\n",
       "0  187.114757  85.399176  33.243489  43.864852  19.910240  77.527804   \n",
       "1  188.638145  87.602703  32.093215  42.057709  20.846778  75.801393   \n",
       "2  186.861792  82.946787  32.522242  42.761088  20.769647  78.648192   \n",
       "3  190.783934  87.301229  35.651376  51.754425  18.872734  80.338935   \n",
       "4  188.136201  84.436271  32.531970  45.331593  21.228013  78.325611   \n",
       "\n",
       "      fibre   alcohol    area_id   entropy  \n",
       "0  2.890336  1.387201  E05000026  1.532485  \n",
       "1  2.917849  1.469422  E05000027  1.541202  \n",
       "2  2.919193  1.577973  E05000028  1.549774  \n",
       "3  2.868373  1.402662  E05000029  1.514848  \n",
       "4  2.963643  1.182663  E05000030  1.540547  "
      ]
     },
     "execution_count": 8,
     "metadata": {},
     "output_type": "execute_result"
    }
   ],
   "source": [
    "#Now we can give more concise names to the columns\n",
    "df_Nutrient.columns=df_Nutrient.columns.str.replace('energy_','')\n",
    "df_Nutrient=df_Nutrient.rename(columns={\"tot\": \"energy\",\"h_nutrients_calories\":\"entropy\"})\n",
    "\n",
    "#And replace 'energy' to the front as it is on the figure\n",
    "Columns_Nutrient=df_Nutrient.columns.to_list()\n",
    "Columns_Nutrient.insert(0, Columns_Nutrient.pop(Columns_Nutrient.index('energy')))\n",
    "df_Nutrient=df_Nutrient.loc[:,Columns_Nutrient]\n",
    "df_Nutrient.head()"
   ]
  },
  {
   "cell_type": "markdown",
   "metadata": {},
   "source": [
    "# Adding diabetes prevalence"
   ]
  },
  {
   "cell_type": "markdown",
   "metadata": {},
   "source": [
    "We need only two columns from the Diabetes dataframe:  \n",
    "'area_id' is needed to refer typical product parameters to diabetes prevalence by geographic area  \n",
    "'estimated_diabetes_prevalence' contain diabetes information we need"
   ]
  },
  {
   "cell_type": "code",
   "execution_count": 9,
   "metadata": {},
   "outputs": [],
   "source": [
    "#area_id and prevalence data\n",
    "Diabetes_prevalence_for_area=Diabetes[['area_id','estimated_diabetes_prevalence']]\n",
    "\n",
    "#Merging Diabetes and Nutrients dataframe on 'area_id'\n",
    "#It is important to do merge to get intersection, having all the necessary parameters\n",
    "df_Nutrient=df_Nutrient.merge(Diabetes_prevalence_for_area,on='area_id')"
   ]
  },
  {
   "cell_type": "code",
   "execution_count": 10,
   "metadata": {
    "scrolled": true
   },
   "outputs": [
    {
     "data": {
      "text/html": [
       "<div>\n",
       "<style scoped>\n",
       "    .dataframe tbody tr th:only-of-type {\n",
       "        vertical-align: middle;\n",
       "    }\n",
       "\n",
       "    .dataframe tbody tr th {\n",
       "        vertical-align: top;\n",
       "    }\n",
       "\n",
       "    .dataframe thead th {\n",
       "        text-align: right;\n",
       "    }\n",
       "</style>\n",
       "<table border=\"1\" class=\"dataframe\">\n",
       "  <thead>\n",
       "    <tr style=\"text-align: right;\">\n",
       "      <th></th>\n",
       "      <th>energy</th>\n",
       "      <th>fat</th>\n",
       "      <th>saturate</th>\n",
       "      <th>sugar</th>\n",
       "      <th>protein</th>\n",
       "      <th>carb</th>\n",
       "      <th>fibre</th>\n",
       "      <th>alcohol</th>\n",
       "      <th>entropy</th>\n",
       "      <th>estimated_diabetes_prevalence</th>\n",
       "    </tr>\n",
       "  </thead>\n",
       "  <tbody>\n",
       "    <tr>\n",
       "      <th>0</th>\n",
       "      <td>187.114757</td>\n",
       "      <td>85.399176</td>\n",
       "      <td>33.243489</td>\n",
       "      <td>43.864852</td>\n",
       "      <td>19.910240</td>\n",
       "      <td>77.527804</td>\n",
       "      <td>2.890336</td>\n",
       "      <td>1.387201</td>\n",
       "      <td>1.532485</td>\n",
       "      <td>8.1</td>\n",
       "    </tr>\n",
       "    <tr>\n",
       "      <th>1</th>\n",
       "      <td>188.638145</td>\n",
       "      <td>87.602703</td>\n",
       "      <td>32.093215</td>\n",
       "      <td>42.057709</td>\n",
       "      <td>20.846778</td>\n",
       "      <td>75.801393</td>\n",
       "      <td>2.917849</td>\n",
       "      <td>1.469422</td>\n",
       "      <td>1.541202</td>\n",
       "      <td>7.0</td>\n",
       "    </tr>\n",
       "    <tr>\n",
       "      <th>2</th>\n",
       "      <td>186.861792</td>\n",
       "      <td>82.946787</td>\n",
       "      <td>32.522242</td>\n",
       "      <td>42.761088</td>\n",
       "      <td>20.769647</td>\n",
       "      <td>78.648192</td>\n",
       "      <td>2.919193</td>\n",
       "      <td>1.577973</td>\n",
       "      <td>1.549774</td>\n",
       "      <td>8.0</td>\n",
       "    </tr>\n",
       "    <tr>\n",
       "      <th>3</th>\n",
       "      <td>190.783934</td>\n",
       "      <td>87.301229</td>\n",
       "      <td>35.651376</td>\n",
       "      <td>51.754425</td>\n",
       "      <td>18.872734</td>\n",
       "      <td>80.338935</td>\n",
       "      <td>2.868373</td>\n",
       "      <td>1.402662</td>\n",
       "      <td>1.514848</td>\n",
       "      <td>7.9</td>\n",
       "    </tr>\n",
       "    <tr>\n",
       "      <th>4</th>\n",
       "      <td>188.136201</td>\n",
       "      <td>84.436271</td>\n",
       "      <td>32.531970</td>\n",
       "      <td>45.331593</td>\n",
       "      <td>21.228013</td>\n",
       "      <td>78.325611</td>\n",
       "      <td>2.963643</td>\n",
       "      <td>1.182663</td>\n",
       "      <td>1.540547</td>\n",
       "      <td>7.3</td>\n",
       "    </tr>\n",
       "  </tbody>\n",
       "</table>\n",
       "</div>"
      ],
      "text/plain": [
       "       energy        fat   saturate      sugar    protein       carb  \\\n",
       "0  187.114757  85.399176  33.243489  43.864852  19.910240  77.527804   \n",
       "1  188.638145  87.602703  32.093215  42.057709  20.846778  75.801393   \n",
       "2  186.861792  82.946787  32.522242  42.761088  20.769647  78.648192   \n",
       "3  190.783934  87.301229  35.651376  51.754425  18.872734  80.338935   \n",
       "4  188.136201  84.436271  32.531970  45.331593  21.228013  78.325611   \n",
       "\n",
       "      fibre   alcohol   entropy  estimated_diabetes_prevalence  \n",
       "0  2.890336  1.387201  1.532485                            8.1  \n",
       "1  2.917849  1.469422  1.541202                            7.0  \n",
       "2  2.919193  1.577973  1.549774                            8.0  \n",
       "3  2.868373  1.402662  1.514848                            7.9  \n",
       "4  2.963643  1.182663  1.540547                            7.3  "
      ]
     },
     "execution_count": 10,
     "metadata": {},
     "output_type": "execute_result"
    }
   ],
   "source": [
    "#Now we can drop 'area_id' and remain with dataframe containing only the data needed for the figure\n",
    "df_Nutrient=df_Nutrient.drop('area_id',axis=1)\n",
    "df_Nutrient.head()"
   ]
  },
  {
   "cell_type": "markdown",
   "metadata": {},
   "source": [
    "# Statistical analysis"
   ]
  },
  {
   "cell_type": "code",
   "execution_count": 11,
   "metadata": {},
   "outputs": [],
   "source": [
    "from scipy import stats\n",
    "\n",
    "#We represent the correlation results in separate dataframe\n",
    "df_Spearman_results=pd.DataFrame(columns=df_Nutrient.columns)\n",
    "\n",
    "#stats.spearmanr calculates a matrix of correlations and p-values for every column\n",
    "Correlation_matrix,p_value_matrix=stats.spearmanr(df_Nutrient)"
   ]
  },
  {
   "cell_type": "code",
   "execution_count": 12,
   "metadata": {},
   "outputs": [],
   "source": [
    "#We are looking for correlation of diabetes prevalence with all the other data\n",
    "#Diabetes prevalence corresponds to the last column, hence Index=-1\n",
    "df_Spearman_results.loc['Сorrelation']=Correlation_matrix[-1]\n",
    "df_Spearman_results.loc['p_value']=p_value_matrix[-1]\n",
    "\n",
    "#Obviously we don't need correlation of prevalence with itself\n",
    "df_Spearman_results=df_Spearman_results.drop('estimated_diabetes_prevalence',axis=1)\n",
    "\n",
    "#All statistically insignificant correlations also have to be excluded\n",
    "Significant_correlation_columns=np.where(df_Spearman_results.loc['p_value']<0.05)[0]\n",
    "df_Spearman_results=df_Spearman_results.iloc[:,Significant_correlation_columns]"
   ]
  },
  {
   "cell_type": "code",
   "execution_count": 13,
   "metadata": {},
   "outputs": [
    {
     "data": {
      "text/html": [
       "<div>\n",
       "<style scoped>\n",
       "    .dataframe tbody tr th:only-of-type {\n",
       "        vertical-align: middle;\n",
       "    }\n",
       "\n",
       "    .dataframe tbody tr th {\n",
       "        vertical-align: top;\n",
       "    }\n",
       "\n",
       "    .dataframe thead th {\n",
       "        text-align: right;\n",
       "    }\n",
       "</style>\n",
       "<table border=\"1\" class=\"dataframe\">\n",
       "  <thead>\n",
       "    <tr style=\"text-align: right;\">\n",
       "      <th></th>\n",
       "      <th>energy</th>\n",
       "      <th>fat</th>\n",
       "      <th>saturate</th>\n",
       "      <th>sugar</th>\n",
       "      <th>protein</th>\n",
       "      <th>carb</th>\n",
       "      <th>fibre</th>\n",
       "      <th>alcohol</th>\n",
       "      <th>entropy</th>\n",
       "    </tr>\n",
       "  </thead>\n",
       "  <tbody>\n",
       "    <tr>\n",
       "      <th>Сorrelation</th>\n",
       "      <td>5.841405e-01</td>\n",
       "      <td>3.646669e-01</td>\n",
       "      <td>3.559264e-01</td>\n",
       "      <td>5.340640e-01</td>\n",
       "      <td>-4.676267e-01</td>\n",
       "      <td>6.847577e-01</td>\n",
       "      <td>-4.951358e-01</td>\n",
       "      <td>-5.634446e-01</td>\n",
       "      <td>-7.747505e-01</td>\n",
       "    </tr>\n",
       "    <tr>\n",
       "      <th>p_value</th>\n",
       "      <td>2.356365e-51</td>\n",
       "      <td>1.200295e-18</td>\n",
       "      <td>8.833646e-18</td>\n",
       "      <td>1.162068e-41</td>\n",
       "      <td>4.544949e-31</td>\n",
       "      <td>6.444415e-77</td>\n",
       "      <td>3.564107e-35</td>\n",
       "      <td>3.794913e-47</td>\n",
       "      <td>1.363513e-110</td>\n",
       "    </tr>\n",
       "  </tbody>\n",
       "</table>\n",
       "</div>"
      ],
      "text/plain": [
       "                   energy           fat      saturate         sugar  \\\n",
       "Сorrelation  5.841405e-01  3.646669e-01  3.559264e-01  5.340640e-01   \n",
       "p_value      2.356365e-51  1.200295e-18  8.833646e-18  1.162068e-41   \n",
       "\n",
       "                  protein          carb         fibre       alcohol  \\\n",
       "Сorrelation -4.676267e-01  6.847577e-01 -4.951358e-01 -5.634446e-01   \n",
       "p_value      4.544949e-31  6.444415e-77  3.564107e-35  3.794913e-47   \n",
       "\n",
       "                   entropy  \n",
       "Сorrelation  -7.747505e-01  \n",
       "p_value      1.363513e-110  "
      ]
     },
     "execution_count": 13,
     "metadata": {},
     "output_type": "execute_result"
    }
   ],
   "source": [
    "#Result correlations dataframe\n",
    "df_Spearman_results"
   ]
  },
  {
   "cell_type": "markdown",
   "metadata": {},
   "source": [
    "# Data visualization"
   ]
  },
  {
   "cell_type": "code",
   "execution_count": 14,
   "metadata": {},
   "outputs": [],
   "source": [
    "import matplotlib.pyplot as plt\n",
    "\n",
    "Food_estimators=df_Spearman_results.columns\n",
    "Correlations=df_Spearman_results.loc['Сorrelation']"
   ]
  },
  {
   "cell_type": "code",
   "execution_count": 15,
   "metadata": {},
   "outputs": [
    {
     "data": {
      "image/png": "[encoded data removed]",
      "text/plain": [
       "<Figure size 432x288 with 1 Axes>"
      ]
     },
     "metadata": {
      "needs_background": "light"
     },
     "output_type": "display_data"
    }
   ],
   "source": [
    "#Represent positive correlations with blue (C0) and negative with orange (C1)\n",
    "#We use default matplotlib colors C0 and C1 as they are the most convenient\n",
    "#regardless of color blindness\n",
    "colors=np.full(len(Correlations),'C0')\n",
    "colors[Correlations<0]='C1'\n",
    "\n",
    "plt.bar(Food_estimators,Correlations,color=colors)\n",
    "plt.xticks(rotation=90)\n",
    "\n",
    "\n",
    "# R for spearman correlation\n",
    "plt.ylabel('R')\n",
    "plt.title('Diabetes prevalence')\n",
    "plt.show()"
   ]
  },
  {
   "cell_type": "markdown",
   "metadata": {},
   "source": [
    "# P.S. Discussion"
   ]
  },
  {
   "cell_type": "markdown",
   "metadata": {},
   "source": [
    "The figure in the article is slightly different. They do not represent the correlation with alcohol. Probably, because alcohol is not the everyday nutrient that we get energy from. Perhaps,\n",
    "because people can make wrong conclusions leading towards an unhealthy lifestyle."
   ]
  },
  {
   "cell_type": "markdown",
   "metadata": {},
   "source": [
    "If I am right, I agree with their decision. Especially, given the fact, that, unfortunately, a friend of mine is an example of how diabetes and alcohol can support each other rather than oppose."
   ]
  },
  {
   "cell_type": "markdown",
   "metadata": {},
   "source": [
    "# P.P.S. Similar figure"
   ]
  },
  {
   "cell_type": "code",
   "execution_count": 16,
   "metadata": {},
   "outputs": [],
   "source": [
    "#Anyway here is the figure similar to the one in the article\n",
    "\n",
    "df_Spearman_results=df_Spearman_results.drop('alcohol',axis=1)\n",
    "Food_estimators=df_Spearman_results.columns\n",
    "Correlations=df_Spearman_results.loc['Сorrelation']"
   ]
  },
  {
   "cell_type": "code",
   "execution_count": 17,
   "metadata": {},
   "outputs": [
    {
     "data": {
      "image/png": "[encoded data removed]",
      "text/plain": [
       "<Figure size 432x288 with 1 Axes>"
      ]
     },
     "metadata": {
      "needs_background": "light"
     },
     "output_type": "display_data"
    }
   ],
   "source": [
    "colors=np.full(len(Correlations),'C0')\n",
    "colors[Correlations<0]='C1'\n",
    "\n",
    "plt.bar(Food_estimators,Correlations,color=colors)\n",
    "plt.xticks(rotation=90)\n",
    "\n",
    "\n",
    "# R for spearman correlation\n",
    "plt.ylabel('R')\n",
    "plt.title('Diabetes prevalence')\n",
    "plt.show()"
   ]
  }
 ],
 "metadata": {
  "kernelspec": {
   "display_name": "Python 3",
   "language": "python",
   "name": "python3"
  },
  "language_info": {
   "codemirror_mode": {
    "name": "ipython",
    "version": 3
   },
   "file_extension": ".py",
   "mimetype": "text/x-python",
   "name": "python",
   "nbconvert_exporter": "python",
   "pygments_lexer": "ipython3",
   "version": "3.7.3"
  }
 },
 "nbformat": 4,
 "nbformat_minor": 2
}
